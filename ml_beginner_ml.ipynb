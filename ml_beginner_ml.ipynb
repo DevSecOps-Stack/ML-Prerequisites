{
  "cells": [
    {
      "cell_type": "markdown",
      "metadata": {
        "id": "view-in-github",
        "colab_type": "text"
      },
      "source": [
        "<a href=\"https://colab.research.google.com/github/DevSecOps-Stack/ML-Prerequisites/blob/main/ml_beginner_ml.ipynb\" target=\"_parent\"><img src=\"https://colab.research.google.com/assets/colab-badge.svg\" alt=\"Open In Colab\"/></a>"
      ]
    },
    {
      "cell_type": "markdown",
      "source": [
        "Numpy"
      ],
      "metadata": {
        "id": "U1-GigXjc4_6"
      }
    },
    {
      "cell_type": "code",
      "source": [
        "import numpy as np"
      ],
      "metadata": {
        "id": "ROsUwpgXc7w1"
      },
      "execution_count": 1,
      "outputs": []
    },
    {
      "cell_type": "markdown",
      "source": [
        "array of zeros"
      ],
      "metadata": {
        "id": "6QNRkqFqdeTG"
      }
    },
    {
      "cell_type": "code",
      "source": [
        "x = np.zeros((4,5))\n",
        "print(x)"
      ],
      "metadata": {
        "id": "CF2hzVgPdEHg",
        "outputId": "6128653f-cedc-4556-9a5c-aced185c0f90",
        "colab": {
          "base_uri": "https://localhost:8080/"
        }
      },
      "execution_count": 3,
      "outputs": [
        {
          "output_type": "stream",
          "name": "stdout",
          "text": [
            "[[0. 0. 0. 0. 0.]\n",
            " [0. 0. 0. 0. 0.]\n",
            " [0. 0. 0. 0. 0.]\n",
            " [0. 0. 0. 0. 0.]]\n"
          ]
        }
      ]
    },
    {
      "cell_type": "markdown",
      "source": [
        "array of ones"
      ],
      "metadata": {
        "id": "eMXCsyY9dhbD"
      }
    },
    {
      "cell_type": "code",
      "source": [
        "y = np.ones((4,5))\n",
        "print(y)"
      ],
      "metadata": {
        "id": "DWOnZ-Z8dNxb",
        "outputId": "70ccd332-554f-4eba-a4b8-1d9780054226",
        "colab": {
          "base_uri": "https://localhost:8080/"
        }
      },
      "execution_count": 5,
      "outputs": [
        {
          "output_type": "stream",
          "name": "stdout",
          "text": [
            "[[1. 1. 1. 1. 1.]\n",
            " [1. 1. 1. 1. 1.]\n",
            " [1. 1. 1. 1. 1.]\n",
            " [1. 1. 1. 1. 1.]]\n"
          ]
        }
      ]
    },
    {
      "cell_type": "markdown",
      "source": [
        "array of particular value"
      ],
      "metadata": {
        "id": "k2pDlOETd865"
      }
    },
    {
      "cell_type": "code",
      "source": [
        "z = np.full((4,5),5)\n",
        "print(z)"
      ],
      "metadata": {
        "id": "MM2DmwHzdaS8",
        "outputId": "9f5fbab5-7f9e-41e6-e2c5-a776104d128f",
        "colab": {
          "base_uri": "https://localhost:8080/"
        }
      },
      "execution_count": 6,
      "outputs": [
        {
          "output_type": "stream",
          "name": "stdout",
          "text": [
            "[[5 5 5 5 5]\n",
            " [5 5 5 5 5]\n",
            " [5 5 5 5 5]\n",
            " [5 5 5 5 5]]\n"
          ]
        }
      ]
    },
    {
      "cell_type": "markdown",
      "source": [
        "identity matrix"
      ],
      "metadata": {
        "id": "kWoJrG2geTlz"
      }
    },
    {
      "cell_type": "code",
      "source": [
        "a = np.eye(4)\n",
        "print(a)"
      ],
      "metadata": {
        "id": "wc-wJjA9eU-L",
        "outputId": "1fe9de95-66cb-47b9-d124-050bf5db2b23",
        "colab": {
          "base_uri": "https://localhost:8080/"
        }
      },
      "execution_count": 8,
      "outputs": [
        {
          "output_type": "stream",
          "name": "stdout",
          "text": [
            "[[1. 0. 0. 0.]\n",
            " [0. 1. 0. 0.]\n",
            " [0. 0. 1. 0.]\n",
            " [0. 0. 0. 1.]]\n"
          ]
        }
      ]
    },
    {
      "cell_type": "markdown",
      "source": [
        "create a numpy array with random values with floating values"
      ],
      "metadata": {
        "id": "wni4NsmNejqS"
      }
    },
    {
      "cell_type": "code",
      "source": [
        "b = np.random.random((3,4))\n",
        "print(b)"
      ],
      "metadata": {
        "id": "Y4wCSpukemLj",
        "outputId": "f7df4a6b-32f1-4df3-ee70-937a97bf3944",
        "colab": {
          "base_uri": "https://localhost:8080/"
        }
      },
      "execution_count": 10,
      "outputs": [
        {
          "output_type": "stream",
          "name": "stdout",
          "text": [
            "[[0.14833147 0.01144511 0.26078043 0.5793363 ]\n",
            " [0.87165065 0.52476911 0.84878946 0.41335203]\n",
            " [0.22623399 0.42088161 0.68389723 0.16473441]]\n"
          ]
        }
      ]
    },
    {
      "cell_type": "markdown",
      "source": [
        "create a numpy array with random values without floating values"
      ],
      "metadata": {
        "id": "x0UkxhsSfcdT"
      }
    },
    {
      "cell_type": "code",
      "source": [
        "c = np.random.randint(1,10,(3,4))\n",
        "print(c)"
      ],
      "metadata": {
        "id": "isP7_HDee1dx",
        "outputId": "f8361746-bc7d-4e65-cabf-7c5b51481a5e",
        "colab": {
          "base_uri": "https://localhost:8080/"
        }
      },
      "execution_count": 12,
      "outputs": [
        {
          "output_type": "stream",
          "name": "stdout",
          "text": [
            "[[2 8 9 9]\n",
            " [6 3 1 6]\n",
            " [3 7 6 8]]\n"
          ]
        }
      ]
    },
    {
      "cell_type": "markdown",
      "source": [
        "create array evenly spaces values"
      ],
      "metadata": {
        "id": "YnCDexMUfuuN"
      }
    },
    {
      "cell_type": "code",
      "source": [
        "d = np.linspace(1,10,6)\n",
        "print(d)"
      ],
      "metadata": {
        "id": "wSQpPhFhfx0C",
        "outputId": "82184e9f-fc8c-4ca5-b50c-c69985bad2f3",
        "colab": {
          "base_uri": "https://localhost:8080/"
        }
      },
      "execution_count": 14,
      "outputs": [
        {
          "output_type": "stream",
          "name": "stdout",
          "text": [
            "[ 1.   2.8  4.6  6.4  8.2 10. ]\n"
          ]
        }
      ]
    },
    {
      "cell_type": "markdown",
      "source": [
        "np.linspace(1, 10, 6):\n",
        "\n",
        "This function creates a list of numbers starting from 1 and ending at 10.\n",
        "It will create exactly 6 numbers, and these numbers will be evenly spread out between 1 and 10.\n",
        "For example, if you want to go from 1 to 10 and stop at 6 points along the way, you get numbers that are evenly spaced.\n",
        "\n",
        "print(d):\n",
        "\n",
        "This command shows you the list of numbers that were created in the step above. note : above example starts with 1 and adds 1.8 till 10."
      ],
      "metadata": {
        "id": "v209MBZijKPc"
      }
    },
    {
      "cell_type": "markdown",
      "source": [
        "array of evenly spaces values specifying the step"
      ],
      "metadata": {
        "id": "KeSZu2xpgR4M"
      }
    },
    {
      "cell_type": "code",
      "source": [
        "e = np.arange(1,10,2)\n",
        "print(e)"
      ],
      "metadata": {
        "id": "hb7qirdQgYg6",
        "outputId": "e874875c-ce18-4d4b-8aa8-087d5fc6b2ee",
        "colab": {
          "base_uri": "https://localhost:8080/"
        }
      },
      "execution_count": 16,
      "outputs": [
        {
          "output_type": "stream",
          "name": "stdout",
          "text": [
            "[1 3 5 7 9]\n"
          ]
        }
      ]
    },
    {
      "cell_type": "markdown",
      "source": [
        "Creating an Array with np.arange():\n",
        "\n",
        "np.arange(start, stop, step) is a function that generates a sequence of numbers within a specified range.\n",
        "start: The first value in the sequence (here, it's 1).\n",
        "stop: The upper bound of the sequence (here, it's 10). The sequence will not include this value.\n",
        "step: The difference between consecutive numbers in the sequence (here, it's 2).\n",
        "So, np.arange(1, 10, 2) creates an array containing the numbers: 1, 3, 5, 7, and 9.\n",
        "\n",
        "Storing the Array: The resulting array is stored in the variable e.\n",
        "\n",
        "Printing the Array: The line print(e) displays the contents of the array e on the console."
      ],
      "metadata": {
        "id": "IC4yx1o_hThn"
      }
    },
    {
      "cell_type": "markdown",
      "source": [
        "convert a list of numpy array"
      ],
      "metadata": {
        "id": "IRZA7JN5koa5"
      }
    },
    {
      "cell_type": "code",
      "source": [
        "list_2 = [1,2,3,4]\n",
        "np_array_2 = np.asarray(list_2)\n",
        "print(np_array_2)\n",
        "type(np_array_2)"
      ],
      "metadata": {
        "id": "aSCkgURXkpIZ",
        "outputId": "10a47bb3-0d56-4f96-c295-bc0eb9e71f66",
        "colab": {
          "base_uri": "https://localhost:8080/"
        }
      },
      "execution_count": 20,
      "outputs": [
        {
          "output_type": "stream",
          "name": "stdout",
          "text": [
            "[1 2 3 4]\n"
          ]
        },
        {
          "output_type": "execute_result",
          "data": {
            "text/plain": [
              "numpy.ndarray"
            ]
          },
          "metadata": {},
          "execution_count": 20
        }
      ]
    },
    {
      "cell_type": "markdown",
      "source": [
        "analysing the numpy array"
      ],
      "metadata": {
        "id": "qKhUwLiNllQ8"
      }
    },
    {
      "cell_type": "code",
      "source": [
        "c = np.random.randint(10,90,(5,5))\n",
        "print(c)\n",
        "print(c.shape)\n",
        "print(c.ndim)"
      ],
      "metadata": {
        "id": "PZ3OJ1rulo_5",
        "outputId": "2005d2d2-5fee-48f9-b5b2-615764827f83",
        "colab": {
          "base_uri": "https://localhost:8080/"
        }
      },
      "execution_count": 26,
      "outputs": [
        {
          "output_type": "stream",
          "name": "stdout",
          "text": [
            "[[21 39 70 31 20]\n",
            " [55 83 40 68 31]\n",
            " [37 38 76 14 81]\n",
            " [61 44 29 47 44]\n",
            " [87 21 41 58 57]]\n",
            "(5, 5)\n",
            "2\n"
          ]
        }
      ]
    },
    {
      "cell_type": "markdown",
      "source": [
        "number of elements in an array"
      ],
      "metadata": {
        "id": "iXm3P75MmgS3"
      }
    },
    {
      "cell_type": "code",
      "source": [
        "c = np.random.randint(10,90,(5,5))\n",
        "print(c)\n",
        "print(c.size)"
      ],
      "metadata": {
        "id": "bQTaXlZ3mfEd",
        "outputId": "51143e08-8660-4cac-ee02-dbf40e03cc8c",
        "colab": {
          "base_uri": "https://localhost:8080/"
        }
      },
      "execution_count": 27,
      "outputs": [
        {
          "output_type": "stream",
          "name": "stdout",
          "text": [
            "[[79 51 82 43 31]\n",
            " [80 38 29 38 65]\n",
            " [87 64 66 73 32]\n",
            " [70 10 24 13 84]\n",
            " [51 38 56 30 40]]\n",
            "25\n"
          ]
        }
      ]
    },
    {
      "cell_type": "markdown",
      "source": [
        "checking the datatypes of values in the array"
      ],
      "metadata": {
        "id": "Pr4hHqi-nicw"
      }
    },
    {
      "cell_type": "code",
      "source": [
        "c = np.random.randint(10,90,(5,5))\n",
        "print(c)\n",
        "print(c.dtype)"
      ],
      "metadata": {
        "id": "vcYVESdSniKc",
        "outputId": "a5a48f9c-b8cf-4b64-b1a9-230126ac3d11",
        "colab": {
          "base_uri": "https://localhost:8080/"
        }
      },
      "execution_count": 28,
      "outputs": [
        {
          "output_type": "stream",
          "name": "stdout",
          "text": [
            "[[69 21 18 26 31]\n",
            " [67 37 77 60 10]\n",
            " [75 11 47 61 57]\n",
            " [42 82 64 89 51]\n",
            " [42 54 87 85 49]]\n",
            "int64\n"
          ]
        }
      ]
    },
    {
      "cell_type": "markdown",
      "source": [
        "math operations"
      ],
      "metadata": {
        "id": "dUZRB6LHoInr"
      }
    },
    {
      "cell_type": "code",
      "source": [
        "list_1 = [1, 2, 3, 4, 5]\n",
        "list_2 = [6, 7, 8, 9, 10]\n",
        "print(list_1 + list_2)"
      ],
      "metadata": {
        "id": "JdntS7q-oKVP",
        "outputId": "da8c757a-26b8-4ed3-ec4e-d33ccce2deb9",
        "colab": {
          "base_uri": "https://localhost:8080/"
        }
      },
      "execution_count": 29,
      "outputs": [
        {
          "output_type": "stream",
          "name": "stdout",
          "text": [
            "[1, 2, 3, 4, 5, 6, 7, 8, 9, 10]\n"
          ]
        }
      ]
    },
    {
      "cell_type": "code",
      "source": [
        "a = np.random.randint(0,10,(3,3))\n",
        "b = np.random.randint(10,20,(3,3))\n",
        "print(a)\n",
        "print(b)"
      ],
      "metadata": {
        "id": "NZpvDqi7oVSn",
        "outputId": "d50ecf5f-257c-4964-cf3f-d8aa217805f1",
        "colab": {
          "base_uri": "https://localhost:8080/"
        }
      },
      "execution_count": 30,
      "outputs": [
        {
          "output_type": "stream",
          "name": "stdout",
          "text": [
            "[[1 7 4]\n",
            " [3 4 1]\n",
            " [6 3 6]]\n",
            "[[14 15 14]\n",
            " [16 12 17]\n",
            " [13 19 18]]\n"
          ]
        }
      ]
    },
    {
      "cell_type": "code",
      "source": [
        "print(a+b)"
      ],
      "metadata": {
        "id": "Hye2ORxgoqkc",
        "outputId": "34553d24-d626-4c79-9e1d-d8772abbc267",
        "colab": {
          "base_uri": "https://localhost:8080/"
        }
      },
      "execution_count": 31,
      "outputs": [
        {
          "output_type": "stream",
          "name": "stdout",
          "text": [
            "[[15 22 18]\n",
            " [19 16 18]\n",
            " [19 22 24]]\n"
          ]
        }
      ]
    },
    {
      "cell_type": "code",
      "source": [
        "print(a-b)"
      ],
      "metadata": {
        "id": "UD9edKA4oxka",
        "outputId": "cb061055-560c-4e3f-e778-8a80701cc1d3",
        "colab": {
          "base_uri": "https://localhost:8080/"
        }
      },
      "execution_count": 32,
      "outputs": [
        {
          "output_type": "stream",
          "name": "stdout",
          "text": [
            "[[-13  -8 -10]\n",
            " [-13  -8 -16]\n",
            " [ -7 -16 -12]]\n"
          ]
        }
      ]
    },
    {
      "cell_type": "code",
      "source": [
        "print(a*b)"
      ],
      "metadata": {
        "id": "zjNlHTV6oz9N",
        "outputId": "b09090b2-4078-4781-aff7-77bc66c59224",
        "colab": {
          "base_uri": "https://localhost:8080/"
        }
      },
      "execution_count": 33,
      "outputs": [
        {
          "output_type": "stream",
          "name": "stdout",
          "text": [
            "[[ 14 105  56]\n",
            " [ 48  48  17]\n",
            " [ 78  57 108]]\n"
          ]
        }
      ]
    },
    {
      "cell_type": "code",
      "source": [
        "print(a/b)"
      ],
      "metadata": {
        "id": "QTA7j4Wzo2h5",
        "outputId": "7bd2a137-075c-4999-d31d-582d6ed965b2",
        "colab": {
          "base_uri": "https://localhost:8080/"
        }
      },
      "execution_count": 34,
      "outputs": [
        {
          "output_type": "stream",
          "name": "stdout",
          "text": [
            "[[0.07142857 0.46666667 0.28571429]\n",
            " [0.1875     0.33333333 0.05882353]\n",
            " [0.46153846 0.15789474 0.33333333]]\n"
          ]
        }
      ]
    },
    {
      "cell_type": "code",
      "source": [
        "print(np.add(a,b))"
      ],
      "metadata": {
        "id": "jQ-c3blOo6uF",
        "outputId": "edbe39fa-1812-41e9-937c-19ac77038f6d",
        "colab": {
          "base_uri": "https://localhost:8080/"
        }
      },
      "execution_count": 35,
      "outputs": [
        {
          "output_type": "stream",
          "name": "stdout",
          "text": [
            "[[15 22 18]\n",
            " [19 16 18]\n",
            " [19 22 24]]\n"
          ]
        }
      ]
    },
    {
      "cell_type": "code",
      "source": [
        "print(np.subtract(a,b))"
      ],
      "metadata": {
        "id": "z88LRxVGo9kV",
        "outputId": "6ebf3eb0-829b-4680-f6f3-f781888137d2",
        "colab": {
          "base_uri": "https://localhost:8080/"
        }
      },
      "execution_count": 36,
      "outputs": [
        {
          "output_type": "stream",
          "name": "stdout",
          "text": [
            "[[-13  -8 -10]\n",
            " [-13  -8 -16]\n",
            " [ -7 -16 -12]]\n"
          ]
        }
      ]
    },
    {
      "cell_type": "code",
      "source": [
        "print(np.multiply(a,b))"
      ],
      "metadata": {
        "id": "IpX7gRU1pAQy",
        "outputId": "d3d65d2e-9828-4a90-e19b-47773928c2c9",
        "colab": {
          "base_uri": "https://localhost:8080/"
        }
      },
      "execution_count": 37,
      "outputs": [
        {
          "output_type": "stream",
          "name": "stdout",
          "text": [
            "[[ 14 105  56]\n",
            " [ 48  48  17]\n",
            " [ 78  57 108]]\n"
          ]
        }
      ]
    },
    {
      "cell_type": "code",
      "source": [
        "print(np.divide(a,b))"
      ],
      "metadata": {
        "id": "NWDNVjUopGRj",
        "outputId": "e3cc7c0d-fd20-4df8-e7f8-f6993e99c59d",
        "colab": {
          "base_uri": "https://localhost:8080/"
        }
      },
      "execution_count": 38,
      "outputs": [
        {
          "output_type": "stream",
          "name": "stdout",
          "text": [
            "[[0.07142857 0.46666667 0.28571429]\n",
            " [0.1875     0.33333333 0.05882353]\n",
            " [0.46153846 0.15789474 0.33333333]]\n"
          ]
        }
      ]
    },
    {
      "cell_type": "markdown",
      "source": [
        "array manipulation"
      ],
      "metadata": {
        "id": "XmbDc1K0pL4q"
      }
    },
    {
      "cell_type": "code",
      "source": [
        "array = np.random.randint(0,10,(2,3))\n",
        "print(array)\n",
        "print(array.shape)"
      ],
      "metadata": {
        "id": "2vU-gHjBpNeJ",
        "outputId": "e37f9fc9-a2e7-428a-c84e-2756e4c9254e",
        "colab": {
          "base_uri": "https://localhost:8080/"
        }
      },
      "execution_count": 40,
      "outputs": [
        {
          "output_type": "stream",
          "name": "stdout",
          "text": [
            "[[2 5 5]\n",
            " [8 2 5]]\n",
            "(2, 3)\n"
          ]
        }
      ]
    },
    {
      "cell_type": "markdown",
      "source": [
        "Transpose"
      ],
      "metadata": {
        "id": "Z1EQNfiTpZ-h"
      }
    },
    {
      "cell_type": "code",
      "source": [
        "x = np.random.randint(1,10,(2,3))\n",
        "print(x)"
      ],
      "metadata": {
        "id": "yeleq8g-pa64",
        "outputId": "fa9054b2-608a-4568-abc1-48a8891e37a9",
        "colab": {
          "base_uri": "https://localhost:8080/"
        }
      },
      "execution_count": 41,
      "outputs": [
        {
          "output_type": "stream",
          "name": "stdout",
          "text": [
            "[[9 1 2]\n",
            " [7 6 2]]\n"
          ]
        }
      ]
    },
    {
      "cell_type": "code",
      "source": [
        "print(np.transpose(x))"
      ],
      "metadata": {
        "id": "DlYhNa2Kpk-c",
        "outputId": "da59a79c-a35b-4481-cab6-10a8f631d09f",
        "colab": {
          "base_uri": "https://localhost:8080/"
        }
      },
      "execution_count": 42,
      "outputs": [
        {
          "output_type": "stream",
          "name": "stdout",
          "text": [
            "[[9 7]\n",
            " [1 6]\n",
            " [2 2]]\n"
          ]
        }
      ]
    },
    {
      "cell_type": "code",
      "source": [
        "x = np.random.randint(1,10,(2,3))\n",
        "print(x)"
      ],
      "metadata": {
        "id": "giE7-s6Vp69L",
        "outputId": "8464783c-c4b0-44a1-f747-99db21d6700d",
        "colab": {
          "base_uri": "https://localhost:8080/"
        }
      },
      "execution_count": 45,
      "outputs": [
        {
          "output_type": "stream",
          "name": "stdout",
          "text": [
            "[[6 5 4]\n",
            " [8 9 5]]\n"
          ]
        }
      ]
    },
    {
      "cell_type": "code",
      "source": [
        "trans_2 = x.T\n",
        "print(trans_2)"
      ],
      "metadata": {
        "id": "8C6RYxcwptQ4",
        "outputId": "d2ad511e-d1d5-4620-e83e-31a564707cbe",
        "colab": {
          "base_uri": "https://localhost:8080/"
        }
      },
      "execution_count": 46,
      "outputs": [
        {
          "output_type": "stream",
          "name": "stdout",
          "text": [
            "[[6 8]\n",
            " [5 9]\n",
            " [4 5]]\n"
          ]
        }
      ]
    },
    {
      "cell_type": "markdown",
      "source": [
        "reshape"
      ],
      "metadata": {
        "id": "6XS66A0AqB1Y"
      }
    },
    {
      "cell_type": "code",
      "source": [
        "x = np.random.randint(1,10,(2,3))\n",
        "print(x)"
      ],
      "metadata": {
        "id": "qL23wnPgqCBn",
        "outputId": "10560eab-ea11-446e-cf12-3ab611b06271",
        "colab": {
          "base_uri": "https://localhost:8080/"
        }
      },
      "execution_count": 47,
      "outputs": [
        {
          "output_type": "stream",
          "name": "stdout",
          "text": [
            "[[7 8 7]\n",
            " [1 8 4]]\n"
          ]
        }
      ]
    },
    {
      "cell_type": "code",
      "source": [
        "y = x.reshape(3,2)\n",
        "print(y)"
      ],
      "metadata": {
        "id": "Ghg6bPw3qJQi",
        "outputId": "4f46a743-e4b5-4388-9e05-1ba453dff94c",
        "colab": {
          "base_uri": "https://localhost:8080/"
        }
      },
      "execution_count": 48,
      "outputs": [
        {
          "output_type": "stream",
          "name": "stdout",
          "text": [
            "[[7 8]\n",
            " [7 1]\n",
            " [8 4]]\n"
          ]
        }
      ]
    }
  ],
  "metadata": {
    "colab": {
      "name": "Welcome To Colab",
      "provenance": [],
      "include_colab_link": true
    },
    "kernelspec": {
      "display_name": "Python 3",
      "name": "python3"
    }
  },
  "nbformat": 4,
  "nbformat_minor": 0
}