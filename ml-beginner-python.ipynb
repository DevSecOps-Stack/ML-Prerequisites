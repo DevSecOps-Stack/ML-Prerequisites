{
  "cells": [
    {
      "cell_type": "markdown",
      "metadata": {
        "id": "view-in-github",
        "colab_type": "text"
      },
      "source": [
        "<a href=\"https://colab.research.google.com/github/DevSecOps-Stack/ML-Prerequisites/blob/main/ml-beginner-python.ipynb\" target=\"_parent\"><img src=\"https://colab.research.google.com/assets/colab-badge.svg\" alt=\"Open In Colab\"/></a>"
      ]
    },
    {
      "cell_type": "code",
      "source": [
        "import sys\n",
        "print(sys.version)"
      ],
      "metadata": {
        "colab": {
          "base_uri": "https://localhost:8080/"
        },
        "id": "stZdxg5tFlbJ",
        "outputId": "1fbcde0d-4c02-44c7-f942-0018a4e82b77"
      },
      "execution_count": null,
      "outputs": [
        {
          "output_type": "stream",
          "name": "stdout",
          "text": [
            "3.10.12 (main, Jul 29 2024, 16:56:48) [GCC 11.4.0]\n"
          ]
        }
      ]
    },
    {
      "cell_type": "markdown",
      "source": [
        "**Basic Syntax**"
      ],
      "metadata": {
        "id": "177QxpEWMwCT"
      }
    },
    {
      "cell_type": "code",
      "source": [
        "if True:\n",
        "  print(\"correct indentation - \")\n",
        "  if False:\n",
        "    print(\"correct indentation\")\n",
        "  print(\"this will print\")\n",
        "print(\"this will also print\")"
      ],
      "metadata": {
        "colab": {
          "base_uri": "https://localhost:8080/"
        },
        "id": "Xema1vmIKq_u",
        "outputId": "666205cf-5fa3-4765-cf47-5b2c58999959"
      },
      "execution_count": null,
      "outputs": [
        {
          "output_type": "stream",
          "name": "stdout",
          "text": [
            "correct indentation - \n",
            "this will print\n",
            "this will also print\n"
          ]
        }
      ]
    },
    {
      "cell_type": "markdown",
      "source": [
        "**Variables**"
      ],
      "metadata": {
        "id": "QT28ciBmM3Q2"
      }
    },
    {
      "cell_type": "code",
      "source": [
        "a = 100\n",
        "print(a)\n",
        "\n",
        "age = 30\n",
        "height = 5.1\n",
        "is_student = True\n",
        "print(age, height, is_student)\n",
        "print(\"age\", age)\n",
        "print(\"height\", height)\n",
        "print(\"is_student\", is_student)"
      ],
      "metadata": {
        "id": "KhFLm8hoM_bW",
        "outputId": "405f06e1-dfd7-4a8b-fe16-ca14f3f79a2b",
        "colab": {
          "base_uri": "https://localhost:8080/"
        }
      },
      "execution_count": null,
      "outputs": [
        {
          "output_type": "stream",
          "name": "stdout",
          "text": [
            "100\n",
            "30 5.1 True\n",
            "age 30\n",
            "height 5.1\n",
            "is_student True\n"
          ]
        }
      ]
    },
    {
      "cell_type": "markdown",
      "source": [
        "**Naming convention**"
      ],
      "metadata": {
        "id": "fJK0PtMsOAjg"
      }
    },
    {
      "cell_type": "code",
      "source": [
        "#valid variable names\n",
        "first_name = \"rakesh\"\n",
        "last_name = \"pandyala\"\n",
        "\n",
        "#invalid variable names\n",
        "first-name = \"rakesh\"\n",
        "@name = \"rakesh\"\n",
        "\n"
      ],
      "metadata": {
        "id": "Ov4sUzTSOD7F"
      },
      "execution_count": null,
      "outputs": []
    },
    {
      "cell_type": "code",
      "source": [
        "#case sensitive\n",
        "First_name = \"rakesh\"\n",
        "FIRST_NAME = \"pandyala\"\n",
        "\n",
        "First_name == FIRST_NAME"
      ],
      "metadata": {
        "id": "-MRMudNRPMaW",
        "outputId": "0f60d9e2-efd2-4576-e44d-49bf1460316e",
        "colab": {
          "base_uri": "https://localhost:8080/"
        }
      },
      "execution_count": null,
      "outputs": [
        {
          "output_type": "execute_result",
          "data": {
            "text/plain": [
              "False"
            ]
          },
          "metadata": {},
          "execution_count": 15
        }
      ]
    },
    {
      "cell_type": "markdown",
      "source": [
        "**understanding variable types**"
      ],
      "metadata": {
        "id": "VX2jNcq9P0hK"
      }
    },
    {
      "cell_type": "code",
      "source": [
        "#python is dynamically typed\n",
        "#type of a variable is determined at run time\n",
        "\n",
        "age = 25 #int\n",
        "height = 5.1 #float\n",
        "name = \"rakesh\" #str\n",
        "is_student = True #bool\n",
        "\n",
        "print(type(age))\n",
        "print(type(height))\n",
        "print(type(name))\n",
        "print(type(is_student))"
      ],
      "metadata": {
        "id": "xcUqnx0RPjYt",
        "outputId": "50ee9a53-98c6-48f9-ab1a-d8fbabcc300d",
        "colab": {
          "base_uri": "https://localhost:8080/"
        }
      },
      "execution_count": null,
      "outputs": [
        {
          "output_type": "stream",
          "name": "stdout",
          "text": [
            "<class 'int'>\n",
            "<class 'float'>\n",
            "<class 'str'>\n",
            "<class 'bool'>\n"
          ]
        }
      ]
    },
    {
      "cell_type": "markdown",
      "source": [
        "**Type conversion**"
      ],
      "metadata": {
        "id": "CBce8U73RJ3S"
      }
    },
    {
      "cell_type": "code",
      "source": [
        "age = 25\n",
        "print(type(age))\n",
        "to_str = str(age)\n",
        "print(type(to_str))\n",
        "\n",
        "age = \"25\"\n",
        "to_int = int(age)\n",
        "print(type(to_int))"
      ],
      "metadata": {
        "id": "HhSCk531ROA3",
        "outputId": "d2712224-9e41-444e-a7c0-99d09a7da42c",
        "colab": {
          "base_uri": "https://localhost:8080/"
        }
      },
      "execution_count": null,
      "outputs": [
        {
          "output_type": "stream",
          "name": "stdout",
          "text": [
            "<class 'int'>\n",
            "<class 'str'>\n",
            "<class 'int'>\n"
          ]
        }
      ]
    },
    {
      "cell_type": "code",
      "source": [
        "name = \"rakesh\"\n",
        "to_int = int(name)\n",
        "print(to_int)"
      ],
      "metadata": {
        "id": "j7pHs5awR-9l",
        "outputId": "8ae2864c-06a6-47f2-b458-347439ad7da0",
        "colab": {
          "base_uri": "https://localhost:8080/",
          "height": 176
        }
      },
      "execution_count": null,
      "outputs": [
        {
          "output_type": "error",
          "ename": "ValueError",
          "evalue": "invalid literal for int() with base 10: 'rakesh'",
          "traceback": [
            "\u001b[0;31m---------------------------------------------------------------------------\u001b[0m",
            "\u001b[0;31mValueError\u001b[0m                                Traceback (most recent call last)",
            "\u001b[0;32m<ipython-input-22-753819e1ccfc>\u001b[0m in \u001b[0;36m<cell line: 2>\u001b[0;34m()\u001b[0m\n\u001b[1;32m      1\u001b[0m \u001b[0mname\u001b[0m \u001b[0;34m=\u001b[0m \u001b[0;34m\"rakesh\"\u001b[0m\u001b[0;34m\u001b[0m\u001b[0;34m\u001b[0m\u001b[0m\n\u001b[0;32m----> 2\u001b[0;31m \u001b[0mto_int\u001b[0m \u001b[0;34m=\u001b[0m \u001b[0mint\u001b[0m\u001b[0;34m(\u001b[0m\u001b[0mname\u001b[0m\u001b[0;34m)\u001b[0m\u001b[0;34m\u001b[0m\u001b[0;34m\u001b[0m\u001b[0m\n\u001b[0m\u001b[1;32m      3\u001b[0m \u001b[0mprint\u001b[0m\u001b[0;34m(\u001b[0m\u001b[0mto_int\u001b[0m\u001b[0;34m)\u001b[0m\u001b[0;34m\u001b[0m\u001b[0;34m\u001b[0m\u001b[0m\n",
            "\u001b[0;31mValueError\u001b[0m: invalid literal for int() with base 10: 'rakesh'"
          ]
        }
      ]
    },
    {
      "cell_type": "code",
      "source": [
        "height = 5.6\n",
        "to_int = int(height)\n",
        "print(to_int)\n",
        "to_float = float(int(height))\n",
        "print(to_float)"
      ],
      "metadata": {
        "id": "Cg0C8ZFvSqSS",
        "outputId": "725f3d53-0a7d-4ca6-802b-03c11cc9d80e",
        "colab": {
          "base_uri": "https://localhost:8080/"
        }
      },
      "execution_count": null,
      "outputs": [
        {
          "output_type": "stream",
          "name": "stdout",
          "text": [
            "5\n",
            "5.0\n"
          ]
        }
      ]
    },
    {
      "cell_type": "markdown",
      "source": [
        "**Dynamic Typing**"
      ],
      "metadata": {
        "id": "iUWif1mITGKI"
      }
    },
    {
      "cell_type": "code",
      "source": [],
      "metadata": {
        "id": "5guT88PQTKWP"
      },
      "execution_count": null,
      "outputs": []
    }
  ],
  "metadata": {
    "colab": {
      "name": "Welcome To Colab",
      "toc_visible": true,
      "provenance": [],
      "include_colab_link": true
    },
    "kernelspec": {
      "display_name": "Python 3",
      "name": "python3"
    }
  },
  "nbformat": 4,
  "nbformat_minor": 0
}