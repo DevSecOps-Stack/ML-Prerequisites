{
  "cells": [
    {
      "cell_type": "markdown",
      "metadata": {
        "id": "view-in-github",
        "colab_type": "text"
      },
      "source": [
        "<a href=\"https://colab.research.google.com/github/DevSecOps-Stack/ML-Prerequisites/blob/main/ml_beginner_sql.ipynb\" target=\"_parent\"><img src=\"https://colab.research.google.com/assets/colab-badge.svg\" alt=\"Open In Colab\"/></a>"
      ]
    },
    {
      "cell_type": "code",
      "source": [
        "!pip install -q pandasql"
      ],
      "metadata": {
        "id": "zlIUjMyLdl8q",
        "outputId": "54bebd7e-390c-4011-adc3-9f0460a9ea50",
        "colab": {
          "base_uri": "https://localhost:8080/"
        }
      },
      "execution_count": 25,
      "outputs": [
        {
          "output_type": "stream",
          "name": "stdout",
          "text": [
            "  Preparing metadata (setup.py) ... \u001b[?25l\u001b[?25hdone\n",
            "  Building wheel for pandasql (setup.py) ... \u001b[?25l\u001b[?25hdone\n"
          ]
        }
      ]
    },
    {
      "cell_type": "code",
      "source": [
        "import pandas as pd\n",
        "import pandasql as psql"
      ],
      "metadata": {
        "id": "jFpj6Keldr9D"
      },
      "execution_count": 28,
      "outputs": []
    },
    {
      "cell_type": "code",
      "source": [
        "df = pd.read_csv('/content/characters.csv')\n",
        "\n",
        "print(df)"
      ],
      "metadata": {
        "id": "-L8y3DLieP9B",
        "outputId": "fe4b97cc-9d4b-4356-9841-19d03eee8faa",
        "colab": {
          "base_uri": "https://localhost:8080/"
        }
      },
      "execution_count": 34,
      "outputs": [
        {
          "output_type": "stream",
          "name": "stdout",
          "text": [
            "    id       name       guild    class  level  experience  health  is_alive  \\\n",
            "0    1    Aragorn     Rangers  Warrior     25        9000  120.50      True   \n",
            "1    2    Legolas    Mirkwood   Archer     22        7500  100.75      True   \n",
            "2    3      Gimli      Erebor  Warrior     20        6000  130.25      True   \n",
            "3    4      Frodo   Shirefolk   Hobbit     12        2500   50.50     False   \n",
            "4    5        Sam   Shirefolk   Hobbit     13        2750   52.50      True   \n",
            "5    6    Gandalf      Istari     Mage     30       10000   90.00      True   \n",
            "6    7    Boromir      Gondor  Warrior     18        5500  115.50     False   \n",
            "7    8      Merry   Shirefolk   Hobbit     11        2200   48.50      True   \n",
            "8    9     Pippin   Shirefolk   Hobbit     11        2100   47.50      True   \n",
            "9   10     Sauron  Dark Lords     Mage     40       15000   85.00     False   \n",
            "10  11    Saruman      Istari     Mage     28        8500   88.50     False   \n",
            "11  12     Elrond   Rivendell     Mage     27        8200   87.50      True   \n",
            "12  13  Thranduil    Mirkwood   Archer     26        7900   97.00      True   \n",
            "13  14      Eowyn       Rohan  Warrior     17        5200  112.50      True   \n",
            "14  15    Faramir      Gondor   Archer     19        5700  118.50      True   \n",
            "\n",
            "                last_active  mentor_id  \n",
            "0   2023-09-20 08:00:00 UTC        NaN  \n",
            "1   2023-09-21 09:00:00 UTC        NaN  \n",
            "2   2023-09-22 07:00:00 UTC        NaN  \n",
            "3   2023-09-23 10:00:00 UTC        1.0  \n",
            "4   2023-09-23 10:05:00 UTC        1.0  \n",
            "5   2023-09-20 11:00:00 UTC        NaN  \n",
            "6   2023-09-21 12:00:00 UTC        NaN  \n",
            "7   2023-09-22 10:00:00 UTC        4.0  \n",
            "8   2023-09-22 10:01:00 UTC        4.0  \n",
            "9   2023-09-23 01:00:00 UTC        NaN  \n",
            "10  2023-09-20 03:00:00 UTC        6.0  \n",
            "11  2023-09-21 04:00:00 UTC        6.0  \n",
            "12  2023-09-22 02:00:00 UTC        2.0  \n",
            "13  2023-09-23 05:00:00 UTC        7.0  \n",
            "14  2023-09-20 06:00:00 UTC        7.0  \n"
          ]
        }
      ]
    },
    {
      "cell_type": "code",
      "source": [
        "query = \"\"\" SELECT * FROM df LIMIT 100 \"\"\"\n",
        "result = psql.sqldf(query, locals())\n",
        "print(result)"
      ],
      "metadata": {
        "id": "MpcY5mqTelRI",
        "outputId": "c6663cd0-2c0b-415f-e78d-312c98a44ba8",
        "colab": {
          "base_uri": "https://localhost:8080/"
        }
      },
      "execution_count": 40,
      "outputs": [
        {
          "output_type": "stream",
          "name": "stdout",
          "text": [
            "    id       name       guild    class  level  experience  health  is_alive  \\\n",
            "0    1    Aragorn     Rangers  Warrior     25        9000  120.50         1   \n",
            "1    2    Legolas    Mirkwood   Archer     22        7500  100.75         1   \n",
            "2    3      Gimli      Erebor  Warrior     20        6000  130.25         1   \n",
            "3    4      Frodo   Shirefolk   Hobbit     12        2500   50.50         0   \n",
            "4    5        Sam   Shirefolk   Hobbit     13        2750   52.50         1   \n",
            "5    6    Gandalf      Istari     Mage     30       10000   90.00         1   \n",
            "6    7    Boromir      Gondor  Warrior     18        5500  115.50         0   \n",
            "7    8      Merry   Shirefolk   Hobbit     11        2200   48.50         1   \n",
            "8    9     Pippin   Shirefolk   Hobbit     11        2100   47.50         1   \n",
            "9   10     Sauron  Dark Lords     Mage     40       15000   85.00         0   \n",
            "10  11    Saruman      Istari     Mage     28        8500   88.50         0   \n",
            "11  12     Elrond   Rivendell     Mage     27        8200   87.50         1   \n",
            "12  13  Thranduil    Mirkwood   Archer     26        7900   97.00         1   \n",
            "13  14      Eowyn       Rohan  Warrior     17        5200  112.50         1   \n",
            "14  15    Faramir      Gondor   Archer     19        5700  118.50         1   \n",
            "\n",
            "                last_active  mentor_id  \n",
            "0   2023-09-20 08:00:00 UTC        NaN  \n",
            "1   2023-09-21 09:00:00 UTC        NaN  \n",
            "2   2023-09-22 07:00:00 UTC        NaN  \n",
            "3   2023-09-23 10:00:00 UTC        1.0  \n",
            "4   2023-09-23 10:05:00 UTC        1.0  \n",
            "5   2023-09-20 11:00:00 UTC        NaN  \n",
            "6   2023-09-21 12:00:00 UTC        NaN  \n",
            "7   2023-09-22 10:00:00 UTC        4.0  \n",
            "8   2023-09-22 10:01:00 UTC        4.0  \n",
            "9   2023-09-23 01:00:00 UTC        NaN  \n",
            "10  2023-09-20 03:00:00 UTC        6.0  \n",
            "11  2023-09-21 04:00:00 UTC        6.0  \n",
            "12  2023-09-22 02:00:00 UTC        2.0  \n",
            "13  2023-09-23 05:00:00 UTC        7.0  \n",
            "14  2023-09-20 06:00:00 UTC        7.0  \n"
          ]
        }
      ]
    }
  ],
  "metadata": {
    "colab": {
      "name": "Welcome To Colab",
      "provenance": [],
      "include_colab_link": true
    },
    "kernelspec": {
      "display_name": "Python 3",
      "name": "python3"
    }
  },
  "nbformat": 4,
  "nbformat_minor": 0
}