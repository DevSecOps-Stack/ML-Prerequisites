{
  "cells": [
    {
      "cell_type": "markdown",
      "metadata": {
        "id": "view-in-github",
        "colab_type": "text"
      },
      "source": [
        "<a href=\"https://colab.research.google.com/github/DevSecOps-Stack/ML-Prerequisites/blob/main/ml_beginner_sql.ipynb\" target=\"_parent\"><img src=\"https://colab.research.google.com/assets/colab-badge.svg\" alt=\"Open In Colab\"/></a>"
      ]
    },
    {
      "cell_type": "code",
      "source": [
        "!pip install --upgrade google-cloud-bigquery"
      ],
      "metadata": {
        "id": "wvO7chJW5q9F"
      },
      "execution_count": null,
      "outputs": []
    },
    {
      "cell_type": "code",
      "source": [
        "from google.cloud import bigquery\n",
        "from google.colab import auth"
      ],
      "metadata": {
        "id": "rwGUZ-5O5wXV"
      },
      "execution_count": 156,
      "outputs": []
    },
    {
      "cell_type": "code",
      "source": [
        "auth.authenticate_user()\n"
      ],
      "metadata": {
        "id": "4xRPxOHH5zLQ"
      },
      "execution_count": 158,
      "outputs": []
    },
    {
      "cell_type": "code",
      "source": [
        "from google.cloud import bigquery\n",
        "\n",
        "# Set up the BigQuery client\n",
        "client = bigquery.Client(project='webserver-150902')\n"
      ],
      "metadata": {
        "id": "G4d6K9IY6HOM"
      },
      "execution_count": 159,
      "outputs": []
    },
    {
      "cell_type": "code",
      "source": [
        "query = \"\"\"\n",
        "SELECT *\n",
        "FROM `webserver-150902.fantasy.characters`\n",
        "LIMIT 10\n",
        "\"\"\"\n",
        "\n",
        "# Execute the query and store the results in a pandas DataFrame\n",
        "query_job = client.query(query)\n",
        "results = query_job.result().to_dataframe()\n",
        "\n",
        "# Display the results\n",
        "print(results)"
      ],
      "metadata": {
        "collapsed": true,
        "id": "hPhLIBJ-_jkx",
        "outputId": "bde95ce1-a64b-485d-c58d-b0f7012530c9",
        "colab": {
          "base_uri": "https://localhost:8080/"
        }
      },
      "execution_count": 162,
      "outputs": [
        {
          "output_type": "stream",
          "name": "stdout",
          "text": [
            "   id       name       guild   class  level  experience  health  is_alive  \\\n",
            "0   6    Gandalf      Istari    Mage     30       10000   90.00      True   \n",
            "1  10     Sauron  Dark Lords    Mage     40       15000   85.00     False   \n",
            "2  11    Saruman      Istari    Mage     28        8500   88.50     False   \n",
            "3  12     Elrond   Rivendell    Mage     27        8200   87.50      True   \n",
            "4   2    Legolas    Mirkwood  Archer     22        7500  100.75      True   \n",
            "5  13  Thranduil    Mirkwood  Archer     26        7900   97.00      True   \n",
            "6  15    Faramir      Gondor  Archer     19        5700  118.50      True   \n",
            "7   4      Frodo   Shirefolk  Hobbit     12        2500   50.50     False   \n",
            "8   5        Sam   Shirefolk  Hobbit     13        2750   52.50      True   \n",
            "9   8      Merry   Shirefolk  Hobbit     11        2200   48.50      True   \n",
            "\n",
            "                last_active  mentor_id  \n",
            "0 2023-09-20 11:00:00+00:00       <NA>  \n",
            "1 2023-09-23 01:00:00+00:00       <NA>  \n",
            "2 2023-09-20 03:00:00+00:00          6  \n",
            "3 2023-09-21 04:00:00+00:00          6  \n",
            "4 2023-09-21 09:00:00+00:00       <NA>  \n",
            "5 2023-09-22 02:00:00+00:00          2  \n",
            "6 2023-09-20 06:00:00+00:00          7  \n",
            "7 2023-09-23 10:00:00+00:00          1  \n",
            "8 2023-09-23 10:05:00+00:00          1  \n",
            "9 2023-09-22 10:00:00+00:00          4  \n"
          ]
        }
      ]
    },
    {
      "cell_type": "code",
      "source": [
        "query = \"\"\"\n",
        "SELECT * FROM `webserver-150902.fantasy.characters`\n",
        "\"\"\"\n",
        "query_job = client.query(query)\n",
        "results = query_job.result().to_dataframe()\n",
        "\n",
        "# Display the results\n",
        "print(results)"
      ],
      "metadata": {
        "collapsed": true,
        "id": "tfQ9ZdTIABnV",
        "outputId": "d99abff6-74e7-4299-a9d5-3900f91f2075",
        "colab": {
          "base_uri": "https://localhost:8080/"
        }
      },
      "execution_count": 163,
      "outputs": [
        {
          "output_type": "stream",
          "name": "stdout",
          "text": [
            "    id       name       guild    class  level  experience  health  is_alive  \\\n",
            "0    6    Gandalf      Istari     Mage     30       10000   90.00      True   \n",
            "1   10     Sauron  Dark Lords     Mage     40       15000   85.00     False   \n",
            "2   11    Saruman      Istari     Mage     28        8500   88.50     False   \n",
            "3   12     Elrond   Rivendell     Mage     27        8200   87.50      True   \n",
            "4    2    Legolas    Mirkwood   Archer     22        7500  100.75      True   \n",
            "5   13  Thranduil    Mirkwood   Archer     26        7900   97.00      True   \n",
            "6   15    Faramir      Gondor   Archer     19        5700  118.50      True   \n",
            "7    4      Frodo   Shirefolk   Hobbit     12        2500   50.50     False   \n",
            "8    5        Sam   Shirefolk   Hobbit     13        2750   52.50      True   \n",
            "9    8      Merry   Shirefolk   Hobbit     11        2200   48.50      True   \n",
            "10   9     Pippin   Shirefolk   Hobbit     11        2100   47.50      True   \n",
            "11   1    Aragorn     Rangers  Warrior     25        9000  120.50      True   \n",
            "12   3      Gimli      Erebor  Warrior     20        6000  130.25      True   \n",
            "13   7    Boromir      Gondor  Warrior     18        5500  115.50     False   \n",
            "14  14      Eowyn       Rohan  Warrior     17        5200  112.50      True   \n",
            "\n",
            "                 last_active  mentor_id  \n",
            "0  2023-09-20 11:00:00+00:00       <NA>  \n",
            "1  2023-09-23 01:00:00+00:00       <NA>  \n",
            "2  2023-09-20 03:00:00+00:00          6  \n",
            "3  2023-09-21 04:00:00+00:00          6  \n",
            "4  2023-09-21 09:00:00+00:00       <NA>  \n",
            "5  2023-09-22 02:00:00+00:00          2  \n",
            "6  2023-09-20 06:00:00+00:00          7  \n",
            "7  2023-09-23 10:00:00+00:00          1  \n",
            "8  2023-09-23 10:05:00+00:00          1  \n",
            "9  2023-09-22 10:00:00+00:00          4  \n",
            "10 2023-09-22 10:01:00+00:00          4  \n",
            "11 2023-09-20 08:00:00+00:00       <NA>  \n",
            "12 2023-09-22 07:00:00+00:00       <NA>  \n",
            "13 2023-09-21 12:00:00+00:00       <NA>  \n",
            "14 2023-09-23 05:00:00+00:00          7  \n"
          ]
        }
      ]
    },
    {
      "cell_type": "code",
      "source": [
        "query = \"\"\"\n",
        "SELECT * FROM `webserver-150902.fantasy.characters`\n",
        "\"\"\"\n",
        "query_job = client.query(query)\n",
        "results = query_job.result().to_dataframe()\n",
        "\n",
        "# Display the results\n",
        "print(results)"
      ],
      "metadata": {
        "collapsed": true,
        "id": "Xf2fLg_3AQTR",
        "outputId": "8c50630d-7f5e-4ff3-ff40-9eaeadadf40a",
        "colab": {
          "base_uri": "https://localhost:8080/"
        }
      },
      "execution_count": 167,
      "outputs": [
        {
          "output_type": "stream",
          "name": "stdout",
          "text": [
            "    id       name       guild    class  level  experience  health  is_alive  \\\n",
            "0    6    Gandalf      Istari     Mage     30       10000   90.00      True   \n",
            "1   10     Sauron  Dark Lords     Mage     40       15000   85.00     False   \n",
            "2   11    Saruman      Istari     Mage     28        8500   88.50     False   \n",
            "3   12     Elrond   Rivendell     Mage     27        8200   87.50      True   \n",
            "4    2    Legolas    Mirkwood   Archer     22        7500  100.75      True   \n",
            "5   13  Thranduil    Mirkwood   Archer     26        7900   97.00      True   \n",
            "6   15    Faramir      Gondor   Archer     19        5700  118.50      True   \n",
            "7    4      Frodo   Shirefolk   Hobbit     12        2500   50.50     False   \n",
            "8    5        Sam   Shirefolk   Hobbit     13        2750   52.50      True   \n",
            "9    8      Merry   Shirefolk   Hobbit     11        2200   48.50      True   \n",
            "10   9     Pippin   Shirefolk   Hobbit     11        2100   47.50      True   \n",
            "11   1    Aragorn     Rangers  Warrior     25        9000  120.50      True   \n",
            "12   3      Gimli      Erebor  Warrior     20        6000  130.25      True   \n",
            "13   7    Boromir      Gondor  Warrior     18        5500  115.50     False   \n",
            "14  14      Eowyn       Rohan  Warrior     17        5200  112.50      True   \n",
            "\n",
            "                 last_active  mentor_id  \n",
            "0  2023-09-20 11:00:00+00:00       <NA>  \n",
            "1  2023-09-23 01:00:00+00:00       <NA>  \n",
            "2  2023-09-20 03:00:00+00:00          6  \n",
            "3  2023-09-21 04:00:00+00:00          6  \n",
            "4  2023-09-21 09:00:00+00:00       <NA>  \n",
            "5  2023-09-22 02:00:00+00:00          2  \n",
            "6  2023-09-20 06:00:00+00:00          7  \n",
            "7  2023-09-23 10:00:00+00:00          1  \n",
            "8  2023-09-23 10:05:00+00:00          1  \n",
            "9  2023-09-22 10:00:00+00:00          4  \n",
            "10 2023-09-22 10:01:00+00:00          4  \n",
            "11 2023-09-20 08:00:00+00:00       <NA>  \n",
            "12 2023-09-22 07:00:00+00:00       <NA>  \n",
            "13 2023-09-21 12:00:00+00:00       <NA>  \n",
            "14 2023-09-23 05:00:00+00:00          7  \n"
          ]
        }
      ]
    },
    {
      "cell_type": "code",
      "source": [
        "query = \"\"\"\n",
        "SELECT class, AVG(level) AS avg_level\n",
        "FROM `webserver-150902.fantasy.characters`\n",
        "WHERE is_alive = True  -- In pandasql, TRUE is represented by 1 and FALSE by 0\n",
        "GROUP BY class\n",
        "HAVING AVG(level) > 22\n",
        "ORDER BY avg_level DESC\n",
        "LIMIT 5;\n",
        "\"\"\"\n",
        "query_job = client.query(query)\n",
        "results = query_job.result().to_dataframe()\n",
        "\n",
        "# Display the results\n",
        "print(results)"
      ],
      "metadata": {
        "id": "MJQFHOvOAhV3",
        "outputId": "8e8f56e4-7d10-475b-e8b1-0adebe10b6da",
        "colab": {
          "base_uri": "https://localhost:8080/"
        }
      },
      "execution_count": 170,
      "outputs": [
        {
          "output_type": "stream",
          "name": "stdout",
          "text": [
            "    class  avg_level\n",
            "0    Mage  28.500000\n",
            "1  Archer  22.333333\n"
          ]
        }
      ]
    },
    {
      "cell_type": "code",
      "source": [
        "#aliasing\n",
        "query = \"\"\"\n",
        "\n",
        "SELECT name, guild, level as character_level\n",
        "FROM `webserver-150902.fantasy.characters`\n",
        "\n",
        "\"\"\"\n",
        "\n",
        "query_job = client.query(query)\n",
        "results = query_job.result().to_dataframe()\n",
        "\n",
        "# Display the results\n",
        "print(results)\n",
        ""
      ],
      "metadata": {
        "id": "RRSkuNQXAu0j",
        "outputId": "48723f04-7a12-4224-8735-cdf974ba7cb9",
        "colab": {
          "base_uri": "https://localhost:8080/"
        }
      },
      "execution_count": 172,
      "outputs": [
        {
          "output_type": "stream",
          "name": "stdout",
          "text": [
            "         name       guild  character_level\n",
            "0     Gandalf      Istari               30\n",
            "1      Sauron  Dark Lords               40\n",
            "2     Saruman      Istari               28\n",
            "3      Elrond   Rivendell               27\n",
            "4     Legolas    Mirkwood               22\n",
            "5   Thranduil    Mirkwood               26\n",
            "6     Faramir      Gondor               19\n",
            "7       Frodo   Shirefolk               12\n",
            "8         Sam   Shirefolk               13\n",
            "9       Merry   Shirefolk               11\n",
            "10     Pippin   Shirefolk               11\n",
            "11    Aragorn     Rangers               25\n",
            "12      Gimli      Erebor               20\n",
            "13    Boromir      Gondor               18\n",
            "14      Eowyn       Rohan               17\n"
          ]
        }
      ]
    },
    {
      "cell_type": "code",
      "source": [
        "#constants\n",
        "query = \"\"\"\n",
        "\n",
        "SELECT name, guild, level as character_level, 1 as version\n",
        "FROM `webserver-150902.fantasy.characters`\n",
        "\n",
        "\"\"\"\n",
        "\n",
        "query_job = client.query(query)\n",
        "results = query_job.result().to_dataframe()\n",
        "\n",
        "# Display the results\n",
        "print(results)\n",
        ""
      ],
      "metadata": {
        "id": "l22JcDldA6hn",
        "outputId": "57da2297-544f-4089-a4fe-2353c3099f62",
        "colab": {
          "base_uri": "https://localhost:8080/"
        }
      },
      "execution_count": 173,
      "outputs": [
        {
          "output_type": "stream",
          "name": "stdout",
          "text": [
            "         name       guild  character_level  version\n",
            "0     Gandalf      Istari               30        1\n",
            "1      Sauron  Dark Lords               40        1\n",
            "2     Saruman      Istari               28        1\n",
            "3      Elrond   Rivendell               27        1\n",
            "4     Legolas    Mirkwood               22        1\n",
            "5   Thranduil    Mirkwood               26        1\n",
            "6     Faramir      Gondor               19        1\n",
            "7       Frodo   Shirefolk               12        1\n",
            "8         Sam   Shirefolk               13        1\n",
            "9       Merry   Shirefolk               11        1\n",
            "10     Pippin   Shirefolk               11        1\n",
            "11    Aragorn     Rangers               25        1\n",
            "12      Gimli      Erebor               20        1\n",
            "13    Boromir      Gondor               18        1\n",
            "14      Eowyn       Rohan               17        1\n"
          ]
        }
      ]
    },
    {
      "cell_type": "code",
      "source": [
        "#calculations\n",
        "query = \"\"\"\n",
        "\n",
        "SELECT name, guild, level as character_level, 1 as version,\n",
        "experience, experience / 100\n",
        "FROM `webserver-150902.fantasy.characters`\n",
        "\n",
        "\"\"\"\n",
        "\n",
        "query_job = client.query(query)\n",
        "results = query_job.result().to_dataframe()\n",
        "\n",
        "# Display the results\n",
        "print(results)"
      ],
      "metadata": {
        "id": "rTVlIM1_BIq-",
        "outputId": "049892dd-a829-4b93-ba9d-4c0b76202d52",
        "colab": {
          "base_uri": "https://localhost:8080/"
        }
      },
      "execution_count": 174,
      "outputs": [
        {
          "output_type": "stream",
          "name": "stdout",
          "text": [
            "         name       guild  character_level  version  experience    f0_\n",
            "0     Gandalf      Istari               30        1       10000  100.0\n",
            "1      Sauron  Dark Lords               40        1       15000  150.0\n",
            "2     Saruman      Istari               28        1        8500   85.0\n",
            "3      Elrond   Rivendell               27        1        8200   82.0\n",
            "4     Legolas    Mirkwood               22        1        7500   75.0\n",
            "5   Thranduil    Mirkwood               26        1        7900   79.0\n",
            "6     Faramir      Gondor               19        1        5700   57.0\n",
            "7       Frodo   Shirefolk               12        1        2500   25.0\n",
            "8         Sam   Shirefolk               13        1        2750   27.5\n",
            "9       Merry   Shirefolk               11        1        2200   22.0\n",
            "10     Pippin   Shirefolk               11        1        2100   21.0\n",
            "11    Aragorn     Rangers               25        1        9000   90.0\n",
            "12      Gimli      Erebor               20        1        6000   60.0\n",
            "13    Boromir      Gondor               18        1        5500   55.0\n",
            "14      Eowyn       Rohan               17        1        5200   52.0\n"
          ]
        }
      ]
    },
    {
      "cell_type": "code",
      "source": [
        "#cant calculate with alias as SELECT and alias will be executed at the same time\n",
        "query = \"\"\"\n",
        "\n",
        "SELECT name, guild, level as character_level, 1 as version,\n",
        "experience, experience / 100,\n",
        "experience + 100 / character_level + 2\n",
        "FROM `webserver-150902.fantasy.characters`\n",
        "\n",
        "\"\"\"  # Removed the period after version\n",
        "\n",
        "query_job = client.query(query)\n",
        "results = query_job.result().to_dataframe()\n",
        "\n",
        "# Display the results\n",
        "print(results)"
      ],
      "metadata": {
        "id": "UflkDjQjBQKi",
        "outputId": "a69fe7a1-8ec5-4127-b665-4b7307eb5f1d",
        "colab": {
          "base_uri": "https://localhost:8080/",
          "height": 425
        }
      },
      "execution_count": 175,
      "outputs": [
        {
          "output_type": "error",
          "ename": "BadRequest",
          "evalue": "400 Unrecognized name: character_level at [5:20]; reason: invalidQuery, location: query, message: Unrecognized name: character_level at [5:20]\n\nLocation: US\nJob ID: cfdbe6fe-3db8-4d1f-94fe-da910b7b665d\n",
          "traceback": [
            "\u001b[0;31m---------------------------------------------------------------------------\u001b[0m",
            "\u001b[0;31mBadRequest\u001b[0m                                Traceback (most recent call last)",
            "\u001b[0;32m<ipython-input-175-b69aedd2b4b7>\u001b[0m in \u001b[0;36m<cell line: 12>\u001b[0;34m()\u001b[0m\n\u001b[1;32m     10\u001b[0m \u001b[0;34m\u001b[0m\u001b[0m\n\u001b[1;32m     11\u001b[0m \u001b[0mquery_job\u001b[0m \u001b[0;34m=\u001b[0m \u001b[0mclient\u001b[0m\u001b[0;34m.\u001b[0m\u001b[0mquery\u001b[0m\u001b[0;34m(\u001b[0m\u001b[0mquery\u001b[0m\u001b[0;34m)\u001b[0m\u001b[0;34m\u001b[0m\u001b[0;34m\u001b[0m\u001b[0m\n\u001b[0;32m---> 12\u001b[0;31m \u001b[0mresults\u001b[0m \u001b[0;34m=\u001b[0m \u001b[0mquery_job\u001b[0m\u001b[0;34m.\u001b[0m\u001b[0mresult\u001b[0m\u001b[0;34m(\u001b[0m\u001b[0;34m)\u001b[0m\u001b[0;34m.\u001b[0m\u001b[0mto_dataframe\u001b[0m\u001b[0;34m(\u001b[0m\u001b[0;34m)\u001b[0m\u001b[0;34m\u001b[0m\u001b[0;34m\u001b[0m\u001b[0m\n\u001b[0m\u001b[1;32m     13\u001b[0m \u001b[0;34m\u001b[0m\u001b[0m\n\u001b[1;32m     14\u001b[0m \u001b[0;31m# Display the results\u001b[0m\u001b[0;34m\u001b[0m\u001b[0;34m\u001b[0m\u001b[0m\n",
            "\u001b[0;32m/usr/local/lib/python3.10/dist-packages/google/cloud/bigquery/job/query.py\u001b[0m in \u001b[0;36mresult\u001b[0;34m(self, page_size, max_results, retry, timeout, start_index, job_retry)\u001b[0m\n\u001b[1;32m   1674\u001b[0m                 \u001b[0;31m# Since is_job_done() calls jobs.getQueryResults, which is a\u001b[0m\u001b[0;34m\u001b[0m\u001b[0;34m\u001b[0m\u001b[0m\n\u001b[1;32m   1675\u001b[0m                 \u001b[0;31m# long-running API, don't delay the next request at all.\u001b[0m\u001b[0;34m\u001b[0m\u001b[0;34m\u001b[0m\u001b[0m\n\u001b[0;32m-> 1676\u001b[0;31m                 \u001b[0;32mwhile\u001b[0m \u001b[0;32mnot\u001b[0m \u001b[0mis_job_done\u001b[0m\u001b[0;34m(\u001b[0m\u001b[0;34m)\u001b[0m\u001b[0;34m:\u001b[0m\u001b[0;34m\u001b[0m\u001b[0;34m\u001b[0m\u001b[0m\n\u001b[0m\u001b[1;32m   1677\u001b[0m                     \u001b[0;32mpass\u001b[0m\u001b[0;34m\u001b[0m\u001b[0;34m\u001b[0m\u001b[0m\n\u001b[1;32m   1678\u001b[0m             \u001b[0;32melse\u001b[0m\u001b[0;34m:\u001b[0m\u001b[0;34m\u001b[0m\u001b[0;34m\u001b[0m\u001b[0m\n",
            "\u001b[0;32m/usr/local/lib/python3.10/dist-packages/google/api_core/retry/retry_unary.py\u001b[0m in \u001b[0;36mretry_wrapped_func\u001b[0;34m(*args, **kwargs)\u001b[0m\n\u001b[1;32m    291\u001b[0m                 \u001b[0mself\u001b[0m\u001b[0;34m.\u001b[0m\u001b[0m_initial\u001b[0m\u001b[0;34m,\u001b[0m \u001b[0mself\u001b[0m\u001b[0;34m.\u001b[0m\u001b[0m_maximum\u001b[0m\u001b[0;34m,\u001b[0m \u001b[0mmultiplier\u001b[0m\u001b[0;34m=\u001b[0m\u001b[0mself\u001b[0m\u001b[0;34m.\u001b[0m\u001b[0m_multiplier\u001b[0m\u001b[0;34m\u001b[0m\u001b[0;34m\u001b[0m\u001b[0m\n\u001b[1;32m    292\u001b[0m             )\n\u001b[0;32m--> 293\u001b[0;31m             return retry_target(\n\u001b[0m\u001b[1;32m    294\u001b[0m                 \u001b[0mtarget\u001b[0m\u001b[0;34m,\u001b[0m\u001b[0;34m\u001b[0m\u001b[0;34m\u001b[0m\u001b[0m\n\u001b[1;32m    295\u001b[0m                 \u001b[0mself\u001b[0m\u001b[0;34m.\u001b[0m\u001b[0m_predicate\u001b[0m\u001b[0;34m,\u001b[0m\u001b[0;34m\u001b[0m\u001b[0;34m\u001b[0m\u001b[0m\n",
            "\u001b[0;32m/usr/local/lib/python3.10/dist-packages/google/api_core/retry/retry_unary.py\u001b[0m in \u001b[0;36mretry_target\u001b[0;34m(target, predicate, sleep_generator, timeout, on_error, exception_factory, **kwargs)\u001b[0m\n\u001b[1;32m    151\u001b[0m         \u001b[0;32mexcept\u001b[0m \u001b[0mException\u001b[0m \u001b[0;32mas\u001b[0m \u001b[0mexc\u001b[0m\u001b[0;34m:\u001b[0m\u001b[0;34m\u001b[0m\u001b[0;34m\u001b[0m\u001b[0m\n\u001b[1;32m    152\u001b[0m             \u001b[0;31m# defer to shared logic for handling errors\u001b[0m\u001b[0;34m\u001b[0m\u001b[0;34m\u001b[0m\u001b[0m\n\u001b[0;32m--> 153\u001b[0;31m             _retry_error_helper(\n\u001b[0m\u001b[1;32m    154\u001b[0m                 \u001b[0mexc\u001b[0m\u001b[0;34m,\u001b[0m\u001b[0;34m\u001b[0m\u001b[0;34m\u001b[0m\u001b[0m\n\u001b[1;32m    155\u001b[0m                 \u001b[0mdeadline\u001b[0m\u001b[0;34m,\u001b[0m\u001b[0;34m\u001b[0m\u001b[0;34m\u001b[0m\u001b[0m\n",
            "\u001b[0;32m/usr/local/lib/python3.10/dist-packages/google/api_core/retry/retry_base.py\u001b[0m in \u001b[0;36m_retry_error_helper\u001b[0;34m(exc, deadline, next_sleep, error_list, predicate_fn, on_error_fn, exc_factory_fn, original_timeout)\u001b[0m\n\u001b[1;32m    210\u001b[0m             \u001b[0moriginal_timeout\u001b[0m\u001b[0;34m,\u001b[0m\u001b[0;34m\u001b[0m\u001b[0;34m\u001b[0m\u001b[0m\n\u001b[1;32m    211\u001b[0m         )\n\u001b[0;32m--> 212\u001b[0;31m         \u001b[0;32mraise\u001b[0m \u001b[0mfinal_exc\u001b[0m \u001b[0;32mfrom\u001b[0m \u001b[0msource_exc\u001b[0m\u001b[0;34m\u001b[0m\u001b[0;34m\u001b[0m\u001b[0m\n\u001b[0m\u001b[1;32m    213\u001b[0m     \u001b[0;32mif\u001b[0m \u001b[0mon_error_fn\u001b[0m \u001b[0;32mis\u001b[0m \u001b[0;32mnot\u001b[0m \u001b[0;32mNone\u001b[0m\u001b[0;34m:\u001b[0m\u001b[0;34m\u001b[0m\u001b[0;34m\u001b[0m\u001b[0m\n\u001b[1;32m    214\u001b[0m         \u001b[0mon_error_fn\u001b[0m\u001b[0;34m(\u001b[0m\u001b[0mexc\u001b[0m\u001b[0;34m)\u001b[0m\u001b[0;34m\u001b[0m\u001b[0;34m\u001b[0m\u001b[0m\n",
            "\u001b[0;32m/usr/local/lib/python3.10/dist-packages/google/api_core/retry/retry_unary.py\u001b[0m in \u001b[0;36mretry_target\u001b[0;34m(target, predicate, sleep_generator, timeout, on_error, exception_factory, **kwargs)\u001b[0m\n\u001b[1;32m    142\u001b[0m     \u001b[0;32mfor\u001b[0m \u001b[0msleep\u001b[0m \u001b[0;32min\u001b[0m \u001b[0msleep_generator\u001b[0m\u001b[0;34m:\u001b[0m\u001b[0;34m\u001b[0m\u001b[0;34m\u001b[0m\u001b[0m\n\u001b[1;32m    143\u001b[0m         \u001b[0;32mtry\u001b[0m\u001b[0;34m:\u001b[0m\u001b[0;34m\u001b[0m\u001b[0;34m\u001b[0m\u001b[0m\n\u001b[0;32m--> 144\u001b[0;31m             \u001b[0mresult\u001b[0m \u001b[0;34m=\u001b[0m \u001b[0mtarget\u001b[0m\u001b[0;34m(\u001b[0m\u001b[0;34m)\u001b[0m\u001b[0;34m\u001b[0m\u001b[0;34m\u001b[0m\u001b[0m\n\u001b[0m\u001b[1;32m    145\u001b[0m             \u001b[0;32mif\u001b[0m \u001b[0minspect\u001b[0m\u001b[0;34m.\u001b[0m\u001b[0misawaitable\u001b[0m\u001b[0;34m(\u001b[0m\u001b[0mresult\u001b[0m\u001b[0;34m)\u001b[0m\u001b[0;34m:\u001b[0m\u001b[0;34m\u001b[0m\u001b[0;34m\u001b[0m\u001b[0m\n\u001b[1;32m    146\u001b[0m                 \u001b[0mwarnings\u001b[0m\u001b[0;34m.\u001b[0m\u001b[0mwarn\u001b[0m\u001b[0;34m(\u001b[0m\u001b[0m_ASYNC_RETRY_WARNING\u001b[0m\u001b[0;34m)\u001b[0m\u001b[0;34m\u001b[0m\u001b[0;34m\u001b[0m\u001b[0m\n",
            "\u001b[0;32m/usr/local/lib/python3.10/dist-packages/google/cloud/bigquery/job/query.py\u001b[0m in \u001b[0;36mis_job_done\u001b[0;34m()\u001b[0m\n\u001b[1;32m   1623\u001b[0m                         \u001b[0;31m# `job_retry` predicate.\u001b[0m\u001b[0;34m\u001b[0m\u001b[0;34m\u001b[0m\u001b[0m\n\u001b[1;32m   1624\u001b[0m                         \u001b[0mrestart_query_job\u001b[0m \u001b[0;34m=\u001b[0m \u001b[0;32mTrue\u001b[0m\u001b[0;34m\u001b[0m\u001b[0;34m\u001b[0m\u001b[0m\n\u001b[0;32m-> 1625\u001b[0;31m                         \u001b[0;32mraise\u001b[0m \u001b[0mjob_failed_exception\u001b[0m\u001b[0;34m\u001b[0m\u001b[0;34m\u001b[0m\u001b[0m\n\u001b[0m\u001b[1;32m   1626\u001b[0m                     \u001b[0;32melse\u001b[0m\u001b[0;34m:\u001b[0m\u001b[0;34m\u001b[0m\u001b[0;34m\u001b[0m\u001b[0m\n\u001b[1;32m   1627\u001b[0m                         \u001b[0;31m# Make sure that the _query_results are cached so we\u001b[0m\u001b[0;34m\u001b[0m\u001b[0;34m\u001b[0m\u001b[0m\n",
            "\u001b[0;31mBadRequest\u001b[0m: 400 Unrecognized name: character_level at [5:20]; reason: invalidQuery, location: query, message: Unrecognized name: character_level at [5:20]\n\nLocation: US\nJob ID: cfdbe6fe-3db8-4d1f-94fe-da910b7b665d\n"
          ]
        }
      ]
    },
    {
      "cell_type": "markdown",
      "source": [
        "Hypothesis The error message \"OperationalError: no such column: character_level\" indicates that you're trying to use the alias 'character_level' in a calculation within the same SELECT statement where it's defined. SQL generally processes these statements in a linear fashion, so the alias isn't recognized when you try to use it later in the calculation."
      ],
      "metadata": {
        "id": "cKF9nu-DBbSZ"
      }
    },
    {
      "cell_type": "code",
      "source": [
        "#functions\n",
        "query = \"\"\"\n",
        "\n",
        "SELECT name, guild, level as character_level, 1 as version,\n",
        "experience, experience / 100,\n",
        "experience + (100 / level) + 2,\n",
        "SQRT(16), SQRT(level),\n",
        "UPPER(guild)\n",
        "FROM `webserver-150902.fantasy.characters`\n",
        "\n",
        "\"\"\"\n",
        "\n",
        "query_job = client.query(query)\n",
        "results = query_job.result().to_dataframe()\n",
        "\n",
        "# Display the results\n",
        "print(results)"
      ],
      "metadata": {
        "colab": {
          "base_uri": "https://localhost:8080/"
        },
        "id": "au4wGYyVBkUB",
        "outputId": "05275931-27a1-49e2-8fc7-d23829978492"
      },
      "execution_count": 176,
      "outputs": [
        {
          "output_type": "stream",
          "name": "stdout",
          "text": [
            "         name       guild  character_level  version  experience    f0_  \\\n",
            "0     Gandalf      Istari               30        1       10000  100.0   \n",
            "1      Sauron  Dark Lords               40        1       15000  150.0   \n",
            "2     Saruman      Istari               28        1        8500   85.0   \n",
            "3      Elrond   Rivendell               27        1        8200   82.0   \n",
            "4     Legolas    Mirkwood               22        1        7500   75.0   \n",
            "5   Thranduil    Mirkwood               26        1        7900   79.0   \n",
            "6     Faramir      Gondor               19        1        5700   57.0   \n",
            "7       Frodo   Shirefolk               12        1        2500   25.0   \n",
            "8         Sam   Shirefolk               13        1        2750   27.5   \n",
            "9       Merry   Shirefolk               11        1        2200   22.0   \n",
            "10     Pippin   Shirefolk               11        1        2100   21.0   \n",
            "11    Aragorn     Rangers               25        1        9000   90.0   \n",
            "12      Gimli      Erebor               20        1        6000   60.0   \n",
            "13    Boromir      Gondor               18        1        5500   55.0   \n",
            "14      Eowyn       Rohan               17        1        5200   52.0   \n",
            "\n",
            "             f1_  f2_       f3_         f4_  \n",
            "0   10005.333333  4.0  5.477226      ISTARI  \n",
            "1   15004.500000  4.0  6.324555  DARK LORDS  \n",
            "2    8505.571429  4.0  5.291503      ISTARI  \n",
            "3    8205.703704  4.0  5.196152   RIVENDELL  \n",
            "4    7506.545455  4.0  4.690416    MIRKWOOD  \n",
            "5    7905.846154  4.0  5.099020    MIRKWOOD  \n",
            "6    5707.263158  4.0  4.358899      GONDOR  \n",
            "7    2510.333333  4.0  3.464102   SHIREFOLK  \n",
            "8    2759.692308  4.0  3.605551   SHIREFOLK  \n",
            "9    2211.090909  4.0  3.316625   SHIREFOLK  \n",
            "10   2111.090909  4.0  3.316625   SHIREFOLK  \n",
            "11   9006.000000  4.0  5.000000     RANGERS  \n",
            "12   6007.000000  4.0  4.472136      EREBOR  \n",
            "13   5507.555556  4.0  4.242641      GONDOR  \n",
            "14   5207.882353  4.0  4.123106       ROHAN  \n"
          ]
        }
      ]
    },
    {
      "cell_type": "code",
      "source": [
        "# Create the table and insert data\n",
        "create_table = \"\"\"\n",
        "CREATE OR REPLACE TABLE `webserver-150902.fantasy.characters_alive` AS\n",
        "SELECT *\n",
        "FROM `webserver-150902.fantasy.characters`\n",
        "WHERE is_alive = True\n",
        "\"\"\"\n",
        "\n",
        "# Run the query to create the table\n",
        "client.query(create_table).result()\n",
        "\n",
        "# Query the newly created table\n",
        "get_table = \"\"\"\n",
        "SELECT * FROM `webserver-150902.fantasy.characters_alive`\n",
        "\"\"\"\n",
        "\n",
        "# Execute the query and convert to a pandas DataFrame\n",
        "result_df = client.query(get_table).to_dataframe()\n",
        "\n",
        "# Display the result\n",
        "print(result_df)\n"
      ],
      "metadata": {
        "id": "vH5H5xZrB1Jx",
        "outputId": "c69e126d-fc23-4a11-85a3-2e9665be2aaf",
        "colab": {
          "base_uri": "https://localhost:8080/"
        }
      },
      "execution_count": 178,
      "outputs": [
        {
          "output_type": "stream",
          "name": "stdout",
          "text": [
            "    id       name      guild    class  level  experience  health  is_alive  \\\n",
            "0   12     Elrond  Rivendell     Mage     27        8200   87.50      True   \n",
            "1    6    Gandalf     Istari     Mage     30       10000   90.00      True   \n",
            "2   13  Thranduil   Mirkwood   Archer     26        7900   97.00      True   \n",
            "3    2    Legolas   Mirkwood   Archer     22        7500  100.75      True   \n",
            "4   15    Faramir     Gondor   Archer     19        5700  118.50      True   \n",
            "5    5        Sam  Shirefolk   Hobbit     13        2750   52.50      True   \n",
            "6    8      Merry  Shirefolk   Hobbit     11        2200   48.50      True   \n",
            "7    9     Pippin  Shirefolk   Hobbit     11        2100   47.50      True   \n",
            "8   14      Eowyn      Rohan  Warrior     17        5200  112.50      True   \n",
            "9    1    Aragorn    Rangers  Warrior     25        9000  120.50      True   \n",
            "10   3      Gimli     Erebor  Warrior     20        6000  130.25      True   \n",
            "\n",
            "                 last_active  mentor_id  \n",
            "0  2023-09-21 04:00:00+00:00          6  \n",
            "1  2023-09-20 11:00:00+00:00       <NA>  \n",
            "2  2023-09-22 02:00:00+00:00          2  \n",
            "3  2023-09-21 09:00:00+00:00       <NA>  \n",
            "4  2023-09-20 06:00:00+00:00          7  \n",
            "5  2023-09-23 10:05:00+00:00          1  \n",
            "6  2023-09-22 10:00:00+00:00          4  \n",
            "7  2023-09-22 10:01:00+00:00          4  \n",
            "8  2023-09-23 05:00:00+00:00          7  \n",
            "9  2023-09-20 08:00:00+00:00       <NA>  \n",
            "10 2023-09-22 07:00:00+00:00       <NA>  \n"
          ]
        }
      ]
    },
    {
      "cell_type": "code",
      "source": [
        "# Create the table and insert data\n",
        "create_table = \"\"\"\n",
        "CREATE OR REPLACE TABLE `webserver-150902.fantasy.characters_dead` AS\n",
        "SELECT *\n",
        "FROM `webserver-150902.fantasy.characters`\n",
        "WHERE is_alive = False\n",
        "\"\"\"\n",
        "\n",
        "# Run the query to create the table\n",
        "client.query(create_table).result()\n",
        "\n",
        "# Query the newly created table\n",
        "get_table = \"\"\"\n",
        "SELECT * FROM `webserver-150902.fantasy.characters_dead`\n",
        "\"\"\"\n",
        "\n",
        "# Execute the query and convert to a pandas DataFrame\n",
        "result_df = client.query(get_table).to_dataframe()\n",
        "\n",
        "# Display the result\n",
        "print(result_df)\n"
      ],
      "metadata": {
        "id": "B-3SHLn9C1jf",
        "outputId": "73359318-ffea-4c9b-914b-79f4ecb185dc",
        "colab": {
          "base_uri": "https://localhost:8080/"
        }
      },
      "execution_count": 179,
      "outputs": [
        {
          "output_type": "stream",
          "name": "stdout",
          "text": [
            "   id     name       guild    class  level  experience  health  is_alive  \\\n",
            "0  11  Saruman      Istari     Mage     28        8500    88.5     False   \n",
            "1  10   Sauron  Dark Lords     Mage     40       15000    85.0     False   \n",
            "2   4    Frodo   Shirefolk   Hobbit     12        2500    50.5     False   \n",
            "3   7  Boromir      Gondor  Warrior     18        5500   115.5     False   \n",
            "\n",
            "                last_active  mentor_id  \n",
            "0 2023-09-20 03:00:00+00:00          6  \n",
            "1 2023-09-23 01:00:00+00:00       <NA>  \n",
            "2 2023-09-23 10:00:00+00:00          1  \n",
            "3 2023-09-21 12:00:00+00:00       <NA>  \n"
          ]
        }
      ]
    }
  ],
  "metadata": {
    "colab": {
      "name": "Welcome To Colab",
      "provenance": [],
      "include_colab_link": true
    },
    "kernelspec": {
      "display_name": "Python 3",
      "name": "python3"
    }
  },
  "nbformat": 4,
  "nbformat_minor": 0
}