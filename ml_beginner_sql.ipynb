{
  "cells": [
    {
      "cell_type": "markdown",
      "metadata": {
        "id": "view-in-github",
        "colab_type": "text"
      },
      "source": [
        "<a href=\"https://colab.research.google.com/github/DevSecOps-Stack/ML-Prerequisites/blob/main/ml_beginner_sql.ipynb\" target=\"_parent\"><img src=\"https://colab.research.google.com/assets/colab-badge.svg\" alt=\"Open In Colab\"/></a>"
      ]
    },
    {
      "cell_type": "code",
      "source": [
        "!pip install -q pandasql"
      ],
      "metadata": {
        "id": "zlIUjMyLdl8q"
      },
      "execution_count": null,
      "outputs": []
    },
    {
      "cell_type": "code",
      "source": [
        "import pandas as pd\n",
        "import pandasql as psql\n",
        "import sqlite3"
      ],
      "metadata": {
        "id": "jFpj6Keldr9D"
      },
      "execution_count": null,
      "outputs": []
    },
    {
      "cell_type": "code",
      "source": [
        "# Create an in-memory SQLite database\n",
        "conn = sqlite3.connect(':memory:')\n",
        "\n",
        "# Load the DataFrame into the SQLite database as a table\n",
        "df.to_sql('characters', conn, index=False, if_exists='replace')\n"
      ],
      "metadata": {
        "colab": {
          "base_uri": "https://localhost:8080/"
        },
        "id": "wpjYkbb1xy67",
        "outputId": "9449a8ad-5988-45ac-fb20-f6be87c970c0"
      },
      "execution_count": null,
      "outputs": [
        {
          "output_type": "execute_result",
          "data": {
            "text/plain": [
              "15"
            ]
          },
          "metadata": {},
          "execution_count": 118
        }
      ]
    },
    {
      "cell_type": "code",
      "source": [
        "query = \"\"\"\n",
        "SELECT * FROM characters\n",
        "\"\"\"\n",
        "result_df = pd.read_sql_query(query, conn)\n",
        "print(result_df)"
      ],
      "metadata": {
        "colab": {
          "base_uri": "https://localhost:8080/"
        },
        "id": "-L8y3DLieP9B",
        "outputId": "6e685841-ee11-4b97-d6df-72aaaadc139f"
      },
      "execution_count": null,
      "outputs": [
        {
          "output_type": "stream",
          "name": "stdout",
          "text": [
            "    id       name       guild    class  level  experience  health  is_alive  \\\n",
            "0    1    Aragorn     Rangers  Warrior     25        9000  120.50         1   \n",
            "1    2    Legolas    Mirkwood   Archer     22        7500  100.75         1   \n",
            "2    3      Gimli      Erebor  Warrior     20        6000  130.25         1   \n",
            "3    4      Frodo   Shirefolk   Hobbit     12        2500   50.50         0   \n",
            "4    5        Sam   Shirefolk   Hobbit     13        2750   52.50         1   \n",
            "5    6    Gandalf      Istari     Mage     30       10000   90.00         1   \n",
            "6    7    Boromir      Gondor  Warrior     18        5500  115.50         0   \n",
            "7    8      Merry   Shirefolk   Hobbit     11        2200   48.50         1   \n",
            "8    9     Pippin   Shirefolk   Hobbit     11        2100   47.50         1   \n",
            "9   10     Sauron  Dark Lords     Mage     40       15000   85.00         0   \n",
            "10  11    Saruman      Istari     Mage     28        8500   88.50         0   \n",
            "11  12     Elrond   Rivendell     Mage     27        8200   87.50         1   \n",
            "12  13  Thranduil    Mirkwood   Archer     26        7900   97.00         1   \n",
            "13  14      Eowyn       Rohan  Warrior     17        5200  112.50         1   \n",
            "14  15    Faramir      Gondor   Archer     19        5700  118.50         1   \n",
            "\n",
            "                last_active  mentor_id  \n",
            "0   2023-09-20 08:00:00 UTC        NaN  \n",
            "1   2023-09-21 09:00:00 UTC        NaN  \n",
            "2   2023-09-22 07:00:00 UTC        NaN  \n",
            "3   2023-09-23 10:00:00 UTC        1.0  \n",
            "4   2023-09-23 10:05:00 UTC        1.0  \n",
            "5   2023-09-20 11:00:00 UTC        NaN  \n",
            "6   2023-09-21 12:00:00 UTC        NaN  \n",
            "7   2023-09-22 10:00:00 UTC        4.0  \n",
            "8   2023-09-22 10:01:00 UTC        4.0  \n",
            "9   2023-09-23 01:00:00 UTC        NaN  \n",
            "10  2023-09-20 03:00:00 UTC        6.0  \n",
            "11  2023-09-21 04:00:00 UTC        6.0  \n",
            "12  2023-09-22 02:00:00 UTC        2.0  \n",
            "13  2023-09-23 05:00:00 UTC        7.0  \n",
            "14  2023-09-20 06:00:00 UTC        7.0  \n"
          ]
        }
      ]
    },
    {
      "cell_type": "code",
      "source": [
        "query = \"\"\" SELECT * FROM characters LIMIT 100 \"\"\"\n",
        "result_df = pd.read_sql_query(query, conn)\n",
        "print(result_df)"
      ],
      "metadata": {
        "colab": {
          "base_uri": "https://localhost:8080/"
        },
        "id": "MpcY5mqTelRI",
        "outputId": "8b96dbb8-1dab-44cd-e5d5-078e511b404e"
      },
      "execution_count": null,
      "outputs": [
        {
          "output_type": "stream",
          "name": "stdout",
          "text": [
            "    id       name       guild    class  level  experience  health  is_alive  \\\n",
            "0    1    Aragorn     Rangers  Warrior     25        9000  120.50         1   \n",
            "1    2    Legolas    Mirkwood   Archer     22        7500  100.75         1   \n",
            "2    3      Gimli      Erebor  Warrior     20        6000  130.25         1   \n",
            "3    4      Frodo   Shirefolk   Hobbit     12        2500   50.50         0   \n",
            "4    5        Sam   Shirefolk   Hobbit     13        2750   52.50         1   \n",
            "5    6    Gandalf      Istari     Mage     30       10000   90.00         1   \n",
            "6    7    Boromir      Gondor  Warrior     18        5500  115.50         0   \n",
            "7    8      Merry   Shirefolk   Hobbit     11        2200   48.50         1   \n",
            "8    9     Pippin   Shirefolk   Hobbit     11        2100   47.50         1   \n",
            "9   10     Sauron  Dark Lords     Mage     40       15000   85.00         0   \n",
            "10  11    Saruman      Istari     Mage     28        8500   88.50         0   \n",
            "11  12     Elrond   Rivendell     Mage     27        8200   87.50         1   \n",
            "12  13  Thranduil    Mirkwood   Archer     26        7900   97.00         1   \n",
            "13  14      Eowyn       Rohan  Warrior     17        5200  112.50         1   \n",
            "14  15    Faramir      Gondor   Archer     19        5700  118.50         1   \n",
            "\n",
            "                last_active  mentor_id  \n",
            "0   2023-09-20 08:00:00 UTC        NaN  \n",
            "1   2023-09-21 09:00:00 UTC        NaN  \n",
            "2   2023-09-22 07:00:00 UTC        NaN  \n",
            "3   2023-09-23 10:00:00 UTC        1.0  \n",
            "4   2023-09-23 10:05:00 UTC        1.0  \n",
            "5   2023-09-20 11:00:00 UTC        NaN  \n",
            "6   2023-09-21 12:00:00 UTC        NaN  \n",
            "7   2023-09-22 10:00:00 UTC        4.0  \n",
            "8   2023-09-22 10:01:00 UTC        4.0  \n",
            "9   2023-09-23 01:00:00 UTC        NaN  \n",
            "10  2023-09-20 03:00:00 UTC        6.0  \n",
            "11  2023-09-21 04:00:00 UTC        6.0  \n",
            "12  2023-09-22 02:00:00 UTC        2.0  \n",
            "13  2023-09-23 05:00:00 UTC        7.0  \n",
            "14  2023-09-20 06:00:00 UTC        7.0  \n"
          ]
        }
      ]
    },
    {
      "cell_type": "code",
      "source": [
        "query = \"\"\"\n",
        "SELECT class, AVG(level) AS avg_level\n",
        "FROM characters\n",
        "WHERE is_alive = True  -- In pandasql, TRUE is represented by 1 and FALSE by 0\n",
        "GROUP BY class\n",
        "HAVING AVG(level) > 22\n",
        "ORDER BY avg_level DESC\n",
        "LIMIT 5;\n",
        "\"\"\"\n",
        "\n",
        "result_df = pd.read_sql_query(query, conn)\n",
        "print(result_df)"
      ],
      "metadata": {
        "id": "Fx8tTDS-qgPv",
        "outputId": "ffce7306-69da-449c-fee8-09e8747798aa",
        "colab": {
          "base_uri": "https://localhost:8080/"
        }
      },
      "execution_count": null,
      "outputs": [
        {
          "output_type": "stream",
          "name": "stdout",
          "text": [
            "    class  avg_level\n",
            "0    Mage  28.500000\n",
            "1  Archer  22.333333\n"
          ]
        }
      ]
    },
    {
      "cell_type": "code",
      "source": [
        "#aliasing\n",
        "query = \"\"\"\n",
        "\n",
        "SELECT name, guild, level as character_level\n",
        "FROM characters\n",
        "\n",
        "\"\"\"\n",
        "\n",
        "result_df = pd.read_sql_query(query, conn)\n",
        "print(result_df)"
      ],
      "metadata": {
        "collapsed": true,
        "id": "bdHGv3Xj9yZf",
        "outputId": "fb08b64c-7219-46b8-ee2c-b02cc015cd1d",
        "colab": {
          "base_uri": "https://localhost:8080/"
        }
      },
      "execution_count": null,
      "outputs": [
        {
          "output_type": "stream",
          "name": "stdout",
          "text": [
            "         name       guild  character_level\n",
            "0     Aragorn     Rangers               25\n",
            "1     Legolas    Mirkwood               22\n",
            "2       Gimli      Erebor               20\n",
            "3       Frodo   Shirefolk               12\n",
            "4         Sam   Shirefolk               13\n",
            "5     Gandalf      Istari               30\n",
            "6     Boromir      Gondor               18\n",
            "7       Merry   Shirefolk               11\n",
            "8      Pippin   Shirefolk               11\n",
            "9      Sauron  Dark Lords               40\n",
            "10    Saruman      Istari               28\n",
            "11     Elrond   Rivendell               27\n",
            "12  Thranduil    Mirkwood               26\n",
            "13      Eowyn       Rohan               17\n",
            "14    Faramir      Gondor               19\n"
          ]
        }
      ]
    },
    {
      "cell_type": "code",
      "source": [
        "#constants\n",
        "query = \"\"\"\n",
        "\n",
        "SELECT name, guild, level as character_level, 1 as version\n",
        "FROM characters\n",
        "\n",
        "\"\"\"\n",
        "\n",
        "result_df = pd.read_sql_query(query, conn)\n",
        "print(result_df)"
      ],
      "metadata": {
        "collapsed": true,
        "id": "1Md_T7Yh-A8w",
        "outputId": "b27f74c4-3db6-4187-8e54-3f8874b4b3a8",
        "colab": {
          "base_uri": "https://localhost:8080/"
        }
      },
      "execution_count": null,
      "outputs": [
        {
          "output_type": "stream",
          "name": "stdout",
          "text": [
            "         name       guild  character_level  version\n",
            "0     Aragorn     Rangers               25        1\n",
            "1     Legolas    Mirkwood               22        1\n",
            "2       Gimli      Erebor               20        1\n",
            "3       Frodo   Shirefolk               12        1\n",
            "4         Sam   Shirefolk               13        1\n",
            "5     Gandalf      Istari               30        1\n",
            "6     Boromir      Gondor               18        1\n",
            "7       Merry   Shirefolk               11        1\n",
            "8      Pippin   Shirefolk               11        1\n",
            "9      Sauron  Dark Lords               40        1\n",
            "10    Saruman      Istari               28        1\n",
            "11     Elrond   Rivendell               27        1\n",
            "12  Thranduil    Mirkwood               26        1\n",
            "13      Eowyn       Rohan               17        1\n",
            "14    Faramir      Gondor               19        1\n"
          ]
        }
      ]
    },
    {
      "cell_type": "code",
      "source": [
        "#calculations\n",
        "query = \"\"\"\n",
        "\n",
        "SELECT name, guild, level as character_level, 1 as version,\n",
        "experience, experience / 100\n",
        "FROM characters\n",
        "\n",
        "\"\"\"\n",
        "\n",
        "result_df = pd.read_sql_query(query, conn)\n",
        "print(result_df)\n"
      ],
      "metadata": {
        "collapsed": true,
        "id": "pgIHK_jdBsqX",
        "outputId": "45b32664-dcba-409c-82a2-a58bf31cc90a",
        "colab": {
          "base_uri": "https://localhost:8080/"
        }
      },
      "execution_count": null,
      "outputs": [
        {
          "output_type": "stream",
          "name": "stdout",
          "text": [
            "         name       guild  character_level  version  experience  \\\n",
            "0     Aragorn     Rangers               25        1        9000   \n",
            "1     Legolas    Mirkwood               22        1        7500   \n",
            "2       Gimli      Erebor               20        1        6000   \n",
            "3       Frodo   Shirefolk               12        1        2500   \n",
            "4         Sam   Shirefolk               13        1        2750   \n",
            "5     Gandalf      Istari               30        1       10000   \n",
            "6     Boromir      Gondor               18        1        5500   \n",
            "7       Merry   Shirefolk               11        1        2200   \n",
            "8      Pippin   Shirefolk               11        1        2100   \n",
            "9      Sauron  Dark Lords               40        1       15000   \n",
            "10    Saruman      Istari               28        1        8500   \n",
            "11     Elrond   Rivendell               27        1        8200   \n",
            "12  Thranduil    Mirkwood               26        1        7900   \n",
            "13      Eowyn       Rohan               17        1        5200   \n",
            "14    Faramir      Gondor               19        1        5700   \n",
            "\n",
            "    experience / 100  \n",
            "0                 90  \n",
            "1                 75  \n",
            "2                 60  \n",
            "3                 25  \n",
            "4                 27  \n",
            "5                100  \n",
            "6                 55  \n",
            "7                 22  \n",
            "8                 21  \n",
            "9                150  \n",
            "10                85  \n",
            "11                82  \n",
            "12                79  \n",
            "13                52  \n",
            "14                57  \n"
          ]
        }
      ]
    },
    {
      "cell_type": "code",
      "source": [
        "#cant calculate with alias as SELECT and alias will be executed at the same time\n",
        "query = \"\"\"\n",
        "\n",
        "SELECT name, guild, level as character_level, 1 as version,\n",
        "experience, experience / 100,\n",
        "experience + 100 / character_level + 2\n",
        "FROM characters\n",
        "\n",
        "\"\"\"  # Removed the period after version\n",
        "\n",
        "result_df = pd.read_sql_query(query, conn)\n",
        "print(result_df)"
      ],
      "metadata": {
        "id": "fTKTce1oE4f5",
        "outputId": "91fd2e5d-755f-4ae5-b47f-1c90409cb003",
        "colab": {
          "base_uri": "https://localhost:8080/",
          "height": 530
        }
      },
      "execution_count": null,
      "outputs": [
        {
          "output_type": "error",
          "ename": "DatabaseError",
          "evalue": "Execution failed on sql '\n\nSELECT name, guild, level as character_level, 1 as version,\nexperience, experience / 100,\nexperience + 100 / character_level + 2\nFROM characters\n\n': no such column: character_level",
          "traceback": [
            "\u001b[0;31m---------------------------------------------------------------------------\u001b[0m",
            "\u001b[0;31mOperationalError\u001b[0m                          Traceback (most recent call last)",
            "\u001b[0;32m/usr/local/lib/python3.10/dist-packages/pandas/io/sql.py\u001b[0m in \u001b[0;36mexecute\u001b[0;34m(self, sql, params)\u001b[0m\n\u001b[1;32m   2261\u001b[0m         \u001b[0;32mtry\u001b[0m\u001b[0;34m:\u001b[0m\u001b[0;34m\u001b[0m\u001b[0;34m\u001b[0m\u001b[0m\n\u001b[0;32m-> 2262\u001b[0;31m             \u001b[0mcur\u001b[0m\u001b[0;34m.\u001b[0m\u001b[0mexecute\u001b[0m\u001b[0;34m(\u001b[0m\u001b[0msql\u001b[0m\u001b[0;34m,\u001b[0m \u001b[0;34m*\u001b[0m\u001b[0margs\u001b[0m\u001b[0;34m)\u001b[0m\u001b[0;34m\u001b[0m\u001b[0;34m\u001b[0m\u001b[0m\n\u001b[0m\u001b[1;32m   2263\u001b[0m             \u001b[0;32mreturn\u001b[0m \u001b[0mcur\u001b[0m\u001b[0;34m\u001b[0m\u001b[0;34m\u001b[0m\u001b[0m\n",
            "\u001b[0;31mOperationalError\u001b[0m: no such column: character_level",
            "\nThe above exception was the direct cause of the following exception:\n",
            "\u001b[0;31mDatabaseError\u001b[0m                             Traceback (most recent call last)",
            "\u001b[0;32m<ipython-input-126-47e48ff907f6>\u001b[0m in \u001b[0;36m<cell line: 11>\u001b[0;34m()\u001b[0m\n\u001b[1;32m      9\u001b[0m \"\"\"  # Removed the period after version\n\u001b[1;32m     10\u001b[0m \u001b[0;34m\u001b[0m\u001b[0m\n\u001b[0;32m---> 11\u001b[0;31m \u001b[0mresult_df\u001b[0m \u001b[0;34m=\u001b[0m \u001b[0mpd\u001b[0m\u001b[0;34m.\u001b[0m\u001b[0mread_sql_query\u001b[0m\u001b[0;34m(\u001b[0m\u001b[0mquery\u001b[0m\u001b[0;34m,\u001b[0m \u001b[0mconn\u001b[0m\u001b[0;34m)\u001b[0m\u001b[0;34m\u001b[0m\u001b[0;34m\u001b[0m\u001b[0m\n\u001b[0m\u001b[1;32m     12\u001b[0m \u001b[0mprint\u001b[0m\u001b[0;34m(\u001b[0m\u001b[0mresult_df\u001b[0m\u001b[0;34m)\u001b[0m\u001b[0;34m\u001b[0m\u001b[0;34m\u001b[0m\u001b[0m\n",
            "\u001b[0;32m/usr/local/lib/python3.10/dist-packages/pandas/io/sql.py\u001b[0m in \u001b[0;36mread_sql_query\u001b[0;34m(sql, con, index_col, coerce_float, params, parse_dates, chunksize, dtype, dtype_backend)\u001b[0m\n\u001b[1;32m    484\u001b[0m \u001b[0;34m\u001b[0m\u001b[0m\n\u001b[1;32m    485\u001b[0m     \u001b[0;32mwith\u001b[0m \u001b[0mpandasSQL_builder\u001b[0m\u001b[0;34m(\u001b[0m\u001b[0mcon\u001b[0m\u001b[0;34m)\u001b[0m \u001b[0;32mas\u001b[0m \u001b[0mpandas_sql\u001b[0m\u001b[0;34m:\u001b[0m\u001b[0;34m\u001b[0m\u001b[0;34m\u001b[0m\u001b[0m\n\u001b[0;32m--> 486\u001b[0;31m         return pandas_sql.read_query(\n\u001b[0m\u001b[1;32m    487\u001b[0m             \u001b[0msql\u001b[0m\u001b[0;34m,\u001b[0m\u001b[0;34m\u001b[0m\u001b[0;34m\u001b[0m\u001b[0m\n\u001b[1;32m    488\u001b[0m             \u001b[0mindex_col\u001b[0m\u001b[0;34m=\u001b[0m\u001b[0mindex_col\u001b[0m\u001b[0;34m,\u001b[0m\u001b[0;34m\u001b[0m\u001b[0;34m\u001b[0m\u001b[0m\n",
            "\u001b[0;32m/usr/local/lib/python3.10/dist-packages/pandas/io/sql.py\u001b[0m in \u001b[0;36mread_query\u001b[0;34m(self, sql, index_col, coerce_float, parse_dates, params, chunksize, dtype, dtype_backend)\u001b[0m\n\u001b[1;32m   2324\u001b[0m         \u001b[0mdtype_backend\u001b[0m\u001b[0;34m:\u001b[0m \u001b[0mDtypeBackend\u001b[0m \u001b[0;34m|\u001b[0m \u001b[0mLiteral\u001b[0m\u001b[0;34m[\u001b[0m\u001b[0;34m\"numpy\"\u001b[0m\u001b[0;34m]\u001b[0m \u001b[0;34m=\u001b[0m \u001b[0;34m\"numpy\"\u001b[0m\u001b[0;34m,\u001b[0m\u001b[0;34m\u001b[0m\u001b[0;34m\u001b[0m\u001b[0m\n\u001b[1;32m   2325\u001b[0m     ) -> DataFrame | Iterator[DataFrame]:\n\u001b[0;32m-> 2326\u001b[0;31m         \u001b[0mcursor\u001b[0m \u001b[0;34m=\u001b[0m \u001b[0mself\u001b[0m\u001b[0;34m.\u001b[0m\u001b[0mexecute\u001b[0m\u001b[0;34m(\u001b[0m\u001b[0msql\u001b[0m\u001b[0;34m,\u001b[0m \u001b[0mparams\u001b[0m\u001b[0;34m)\u001b[0m\u001b[0;34m\u001b[0m\u001b[0;34m\u001b[0m\u001b[0m\n\u001b[0m\u001b[1;32m   2327\u001b[0m         \u001b[0mcolumns\u001b[0m \u001b[0;34m=\u001b[0m \u001b[0;34m[\u001b[0m\u001b[0mcol_desc\u001b[0m\u001b[0;34m[\u001b[0m\u001b[0;36m0\u001b[0m\u001b[0;34m]\u001b[0m \u001b[0;32mfor\u001b[0m \u001b[0mcol_desc\u001b[0m \u001b[0;32min\u001b[0m \u001b[0mcursor\u001b[0m\u001b[0;34m.\u001b[0m\u001b[0mdescription\u001b[0m\u001b[0;34m]\u001b[0m\u001b[0;34m\u001b[0m\u001b[0;34m\u001b[0m\u001b[0m\n\u001b[1;32m   2328\u001b[0m \u001b[0;34m\u001b[0m\u001b[0m\n",
            "\u001b[0;32m/usr/local/lib/python3.10/dist-packages/pandas/io/sql.py\u001b[0m in \u001b[0;36mexecute\u001b[0;34m(self, sql, params)\u001b[0m\n\u001b[1;32m   2272\u001b[0m \u001b[0;34m\u001b[0m\u001b[0m\n\u001b[1;32m   2273\u001b[0m             \u001b[0mex\u001b[0m \u001b[0;34m=\u001b[0m \u001b[0mDatabaseError\u001b[0m\u001b[0;34m(\u001b[0m\u001b[0;34mf\"Execution failed on sql '{sql}': {exc}\"\u001b[0m\u001b[0;34m)\u001b[0m\u001b[0;34m\u001b[0m\u001b[0;34m\u001b[0m\u001b[0m\n\u001b[0;32m-> 2274\u001b[0;31m             \u001b[0;32mraise\u001b[0m \u001b[0mex\u001b[0m \u001b[0;32mfrom\u001b[0m \u001b[0mexc\u001b[0m\u001b[0;34m\u001b[0m\u001b[0;34m\u001b[0m\u001b[0m\n\u001b[0m\u001b[1;32m   2275\u001b[0m \u001b[0;34m\u001b[0m\u001b[0m\n\u001b[1;32m   2276\u001b[0m     \u001b[0;34m@\u001b[0m\u001b[0mstaticmethod\u001b[0m\u001b[0;34m\u001b[0m\u001b[0;34m\u001b[0m\u001b[0m\n",
            "\u001b[0;31mDatabaseError\u001b[0m: Execution failed on sql '\n\nSELECT name, guild, level as character_level, 1 as version,\nexperience, experience / 100,\nexperience + 100 / character_level + 2\nFROM characters\n\n': no such column: character_level"
          ]
        }
      ]
    },
    {
      "cell_type": "markdown",
      "source": [
        "**Hypothesis**\n",
        "The error message \"OperationalError: no such column: character_level\" indicates that you're trying to use the alias 'character_level' in a calculation within the same SELECT statement where it's defined. SQL generally processes these statements in a linear fashion, so the alias isn't recognized when you try to use it later in the calculation."
      ],
      "metadata": {
        "id": "EBvcGU23Hqym"
      }
    },
    {
      "cell_type": "code",
      "source": [
        "#cant calculate with alias as SELECT and alias will be executed at the same time\n",
        "query = \"\"\"\n",
        "\n",
        "SELECT name, guild, level as character_level, 1 as version,\n",
        "experience, experience / 100,\n",
        "experience + (100 / level) +2\n",
        "FROM characters\n",
        "\n",
        "\"\"\"  # Removed the period after version\n",
        "\n",
        "result_df = pd.read_sql_query(query, conn)\n",
        "print(result_df)"
      ],
      "metadata": {
        "collapsed": true,
        "id": "x1NRdHMKHshC",
        "outputId": "d16ef0be-9168-4616-dac2-6c86c0125148",
        "colab": {
          "base_uri": "https://localhost:8080/"
        }
      },
      "execution_count": null,
      "outputs": [
        {
          "output_type": "stream",
          "name": "stdout",
          "text": [
            "         name       guild  character_level  version  experience  \\\n",
            "0     Aragorn     Rangers               25        1        9000   \n",
            "1     Legolas    Mirkwood               22        1        7500   \n",
            "2       Gimli      Erebor               20        1        6000   \n",
            "3       Frodo   Shirefolk               12        1        2500   \n",
            "4         Sam   Shirefolk               13        1        2750   \n",
            "5     Gandalf      Istari               30        1       10000   \n",
            "6     Boromir      Gondor               18        1        5500   \n",
            "7       Merry   Shirefolk               11        1        2200   \n",
            "8      Pippin   Shirefolk               11        1        2100   \n",
            "9      Sauron  Dark Lords               40        1       15000   \n",
            "10    Saruman      Istari               28        1        8500   \n",
            "11     Elrond   Rivendell               27        1        8200   \n",
            "12  Thranduil    Mirkwood               26        1        7900   \n",
            "13      Eowyn       Rohan               17        1        5200   \n",
            "14    Faramir      Gondor               19        1        5700   \n",
            "\n",
            "    experience / 100  experience + (100 / level) +2  \n",
            "0                 90                           9006  \n",
            "1                 75                           7506  \n",
            "2                 60                           6007  \n",
            "3                 25                           2510  \n",
            "4                 27                           2759  \n",
            "5                100                          10005  \n",
            "6                 55                           5507  \n",
            "7                 22                           2211  \n",
            "8                 21                           2111  \n",
            "9                150                          15004  \n",
            "10                85                           8505  \n",
            "11                82                           8205  \n",
            "12                79                           7905  \n",
            "13                52                           5207  \n",
            "14                57                           5707  \n"
          ]
        }
      ]
    },
    {
      "cell_type": "code",
      "source": [
        "#functions\n",
        "query = \"\"\"\n",
        "\n",
        "SELECT name, guild, level as character_level, 1 as version,\n",
        "experience, experience / 100,\n",
        "experience + (100 / level) + 2,\n",
        "SQRT(16), SQRT(level),\n",
        "UPPER(guild)\n",
        "FROM characters\n",
        "\n",
        "\"\"\"\n",
        "\n",
        "result_df = pd.read_sql_query(query, conn)\n",
        "print(result_df)\n"
      ],
      "metadata": {
        "id": "oM-6QDRGNdnU",
        "collapsed": true
      },
      "execution_count": null,
      "outputs": []
    },
    {
      "cell_type": "code",
      "source": [
        "create_table = \"\"\"\n",
        "CREATE TABLE IF NOT EXISTS characters_alive AS\n",
        "SELECT *\n",
        "FROM characters\n",
        "WHERE is_alive = True\n",
        "\"\"\"\n",
        "conn.execute(create_table)\n",
        "\n",
        "get_table = \"\"\"\n",
        "SELECT * FROM characters_alive\n",
        "\"\"\"\n",
        "result_df = pd.read_sql_query(get_table, conn)\n",
        "print(result_df)\n",
        "result_df.to_csv('characters_alive.csv', index=False)\n",
        "print(\"CSV file created: characters_alive.csv\")"
      ],
      "metadata": {
        "collapsed": true,
        "colab": {
          "base_uri": "https://localhost:8080/"
        },
        "id": "qcAVkV-m0YRe",
        "outputId": "c33a0b65-1709-4d69-9dec-cdfbe1e690e3"
      },
      "execution_count": null,
      "outputs": [
        {
          "output_type": "stream",
          "name": "stdout",
          "text": [
            "    id       name      guild    class  level  experience  health  is_alive  \\\n",
            "0    1    Aragorn    Rangers  Warrior     25        9000  120.50         1   \n",
            "1    2    Legolas   Mirkwood   Archer     22        7500  100.75         1   \n",
            "2    3      Gimli     Erebor  Warrior     20        6000  130.25         1   \n",
            "3    5        Sam  Shirefolk   Hobbit     13        2750   52.50         1   \n",
            "4    6    Gandalf     Istari     Mage     30       10000   90.00         1   \n",
            "5    8      Merry  Shirefolk   Hobbit     11        2200   48.50         1   \n",
            "6    9     Pippin  Shirefolk   Hobbit     11        2100   47.50         1   \n",
            "7   12     Elrond  Rivendell     Mage     27        8200   87.50         1   \n",
            "8   13  Thranduil   Mirkwood   Archer     26        7900   97.00         1   \n",
            "9   14      Eowyn      Rohan  Warrior     17        5200  112.50         1   \n",
            "10  15    Faramir     Gondor   Archer     19        5700  118.50         1   \n",
            "\n",
            "                last_active  mentor_id  \n",
            "0   2023-09-20 08:00:00 UTC        NaN  \n",
            "1   2023-09-21 09:00:00 UTC        NaN  \n",
            "2   2023-09-22 07:00:00 UTC        NaN  \n",
            "3   2023-09-23 10:05:00 UTC        1.0  \n",
            "4   2023-09-20 11:00:00 UTC        NaN  \n",
            "5   2023-09-22 10:00:00 UTC        4.0  \n",
            "6   2023-09-22 10:01:00 UTC        4.0  \n",
            "7   2023-09-21 04:00:00 UTC        6.0  \n",
            "8   2023-09-22 02:00:00 UTC        2.0  \n",
            "9   2023-09-23 05:00:00 UTC        7.0  \n",
            "10  2023-09-20 06:00:00 UTC        7.0  \n",
            "CSV file created: characters_alive.csv\n"
          ]
        }
      ]
    },
    {
      "cell_type": "code",
      "source": [
        "create_table = \"\"\"\n",
        "CREATE TABLE IF NOT EXISTS characters_dead AS\n",
        "SELECT * FROM characters\n",
        "WHERE is_alive = False\n",
        "\n",
        "\"\"\"\n",
        "conn.execute(create_table)\n",
        "\n",
        "get_table = \"\"\"\n",
        "SELECT * FROM characters_dead\n",
        "\"\"\"\n",
        "result_df = pd.read_sql_query(get_table, conn)\n",
        "print(result_df)\n",
        "result_df.to_csv('characters_dead.csv', index=False)\n",
        "print(\"CSV file created: characters_dead.csv\")\n"
      ],
      "metadata": {
        "colab": {
          "base_uri": "https://localhost:8080/"
        },
        "collapsed": true,
        "id": "oKYK6Lqm1dX8",
        "outputId": "552f82e5-b02d-4c99-9390-2a62d84ce5a4"
      },
      "execution_count": null,
      "outputs": [
        {
          "output_type": "stream",
          "name": "stdout",
          "text": [
            "   id     name       guild    class  level  experience  health  is_alive  \\\n",
            "0   4    Frodo   Shirefolk   Hobbit     12        2500    50.5         0   \n",
            "1   7  Boromir      Gondor  Warrior     18        5500   115.5         0   \n",
            "2  10   Sauron  Dark Lords     Mage     40       15000    85.0         0   \n",
            "3  11  Saruman      Istari     Mage     28        8500    88.5         0   \n",
            "\n",
            "               last_active  mentor_id  \n",
            "0  2023-09-23 10:00:00 UTC        1.0  \n",
            "1  2023-09-21 12:00:00 UTC        NaN  \n",
            "2  2023-09-23 01:00:00 UTC        NaN  \n",
            "3  2023-09-20 03:00:00 UTC        6.0  \n",
            "CSV file created: characters_dead.csv\n"
          ]
        }
      ]
    },
    {
      "cell_type": "code",
      "source": [
        "get_tables = \"\"\"\n",
        "SELECT * FROM characters_alive\n",
        "SELECT * FROM characters_dead\n",
        "\"\"\"\n",
        "result_df = pd.read_sql_query(get_tables, conn)\n",
        "print(result_df)\n",
        "#"
      ],
      "metadata": {
        "collapsed": true,
        "id": "cHpJ91Vr3dc7",
        "outputId": "98f2530e-39c0-4eb1-b5b9-2db62885821d",
        "colab": {
          "base_uri": "https://localhost:8080/",
          "height": 460
        }
      },
      "execution_count": 150,
      "outputs": [
        {
          "output_type": "error",
          "ename": "DatabaseError",
          "evalue": "Execution failed on sql '\nSELECT * FROM characters_alive\nSELECT * FROM characters_dead\n': near \"SELECT\": syntax error",
          "traceback": [
            "\u001b[0;31m---------------------------------------------------------------------------\u001b[0m",
            "\u001b[0;31mOperationalError\u001b[0m                          Traceback (most recent call last)",
            "\u001b[0;32m/usr/local/lib/python3.10/dist-packages/pandas/io/sql.py\u001b[0m in \u001b[0;36mexecute\u001b[0;34m(self, sql, params)\u001b[0m\n\u001b[1;32m   2261\u001b[0m         \u001b[0;32mtry\u001b[0m\u001b[0;34m:\u001b[0m\u001b[0;34m\u001b[0m\u001b[0;34m\u001b[0m\u001b[0m\n\u001b[0;32m-> 2262\u001b[0;31m             \u001b[0mcur\u001b[0m\u001b[0;34m.\u001b[0m\u001b[0mexecute\u001b[0m\u001b[0;34m(\u001b[0m\u001b[0msql\u001b[0m\u001b[0;34m,\u001b[0m \u001b[0;34m*\u001b[0m\u001b[0margs\u001b[0m\u001b[0;34m)\u001b[0m\u001b[0;34m\u001b[0m\u001b[0;34m\u001b[0m\u001b[0m\n\u001b[0m\u001b[1;32m   2263\u001b[0m             \u001b[0;32mreturn\u001b[0m \u001b[0mcur\u001b[0m\u001b[0;34m\u001b[0m\u001b[0;34m\u001b[0m\u001b[0m\n",
            "\u001b[0;31mOperationalError\u001b[0m: near \"SELECT\": syntax error",
            "\nThe above exception was the direct cause of the following exception:\n",
            "\u001b[0;31mDatabaseError\u001b[0m                             Traceback (most recent call last)",
            "\u001b[0;32m<ipython-input-150-b08b3764dc28>\u001b[0m in \u001b[0;36m<cell line: 5>\u001b[0;34m()\u001b[0m\n\u001b[1;32m      3\u001b[0m \u001b[0mSELECT\u001b[0m \u001b[0;34m*\u001b[0m \u001b[0mFROM\u001b[0m \u001b[0mcharacters_dead\u001b[0m\u001b[0;34m\u001b[0m\u001b[0;34m\u001b[0m\u001b[0m\n\u001b[1;32m      4\u001b[0m \"\"\"\n\u001b[0;32m----> 5\u001b[0;31m \u001b[0mresult_df\u001b[0m \u001b[0;34m=\u001b[0m \u001b[0mpd\u001b[0m\u001b[0;34m.\u001b[0m\u001b[0mread_sql_query\u001b[0m\u001b[0;34m(\u001b[0m\u001b[0mget_tables\u001b[0m\u001b[0;34m,\u001b[0m \u001b[0mconn\u001b[0m\u001b[0;34m)\u001b[0m\u001b[0;34m\u001b[0m\u001b[0;34m\u001b[0m\u001b[0m\n\u001b[0m\u001b[1;32m      6\u001b[0m \u001b[0mprint\u001b[0m\u001b[0;34m(\u001b[0m\u001b[0mresult_df\u001b[0m\u001b[0;34m)\u001b[0m\u001b[0;34m\u001b[0m\u001b[0;34m\u001b[0m\u001b[0m\n\u001b[1;32m      7\u001b[0m \u001b[0;31m#\u001b[0m\u001b[0;34m\u001b[0m\u001b[0;34m\u001b[0m\u001b[0m\n",
            "\u001b[0;32m/usr/local/lib/python3.10/dist-packages/pandas/io/sql.py\u001b[0m in \u001b[0;36mread_sql_query\u001b[0;34m(sql, con, index_col, coerce_float, params, parse_dates, chunksize, dtype, dtype_backend)\u001b[0m\n\u001b[1;32m    484\u001b[0m \u001b[0;34m\u001b[0m\u001b[0m\n\u001b[1;32m    485\u001b[0m     \u001b[0;32mwith\u001b[0m \u001b[0mpandasSQL_builder\u001b[0m\u001b[0;34m(\u001b[0m\u001b[0mcon\u001b[0m\u001b[0;34m)\u001b[0m \u001b[0;32mas\u001b[0m \u001b[0mpandas_sql\u001b[0m\u001b[0;34m:\u001b[0m\u001b[0;34m\u001b[0m\u001b[0;34m\u001b[0m\u001b[0m\n\u001b[0;32m--> 486\u001b[0;31m         return pandas_sql.read_query(\n\u001b[0m\u001b[1;32m    487\u001b[0m             \u001b[0msql\u001b[0m\u001b[0;34m,\u001b[0m\u001b[0;34m\u001b[0m\u001b[0;34m\u001b[0m\u001b[0m\n\u001b[1;32m    488\u001b[0m             \u001b[0mindex_col\u001b[0m\u001b[0;34m=\u001b[0m\u001b[0mindex_col\u001b[0m\u001b[0;34m,\u001b[0m\u001b[0;34m\u001b[0m\u001b[0;34m\u001b[0m\u001b[0m\n",
            "\u001b[0;32m/usr/local/lib/python3.10/dist-packages/pandas/io/sql.py\u001b[0m in \u001b[0;36mread_query\u001b[0;34m(self, sql, index_col, coerce_float, parse_dates, params, chunksize, dtype, dtype_backend)\u001b[0m\n\u001b[1;32m   2324\u001b[0m         \u001b[0mdtype_backend\u001b[0m\u001b[0;34m:\u001b[0m \u001b[0mDtypeBackend\u001b[0m \u001b[0;34m|\u001b[0m \u001b[0mLiteral\u001b[0m\u001b[0;34m[\u001b[0m\u001b[0;34m\"numpy\"\u001b[0m\u001b[0;34m]\u001b[0m \u001b[0;34m=\u001b[0m \u001b[0;34m\"numpy\"\u001b[0m\u001b[0;34m,\u001b[0m\u001b[0;34m\u001b[0m\u001b[0;34m\u001b[0m\u001b[0m\n\u001b[1;32m   2325\u001b[0m     ) -> DataFrame | Iterator[DataFrame]:\n\u001b[0;32m-> 2326\u001b[0;31m         \u001b[0mcursor\u001b[0m \u001b[0;34m=\u001b[0m \u001b[0mself\u001b[0m\u001b[0;34m.\u001b[0m\u001b[0mexecute\u001b[0m\u001b[0;34m(\u001b[0m\u001b[0msql\u001b[0m\u001b[0;34m,\u001b[0m \u001b[0mparams\u001b[0m\u001b[0;34m)\u001b[0m\u001b[0;34m\u001b[0m\u001b[0;34m\u001b[0m\u001b[0m\n\u001b[0m\u001b[1;32m   2327\u001b[0m         \u001b[0mcolumns\u001b[0m \u001b[0;34m=\u001b[0m \u001b[0;34m[\u001b[0m\u001b[0mcol_desc\u001b[0m\u001b[0;34m[\u001b[0m\u001b[0;36m0\u001b[0m\u001b[0;34m]\u001b[0m \u001b[0;32mfor\u001b[0m \u001b[0mcol_desc\u001b[0m \u001b[0;32min\u001b[0m \u001b[0mcursor\u001b[0m\u001b[0;34m.\u001b[0m\u001b[0mdescription\u001b[0m\u001b[0;34m]\u001b[0m\u001b[0;34m\u001b[0m\u001b[0;34m\u001b[0m\u001b[0m\n\u001b[1;32m   2328\u001b[0m \u001b[0;34m\u001b[0m\u001b[0m\n",
            "\u001b[0;32m/usr/local/lib/python3.10/dist-packages/pandas/io/sql.py\u001b[0m in \u001b[0;36mexecute\u001b[0;34m(self, sql, params)\u001b[0m\n\u001b[1;32m   2272\u001b[0m \u001b[0;34m\u001b[0m\u001b[0m\n\u001b[1;32m   2273\u001b[0m             \u001b[0mex\u001b[0m \u001b[0;34m=\u001b[0m \u001b[0mDatabaseError\u001b[0m\u001b[0;34m(\u001b[0m\u001b[0;34mf\"Execution failed on sql '{sql}': {exc}\"\u001b[0m\u001b[0;34m)\u001b[0m\u001b[0;34m\u001b[0m\u001b[0;34m\u001b[0m\u001b[0m\n\u001b[0;32m-> 2274\u001b[0;31m             \u001b[0;32mraise\u001b[0m \u001b[0mex\u001b[0m \u001b[0;32mfrom\u001b[0m \u001b[0mexc\u001b[0m\u001b[0;34m\u001b[0m\u001b[0;34m\u001b[0m\u001b[0m\n\u001b[0m\u001b[1;32m   2275\u001b[0m \u001b[0;34m\u001b[0m\u001b[0m\n\u001b[1;32m   2276\u001b[0m     \u001b[0;34m@\u001b[0m\u001b[0mstaticmethod\u001b[0m\u001b[0;34m\u001b[0m\u001b[0;34m\u001b[0m\u001b[0m\n",
            "\u001b[0;31mDatabaseError\u001b[0m: Execution failed on sql '\nSELECT * FROM characters_alive\nSELECT * FROM characters_dead\n': near \"SELECT\": syntax error"
          ]
        }
      ]
    },
    {
      "cell_type": "code",
      "source": [
        "get_tables = \"\"\"\n",
        "SELECT * FROM characters_alive\n",
        "UNION\n",
        "SELECT * FROM characters_dead\n",
        "\"\"\"\n",
        "result_df = pd.read_sql_query(get_tables,conn)\n",
        "print(result_df)"
      ],
      "metadata": {
        "id": "8M9wU_Kb4cAQ",
        "outputId": "53232fde-b84f-4efe-a546-de3d9159cd1d",
        "colab": {
          "base_uri": "https://localhost:8080/"
        }
      },
      "execution_count": 154,
      "outputs": [
        {
          "output_type": "stream",
          "name": "stdout",
          "text": [
            "    id       name       guild    class  level  experience  health  is_alive  \\\n",
            "0    1    Aragorn     Rangers  Warrior     25        9000  120.50         1   \n",
            "1    2    Legolas    Mirkwood   Archer     22        7500  100.75         1   \n",
            "2    3      Gimli      Erebor  Warrior     20        6000  130.25         1   \n",
            "3    4      Frodo   Shirefolk   Hobbit     12        2500   50.50         0   \n",
            "4    5        Sam   Shirefolk   Hobbit     13        2750   52.50         1   \n",
            "5    6    Gandalf      Istari     Mage     30       10000   90.00         1   \n",
            "6    7    Boromir      Gondor  Warrior     18        5500  115.50         0   \n",
            "7    8      Merry   Shirefolk   Hobbit     11        2200   48.50         1   \n",
            "8    9     Pippin   Shirefolk   Hobbit     11        2100   47.50         1   \n",
            "9   10     Sauron  Dark Lords     Mage     40       15000   85.00         0   \n",
            "10  11    Saruman      Istari     Mage     28        8500   88.50         0   \n",
            "11  12     Elrond   Rivendell     Mage     27        8200   87.50         1   \n",
            "12  13  Thranduil    Mirkwood   Archer     26        7900   97.00         1   \n",
            "13  14      Eowyn       Rohan  Warrior     17        5200  112.50         1   \n",
            "14  15    Faramir      Gondor   Archer     19        5700  118.50         1   \n",
            "\n",
            "                last_active  mentor_id  \n",
            "0   2023-09-20 08:00:00 UTC        NaN  \n",
            "1   2023-09-21 09:00:00 UTC        NaN  \n",
            "2   2023-09-22 07:00:00 UTC        NaN  \n",
            "3   2023-09-23 10:00:00 UTC        1.0  \n",
            "4   2023-09-23 10:05:00 UTC        1.0  \n",
            "5   2023-09-20 11:00:00 UTC        NaN  \n",
            "6   2023-09-21 12:00:00 UTC        NaN  \n",
            "7   2023-09-22 10:00:00 UTC        4.0  \n",
            "8   2023-09-22 10:01:00 UTC        4.0  \n",
            "9   2023-09-23 01:00:00 UTC        NaN  \n",
            "10  2023-09-20 03:00:00 UTC        6.0  \n",
            "11  2023-09-21 04:00:00 UTC        6.0  \n",
            "12  2023-09-22 02:00:00 UTC        2.0  \n",
            "13  2023-09-23 05:00:00 UTC        7.0  \n",
            "14  2023-09-20 06:00:00 UTC        7.0  \n"
          ]
        }
      ]
    }
  ],
  "metadata": {
    "colab": {
      "name": "Welcome To Colab",
      "provenance": [],
      "include_colab_link": true
    },
    "kernelspec": {
      "display_name": "Python 3",
      "name": "python3"
    }
  },
  "nbformat": 4,
  "nbformat_minor": 0
}