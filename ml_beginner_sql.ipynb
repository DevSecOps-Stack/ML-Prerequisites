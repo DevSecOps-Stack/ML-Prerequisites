{
  "cells": [
    {
      "cell_type": "markdown",
      "metadata": {
        "id": "view-in-github",
        "colab_type": "text"
      },
      "source": [
        "<a href=\"https://colab.research.google.com/github/DevSecOps-Stack/ML-Prerequisites/blob/main/ml_beginner_sql.ipynb\" target=\"_parent\"><img src=\"https://colab.research.google.com/assets/colab-badge.svg\" alt=\"Open In Colab\"/></a>"
      ]
    },
    {
      "cell_type": "code",
      "source": [
        "!pip install -q pandasql"
      ],
      "metadata": {
        "colab": {
          "base_uri": "https://localhost:8080/"
        },
        "id": "zlIUjMyLdl8q",
        "outputId": "55075820-3b11-471d-8480-7e9c9376036f"
      },
      "execution_count": 2,
      "outputs": [
        {
          "output_type": "stream",
          "name": "stdout",
          "text": [
            "  Preparing metadata (setup.py) ... \u001b[?25l\u001b[?25hdone\n",
            "  Building wheel for pandasql (setup.py) ... \u001b[?25l\u001b[?25hdone\n"
          ]
        }
      ]
    },
    {
      "cell_type": "code",
      "source": [
        "import pandas as pd\n",
        "import pandasql as psql"
      ],
      "metadata": {
        "id": "jFpj6Keldr9D"
      },
      "execution_count": 3,
      "outputs": []
    },
    {
      "cell_type": "code",
      "source": [
        "df = pd.read_csv('/content/characters.csv')\n",
        "\n",
        "print(df)"
      ],
      "metadata": {
        "colab": {
          "base_uri": "https://localhost:8080/"
        },
        "id": "-L8y3DLieP9B",
        "outputId": "6af7e6b4-c87a-456c-9ebd-567486f455b7"
      },
      "execution_count": 4,
      "outputs": [
        {
          "output_type": "stream",
          "name": "stdout",
          "text": [
            "    id       name       guild    class  level  experience  health  is_alive  \\\n",
            "0    1    Aragorn     Rangers  Warrior     25        9000  120.50      True   \n",
            "1    2    Legolas    Mirkwood   Archer     22        7500  100.75      True   \n",
            "2    3      Gimli      Erebor  Warrior     20        6000  130.25      True   \n",
            "3    4      Frodo   Shirefolk   Hobbit     12        2500   50.50     False   \n",
            "4    5        Sam   Shirefolk   Hobbit     13        2750   52.50      True   \n",
            "5    6    Gandalf      Istari     Mage     30       10000   90.00      True   \n",
            "6    7    Boromir      Gondor  Warrior     18        5500  115.50     False   \n",
            "7    8      Merry   Shirefolk   Hobbit     11        2200   48.50      True   \n",
            "8    9     Pippin   Shirefolk   Hobbit     11        2100   47.50      True   \n",
            "9   10     Sauron  Dark Lords     Mage     40       15000   85.00     False   \n",
            "10  11    Saruman      Istari     Mage     28        8500   88.50     False   \n",
            "11  12     Elrond   Rivendell     Mage     27        8200   87.50      True   \n",
            "12  13  Thranduil    Mirkwood   Archer     26        7900   97.00      True   \n",
            "13  14      Eowyn       Rohan  Warrior     17        5200  112.50      True   \n",
            "14  15    Faramir      Gondor   Archer     19        5700  118.50      True   \n",
            "\n",
            "                last_active  mentor_id  \n",
            "0   2023-09-20 08:00:00 UTC        NaN  \n",
            "1   2023-09-21 09:00:00 UTC        NaN  \n",
            "2   2023-09-22 07:00:00 UTC        NaN  \n",
            "3   2023-09-23 10:00:00 UTC        1.0  \n",
            "4   2023-09-23 10:05:00 UTC        1.0  \n",
            "5   2023-09-20 11:00:00 UTC        NaN  \n",
            "6   2023-09-21 12:00:00 UTC        NaN  \n",
            "7   2023-09-22 10:00:00 UTC        4.0  \n",
            "8   2023-09-22 10:01:00 UTC        4.0  \n",
            "9   2023-09-23 01:00:00 UTC        NaN  \n",
            "10  2023-09-20 03:00:00 UTC        6.0  \n",
            "11  2023-09-21 04:00:00 UTC        6.0  \n",
            "12  2023-09-22 02:00:00 UTC        2.0  \n",
            "13  2023-09-23 05:00:00 UTC        7.0  \n",
            "14  2023-09-20 06:00:00 UTC        7.0  \n"
          ]
        }
      ]
    },
    {
      "cell_type": "code",
      "source": [
        "query = \"\"\" SELECT * FROM df LIMIT 100 \"\"\"\n",
        "result = psql.sqldf(query, locals())\n",
        "print(result)"
      ],
      "metadata": {
        "colab": {
          "base_uri": "https://localhost:8080/"
        },
        "id": "MpcY5mqTelRI",
        "outputId": "67707126-4fa9-4006-eaac-dd6aef76d1c3"
      },
      "execution_count": 5,
      "outputs": [
        {
          "output_type": "stream",
          "name": "stdout",
          "text": [
            "    id       name       guild    class  level  experience  health  is_alive  \\\n",
            "0    1    Aragorn     Rangers  Warrior     25        9000  120.50         1   \n",
            "1    2    Legolas    Mirkwood   Archer     22        7500  100.75         1   \n",
            "2    3      Gimli      Erebor  Warrior     20        6000  130.25         1   \n",
            "3    4      Frodo   Shirefolk   Hobbit     12        2500   50.50         0   \n",
            "4    5        Sam   Shirefolk   Hobbit     13        2750   52.50         1   \n",
            "5    6    Gandalf      Istari     Mage     30       10000   90.00         1   \n",
            "6    7    Boromir      Gondor  Warrior     18        5500  115.50         0   \n",
            "7    8      Merry   Shirefolk   Hobbit     11        2200   48.50         1   \n",
            "8    9     Pippin   Shirefolk   Hobbit     11        2100   47.50         1   \n",
            "9   10     Sauron  Dark Lords     Mage     40       15000   85.00         0   \n",
            "10  11    Saruman      Istari     Mage     28        8500   88.50         0   \n",
            "11  12     Elrond   Rivendell     Mage     27        8200   87.50         1   \n",
            "12  13  Thranduil    Mirkwood   Archer     26        7900   97.00         1   \n",
            "13  14      Eowyn       Rohan  Warrior     17        5200  112.50         1   \n",
            "14  15    Faramir      Gondor   Archer     19        5700  118.50         1   \n",
            "\n",
            "                last_active  mentor_id  \n",
            "0   2023-09-20 08:00:00 UTC        NaN  \n",
            "1   2023-09-21 09:00:00 UTC        NaN  \n",
            "2   2023-09-22 07:00:00 UTC        NaN  \n",
            "3   2023-09-23 10:00:00 UTC        1.0  \n",
            "4   2023-09-23 10:05:00 UTC        1.0  \n",
            "5   2023-09-20 11:00:00 UTC        NaN  \n",
            "6   2023-09-21 12:00:00 UTC        NaN  \n",
            "7   2023-09-22 10:00:00 UTC        4.0  \n",
            "8   2023-09-22 10:01:00 UTC        4.0  \n",
            "9   2023-09-23 01:00:00 UTC        NaN  \n",
            "10  2023-09-20 03:00:00 UTC        6.0  \n",
            "11  2023-09-21 04:00:00 UTC        6.0  \n",
            "12  2023-09-22 02:00:00 UTC        2.0  \n",
            "13  2023-09-23 05:00:00 UTC        7.0  \n",
            "14  2023-09-20 06:00:00 UTC        7.0  \n"
          ]
        }
      ]
    },
    {
      "cell_type": "code",
      "source": [
        "print(df.info())"
      ],
      "metadata": {
        "id": "zGfyHdhWkBwA",
        "outputId": "d633a12c-991e-48f8-d6d4-1b972ff7c7a5",
        "colab": {
          "base_uri": "https://localhost:8080/"
        }
      },
      "execution_count": 6,
      "outputs": [
        {
          "output_type": "stream",
          "name": "stdout",
          "text": [
            "<class 'pandas.core.frame.DataFrame'>\n",
            "RangeIndex: 15 entries, 0 to 14\n",
            "Data columns (total 10 columns):\n",
            " #   Column       Non-Null Count  Dtype  \n",
            "---  ------       --------------  -----  \n",
            " 0   id           15 non-null     int64  \n",
            " 1   name         15 non-null     object \n",
            " 2   guild        15 non-null     object \n",
            " 3   class        15 non-null     object \n",
            " 4   level        15 non-null     int64  \n",
            " 5   experience   15 non-null     int64  \n",
            " 6   health       15 non-null     float64\n",
            " 7   is_alive     15 non-null     bool   \n",
            " 8   last_active  15 non-null     object \n",
            " 9   mentor_id    9 non-null      float64\n",
            "dtypes: bool(1), float64(2), int64(3), object(4)\n",
            "memory usage: 1.2+ KB\n",
            "None\n"
          ]
        }
      ]
    },
    {
      "cell_type": "code",
      "source": [
        "query = \"\"\"\n",
        "SELECT class, AVG(level) AS avg_level\n",
        "FROM df\n",
        "WHERE is_alive = True  -- In pandasql, TRUE is represented by 1 and FALSE by 0\n",
        "GROUP BY class\n",
        "HAVING AVG(level) > 22\n",
        "ORDER BY avg_level DESC\n",
        "LIMIT 5;\n",
        "\"\"\"\n",
        "\n",
        "result = psql.sqldf(query, locals())\n",
        "print(result)"
      ],
      "metadata": {
        "id": "Fx8tTDS-qgPv",
        "outputId": "46952177-95d7-49a4-f2f1-227dd3d9e8ec",
        "colab": {
          "base_uri": "https://localhost:8080/"
        }
      },
      "execution_count": 7,
      "outputs": [
        {
          "output_type": "stream",
          "name": "stdout",
          "text": [
            "    class  avg_level\n",
            "0    Mage  28.500000\n",
            "1  Archer  22.333333\n"
          ]
        }
      ]
    },
    {
      "cell_type": "code",
      "source": [
        "#aliasing\n",
        "query = \"\"\"\n",
        "\n",
        "SELECT name, guild, level as character_level\n",
        "FROM df\n",
        "\n",
        "\"\"\"\n",
        "\n",
        "result = psql.sqldf(query, locals())\n",
        "print(result)"
      ],
      "metadata": {
        "collapsed": true,
        "id": "bdHGv3Xj9yZf",
        "outputId": "ccc234f7-c677-4d0c-e90b-26c4c5c77e6d",
        "colab": {
          "base_uri": "https://localhost:8080/"
        }
      },
      "execution_count": 9,
      "outputs": [
        {
          "output_type": "stream",
          "name": "stdout",
          "text": [
            "         name       guild  character_level\n",
            "0     Aragorn     Rangers               25\n",
            "1     Legolas    Mirkwood               22\n",
            "2       Gimli      Erebor               20\n",
            "3       Frodo   Shirefolk               12\n",
            "4         Sam   Shirefolk               13\n",
            "5     Gandalf      Istari               30\n",
            "6     Boromir      Gondor               18\n",
            "7       Merry   Shirefolk               11\n",
            "8      Pippin   Shirefolk               11\n",
            "9      Sauron  Dark Lords               40\n",
            "10    Saruman      Istari               28\n",
            "11     Elrond   Rivendell               27\n",
            "12  Thranduil    Mirkwood               26\n",
            "13      Eowyn       Rohan               17\n",
            "14    Faramir      Gondor               19\n"
          ]
        }
      ]
    },
    {
      "cell_type": "code",
      "source": [
        "#constants\n",
        "query = \"\"\"\n",
        "\n",
        "SELECT name, guild, level as character_level, 1 as version\n",
        "FROM df\n",
        "\n",
        "\"\"\"\n",
        "\n",
        "result = psql.sqldf(query, locals())\n",
        "print(result)"
      ],
      "metadata": {
        "collapsed": true,
        "id": "1Md_T7Yh-A8w",
        "outputId": "933ff995-27c6-4139-e579-0d842ff3f22b",
        "colab": {
          "base_uri": "https://localhost:8080/"
        }
      },
      "execution_count": 10,
      "outputs": [
        {
          "output_type": "stream",
          "name": "stdout",
          "text": [
            "         name       guild  character_level  version\n",
            "0     Aragorn     Rangers               25        1\n",
            "1     Legolas    Mirkwood               22        1\n",
            "2       Gimli      Erebor               20        1\n",
            "3       Frodo   Shirefolk               12        1\n",
            "4         Sam   Shirefolk               13        1\n",
            "5     Gandalf      Istari               30        1\n",
            "6     Boromir      Gondor               18        1\n",
            "7       Merry   Shirefolk               11        1\n",
            "8      Pippin   Shirefolk               11        1\n",
            "9      Sauron  Dark Lords               40        1\n",
            "10    Saruman      Istari               28        1\n",
            "11     Elrond   Rivendell               27        1\n",
            "12  Thranduil    Mirkwood               26        1\n",
            "13      Eowyn       Rohan               17        1\n",
            "14    Faramir      Gondor               19        1\n"
          ]
        }
      ]
    },
    {
      "cell_type": "code",
      "source": [
        "#calculations\n",
        "query = \"\"\"\n",
        "\n",
        "SELECT name, guild, level as character_level, 1 as version,\n",
        "experience, experience / 100\n",
        "FROM df\n",
        "\n",
        "\"\"\"\n",
        "\n",
        "result = psql.sqldf(query, locals())\n",
        "print(result)\n"
      ],
      "metadata": {
        "collapsed": true,
        "id": "pgIHK_jdBsqX",
        "outputId": "9abde509-4041-464e-b4fb-739fa507a205",
        "colab": {
          "base_uri": "https://localhost:8080/"
        }
      },
      "execution_count": 15,
      "outputs": [
        {
          "output_type": "stream",
          "name": "stdout",
          "text": [
            "         name       guild  character_level  version  experience  \\\n",
            "0     Aragorn     Rangers               25        1        9000   \n",
            "1     Legolas    Mirkwood               22        1        7500   \n",
            "2       Gimli      Erebor               20        1        6000   \n",
            "3       Frodo   Shirefolk               12        1        2500   \n",
            "4         Sam   Shirefolk               13        1        2750   \n",
            "5     Gandalf      Istari               30        1       10000   \n",
            "6     Boromir      Gondor               18        1        5500   \n",
            "7       Merry   Shirefolk               11        1        2200   \n",
            "8      Pippin   Shirefolk               11        1        2100   \n",
            "9      Sauron  Dark Lords               40        1       15000   \n",
            "10    Saruman      Istari               28        1        8500   \n",
            "11     Elrond   Rivendell               27        1        8200   \n",
            "12  Thranduil    Mirkwood               26        1        7900   \n",
            "13      Eowyn       Rohan               17        1        5200   \n",
            "14    Faramir      Gondor               19        1        5700   \n",
            "\n",
            "    experience / 100  \n",
            "0                 90  \n",
            "1                 75  \n",
            "2                 60  \n",
            "3                 25  \n",
            "4                 27  \n",
            "5                100  \n",
            "6                 55  \n",
            "7                 22  \n",
            "8                 21  \n",
            "9                150  \n",
            "10                85  \n",
            "11                82  \n",
            "12                79  \n",
            "13                52  \n",
            "14                57  \n"
          ]
        }
      ]
    },
    {
      "cell_type": "code",
      "source": [
        "#cant calculate with alias as SELECT and alias will be executed at the same time\n",
        "query = \"\"\"\n",
        "\n",
        "SELECT name, guild, level as character_level, 1 as version,\n",
        "experience, experience / 100,\n",
        "experience + 100 / character_level + 2\n",
        "FROM df\n",
        "\n",
        "\"\"\"  # Removed the period after version\n",
        "\n",
        "result = psql.sqldf(query, locals())\n",
        "print(result)"
      ],
      "metadata": {
        "id": "fTKTce1oE4f5",
        "outputId": "f68afcd1-f75f-47a5-e1f5-57d4e7171921",
        "colab": {
          "base_uri": "https://localhost:8080/",
          "height": 842
        }
      },
      "execution_count": 18,
      "outputs": [
        {
          "output_type": "error",
          "ename": "PandaSQLException",
          "evalue": "(sqlite3.OperationalError) no such column: character_level\n[SQL: \n\nSELECT name, guild, level as character_level, 1 as version,\nexperience, experience / 100,\nexperience + 100 / character_level + 2\nFROM df\n\n]\n(Background on this error at: https://sqlalche.me/e/20/e3q8)",
          "traceback": [
            "\u001b[0;31m---------------------------------------------------------------------------\u001b[0m",
            "\u001b[0;31mOperationalError\u001b[0m                          Traceback (most recent call last)",
            "\u001b[0;32m/usr/local/lib/python3.10/dist-packages/sqlalchemy/engine/base.py\u001b[0m in \u001b[0;36m_exec_single_context\u001b[0;34m(self, dialect, context, statement, parameters)\u001b[0m\n\u001b[1;32m   1966\u001b[0m                 \u001b[0;32mif\u001b[0m \u001b[0;32mnot\u001b[0m \u001b[0mevt_handled\u001b[0m\u001b[0;34m:\u001b[0m\u001b[0;34m\u001b[0m\u001b[0;34m\u001b[0m\u001b[0m\n\u001b[0;32m-> 1967\u001b[0;31m                     self.dialect.do_execute(\n\u001b[0m\u001b[1;32m   1968\u001b[0m                         \u001b[0mcursor\u001b[0m\u001b[0;34m,\u001b[0m \u001b[0mstr_statement\u001b[0m\u001b[0;34m,\u001b[0m \u001b[0meffective_parameters\u001b[0m\u001b[0;34m,\u001b[0m \u001b[0mcontext\u001b[0m\u001b[0;34m\u001b[0m\u001b[0;34m\u001b[0m\u001b[0m\n",
            "\u001b[0;32m/usr/local/lib/python3.10/dist-packages/sqlalchemy/engine/default.py\u001b[0m in \u001b[0;36mdo_execute\u001b[0;34m(self, cursor, statement, parameters, context)\u001b[0m\n\u001b[1;32m    940\u001b[0m     \u001b[0;32mdef\u001b[0m \u001b[0mdo_execute\u001b[0m\u001b[0;34m(\u001b[0m\u001b[0mself\u001b[0m\u001b[0;34m,\u001b[0m \u001b[0mcursor\u001b[0m\u001b[0;34m,\u001b[0m \u001b[0mstatement\u001b[0m\u001b[0;34m,\u001b[0m \u001b[0mparameters\u001b[0m\u001b[0;34m,\u001b[0m \u001b[0mcontext\u001b[0m\u001b[0;34m=\u001b[0m\u001b[0;32mNone\u001b[0m\u001b[0;34m)\u001b[0m\u001b[0;34m:\u001b[0m\u001b[0;34m\u001b[0m\u001b[0;34m\u001b[0m\u001b[0m\n\u001b[0;32m--> 941\u001b[0;31m         \u001b[0mcursor\u001b[0m\u001b[0;34m.\u001b[0m\u001b[0mexecute\u001b[0m\u001b[0;34m(\u001b[0m\u001b[0mstatement\u001b[0m\u001b[0;34m,\u001b[0m \u001b[0mparameters\u001b[0m\u001b[0;34m)\u001b[0m\u001b[0;34m\u001b[0m\u001b[0;34m\u001b[0m\u001b[0m\n\u001b[0m\u001b[1;32m    942\u001b[0m \u001b[0;34m\u001b[0m\u001b[0m\n",
            "\u001b[0;31mOperationalError\u001b[0m: no such column: character_level",
            "\nThe above exception was the direct cause of the following exception:\n",
            "\u001b[0;31mOperationalError\u001b[0m                          Traceback (most recent call last)",
            "\u001b[0;32m/usr/local/lib/python3.10/dist-packages/pandasql/sqldf.py\u001b[0m in \u001b[0;36m__call__\u001b[0;34m(self, query, env)\u001b[0m\n\u001b[1;32m     60\u001b[0m             \u001b[0;32mtry\u001b[0m\u001b[0;34m:\u001b[0m\u001b[0;34m\u001b[0m\u001b[0;34m\u001b[0m\u001b[0m\n\u001b[0;32m---> 61\u001b[0;31m                 \u001b[0mresult\u001b[0m \u001b[0;34m=\u001b[0m \u001b[0mread_sql\u001b[0m\u001b[0;34m(\u001b[0m\u001b[0mquery\u001b[0m\u001b[0;34m,\u001b[0m \u001b[0mconn\u001b[0m\u001b[0;34m)\u001b[0m\u001b[0;34m\u001b[0m\u001b[0;34m\u001b[0m\u001b[0m\n\u001b[0m\u001b[1;32m     62\u001b[0m             \u001b[0;32mexcept\u001b[0m \u001b[0mDatabaseError\u001b[0m \u001b[0;32mas\u001b[0m \u001b[0mex\u001b[0m\u001b[0;34m:\u001b[0m\u001b[0;34m\u001b[0m\u001b[0;34m\u001b[0m\u001b[0m\n",
            "\u001b[0;32m/usr/local/lib/python3.10/dist-packages/pandas/io/sql.py\u001b[0m in \u001b[0;36mread_sql\u001b[0;34m(sql, con, index_col, coerce_float, params, parse_dates, columns, chunksize, dtype_backend, dtype)\u001b[0m\n\u001b[1;32m    681\u001b[0m         \u001b[0;32melse\u001b[0m\u001b[0;34m:\u001b[0m\u001b[0;34m\u001b[0m\u001b[0;34m\u001b[0m\u001b[0m\n\u001b[0;32m--> 682\u001b[0;31m             return pandas_sql.read_query(\n\u001b[0m\u001b[1;32m    683\u001b[0m                 \u001b[0msql\u001b[0m\u001b[0;34m,\u001b[0m\u001b[0;34m\u001b[0m\u001b[0;34m\u001b[0m\u001b[0m\n",
            "\u001b[0;32m/usr/local/lib/python3.10/dist-packages/pandas/io/sql.py\u001b[0m in \u001b[0;36mread_query\u001b[0;34m(self, sql, index_col, coerce_float, parse_dates, params, chunksize, dtype, dtype_backend)\u001b[0m\n\u001b[1;32m   1775\u001b[0m         \"\"\"\n\u001b[0;32m-> 1776\u001b[0;31m         \u001b[0mresult\u001b[0m \u001b[0;34m=\u001b[0m \u001b[0mself\u001b[0m\u001b[0;34m.\u001b[0m\u001b[0mexecute\u001b[0m\u001b[0;34m(\u001b[0m\u001b[0msql\u001b[0m\u001b[0;34m,\u001b[0m \u001b[0mparams\u001b[0m\u001b[0;34m)\u001b[0m\u001b[0;34m\u001b[0m\u001b[0;34m\u001b[0m\u001b[0m\n\u001b[0m\u001b[1;32m   1777\u001b[0m         \u001b[0mcolumns\u001b[0m \u001b[0;34m=\u001b[0m \u001b[0mresult\u001b[0m\u001b[0;34m.\u001b[0m\u001b[0mkeys\u001b[0m\u001b[0;34m(\u001b[0m\u001b[0;34m)\u001b[0m\u001b[0;34m\u001b[0m\u001b[0;34m\u001b[0m\u001b[0m\n",
            "\u001b[0;32m/usr/local/lib/python3.10/dist-packages/pandas/io/sql.py\u001b[0m in \u001b[0;36mexecute\u001b[0;34m(self, sql, params)\u001b[0m\n\u001b[1;32m   1598\u001b[0m         \u001b[0;32mif\u001b[0m \u001b[0misinstance\u001b[0m\u001b[0;34m(\u001b[0m\u001b[0msql\u001b[0m\u001b[0;34m,\u001b[0m \u001b[0mstr\u001b[0m\u001b[0;34m)\u001b[0m\u001b[0;34m:\u001b[0m\u001b[0;34m\u001b[0m\u001b[0;34m\u001b[0m\u001b[0m\n\u001b[0;32m-> 1599\u001b[0;31m             \u001b[0;32mreturn\u001b[0m \u001b[0mself\u001b[0m\u001b[0;34m.\u001b[0m\u001b[0mcon\u001b[0m\u001b[0;34m.\u001b[0m\u001b[0mexec_driver_sql\u001b[0m\u001b[0;34m(\u001b[0m\u001b[0msql\u001b[0m\u001b[0;34m,\u001b[0m \u001b[0;34m*\u001b[0m\u001b[0margs\u001b[0m\u001b[0;34m)\u001b[0m\u001b[0;34m\u001b[0m\u001b[0;34m\u001b[0m\u001b[0m\n\u001b[0m\u001b[1;32m   1600\u001b[0m         \u001b[0;32mreturn\u001b[0m \u001b[0mself\u001b[0m\u001b[0;34m.\u001b[0m\u001b[0mcon\u001b[0m\u001b[0;34m.\u001b[0m\u001b[0mexecute\u001b[0m\u001b[0;34m(\u001b[0m\u001b[0msql\u001b[0m\u001b[0;34m,\u001b[0m \u001b[0;34m*\u001b[0m\u001b[0margs\u001b[0m\u001b[0;34m)\u001b[0m\u001b[0;34m\u001b[0m\u001b[0;34m\u001b[0m\u001b[0m\n",
            "\u001b[0;32m/usr/local/lib/python3.10/dist-packages/sqlalchemy/engine/base.py\u001b[0m in \u001b[0;36mexec_driver_sql\u001b[0;34m(self, statement, parameters, execution_options)\u001b[0m\n\u001b[1;32m   1778\u001b[0m         \u001b[0mdialect\u001b[0m \u001b[0;34m=\u001b[0m \u001b[0mself\u001b[0m\u001b[0;34m.\u001b[0m\u001b[0mdialect\u001b[0m\u001b[0;34m\u001b[0m\u001b[0;34m\u001b[0m\u001b[0m\n\u001b[0;32m-> 1779\u001b[0;31m         ret = self._execute_context(\n\u001b[0m\u001b[1;32m   1780\u001b[0m             \u001b[0mdialect\u001b[0m\u001b[0;34m,\u001b[0m\u001b[0;34m\u001b[0m\u001b[0;34m\u001b[0m\u001b[0m\n",
            "\u001b[0;32m/usr/local/lib/python3.10/dist-packages/sqlalchemy/engine/base.py\u001b[0m in \u001b[0;36m_execute_context\u001b[0;34m(self, dialect, constructor, statement, parameters, execution_options, *args, **kw)\u001b[0m\n\u001b[1;32m   1845\u001b[0m         \u001b[0;32melse\u001b[0m\u001b[0;34m:\u001b[0m\u001b[0;34m\u001b[0m\u001b[0;34m\u001b[0m\u001b[0m\n\u001b[0;32m-> 1846\u001b[0;31m             return self._exec_single_context(\n\u001b[0m\u001b[1;32m   1847\u001b[0m                 \u001b[0mdialect\u001b[0m\u001b[0;34m,\u001b[0m \u001b[0mcontext\u001b[0m\u001b[0;34m,\u001b[0m \u001b[0mstatement\u001b[0m\u001b[0;34m,\u001b[0m \u001b[0mparameters\u001b[0m\u001b[0;34m\u001b[0m\u001b[0;34m\u001b[0m\u001b[0m\n",
            "\u001b[0;32m/usr/local/lib/python3.10/dist-packages/sqlalchemy/engine/base.py\u001b[0m in \u001b[0;36m_exec_single_context\u001b[0;34m(self, dialect, context, statement, parameters)\u001b[0m\n\u001b[1;32m   1985\u001b[0m         \u001b[0;32mexcept\u001b[0m \u001b[0mBaseException\u001b[0m \u001b[0;32mas\u001b[0m \u001b[0me\u001b[0m\u001b[0;34m:\u001b[0m\u001b[0;34m\u001b[0m\u001b[0;34m\u001b[0m\u001b[0m\n\u001b[0;32m-> 1986\u001b[0;31m             self._handle_dbapi_exception(\n\u001b[0m\u001b[1;32m   1987\u001b[0m                 \u001b[0me\u001b[0m\u001b[0;34m,\u001b[0m \u001b[0mstr_statement\u001b[0m\u001b[0;34m,\u001b[0m \u001b[0meffective_parameters\u001b[0m\u001b[0;34m,\u001b[0m \u001b[0mcursor\u001b[0m\u001b[0;34m,\u001b[0m \u001b[0mcontext\u001b[0m\u001b[0;34m\u001b[0m\u001b[0;34m\u001b[0m\u001b[0m\n",
            "\u001b[0;32m/usr/local/lib/python3.10/dist-packages/sqlalchemy/engine/base.py\u001b[0m in \u001b[0;36m_handle_dbapi_exception\u001b[0;34m(self, e, statement, parameters, cursor, context, is_sub_exec)\u001b[0m\n\u001b[1;32m   2354\u001b[0m                 \u001b[0;32massert\u001b[0m \u001b[0msqlalchemy_exception\u001b[0m \u001b[0;32mis\u001b[0m \u001b[0;32mnot\u001b[0m \u001b[0;32mNone\u001b[0m\u001b[0;34m\u001b[0m\u001b[0;34m\u001b[0m\u001b[0m\n\u001b[0;32m-> 2355\u001b[0;31m                 \u001b[0;32mraise\u001b[0m \u001b[0msqlalchemy_exception\u001b[0m\u001b[0;34m.\u001b[0m\u001b[0mwith_traceback\u001b[0m\u001b[0;34m(\u001b[0m\u001b[0mexc_info\u001b[0m\u001b[0;34m[\u001b[0m\u001b[0;36m2\u001b[0m\u001b[0;34m]\u001b[0m\u001b[0;34m)\u001b[0m \u001b[0;32mfrom\u001b[0m \u001b[0me\u001b[0m\u001b[0;34m\u001b[0m\u001b[0;34m\u001b[0m\u001b[0m\n\u001b[0m\u001b[1;32m   2356\u001b[0m             \u001b[0;32melse\u001b[0m\u001b[0;34m:\u001b[0m\u001b[0;34m\u001b[0m\u001b[0;34m\u001b[0m\u001b[0m\n",
            "\u001b[0;32m/usr/local/lib/python3.10/dist-packages/sqlalchemy/engine/base.py\u001b[0m in \u001b[0;36m_exec_single_context\u001b[0;34m(self, dialect, context, statement, parameters)\u001b[0m\n\u001b[1;32m   1966\u001b[0m                 \u001b[0;32mif\u001b[0m \u001b[0;32mnot\u001b[0m \u001b[0mevt_handled\u001b[0m\u001b[0;34m:\u001b[0m\u001b[0;34m\u001b[0m\u001b[0;34m\u001b[0m\u001b[0m\n\u001b[0;32m-> 1967\u001b[0;31m                     self.dialect.do_execute(\n\u001b[0m\u001b[1;32m   1968\u001b[0m                         \u001b[0mcursor\u001b[0m\u001b[0;34m,\u001b[0m \u001b[0mstr_statement\u001b[0m\u001b[0;34m,\u001b[0m \u001b[0meffective_parameters\u001b[0m\u001b[0;34m,\u001b[0m \u001b[0mcontext\u001b[0m\u001b[0;34m\u001b[0m\u001b[0;34m\u001b[0m\u001b[0m\n",
            "\u001b[0;32m/usr/local/lib/python3.10/dist-packages/sqlalchemy/engine/default.py\u001b[0m in \u001b[0;36mdo_execute\u001b[0;34m(self, cursor, statement, parameters, context)\u001b[0m\n\u001b[1;32m    940\u001b[0m     \u001b[0;32mdef\u001b[0m \u001b[0mdo_execute\u001b[0m\u001b[0;34m(\u001b[0m\u001b[0mself\u001b[0m\u001b[0;34m,\u001b[0m \u001b[0mcursor\u001b[0m\u001b[0;34m,\u001b[0m \u001b[0mstatement\u001b[0m\u001b[0;34m,\u001b[0m \u001b[0mparameters\u001b[0m\u001b[0;34m,\u001b[0m \u001b[0mcontext\u001b[0m\u001b[0;34m=\u001b[0m\u001b[0;32mNone\u001b[0m\u001b[0;34m)\u001b[0m\u001b[0;34m:\u001b[0m\u001b[0;34m\u001b[0m\u001b[0;34m\u001b[0m\u001b[0m\n\u001b[0;32m--> 941\u001b[0;31m         \u001b[0mcursor\u001b[0m\u001b[0;34m.\u001b[0m\u001b[0mexecute\u001b[0m\u001b[0;34m(\u001b[0m\u001b[0mstatement\u001b[0m\u001b[0;34m,\u001b[0m \u001b[0mparameters\u001b[0m\u001b[0;34m)\u001b[0m\u001b[0;34m\u001b[0m\u001b[0;34m\u001b[0m\u001b[0m\n\u001b[0m\u001b[1;32m    942\u001b[0m \u001b[0;34m\u001b[0m\u001b[0m\n",
            "\u001b[0;31mOperationalError\u001b[0m: (sqlite3.OperationalError) no such column: character_level\n[SQL: \n\nSELECT name, guild, level as character_level, 1 as version,\nexperience, experience / 100,\nexperience + 100 / character_level + 2\nFROM df\n\n]\n(Background on this error at: https://sqlalche.me/e/20/e3q8)",
            "\nDuring handling of the above exception, another exception occurred:\n",
            "\u001b[0;31mPandaSQLException\u001b[0m                         Traceback (most recent call last)",
            "\u001b[0;32m<ipython-input-18-6eef0b9d523c>\u001b[0m in \u001b[0;36m<cell line: 11>\u001b[0;34m()\u001b[0m\n\u001b[1;32m      9\u001b[0m \"\"\"  # Removed the period after version\n\u001b[1;32m     10\u001b[0m \u001b[0;34m\u001b[0m\u001b[0m\n\u001b[0;32m---> 11\u001b[0;31m \u001b[0mresult\u001b[0m \u001b[0;34m=\u001b[0m \u001b[0mpsql\u001b[0m\u001b[0;34m.\u001b[0m\u001b[0msqldf\u001b[0m\u001b[0;34m(\u001b[0m\u001b[0mquery\u001b[0m\u001b[0;34m,\u001b[0m \u001b[0mlocals\u001b[0m\u001b[0;34m(\u001b[0m\u001b[0;34m)\u001b[0m\u001b[0;34m)\u001b[0m\u001b[0;34m\u001b[0m\u001b[0;34m\u001b[0m\u001b[0m\n\u001b[0m\u001b[1;32m     12\u001b[0m \u001b[0mprint\u001b[0m\u001b[0;34m(\u001b[0m\u001b[0mresult\u001b[0m\u001b[0;34m)\u001b[0m\u001b[0;34m\u001b[0m\u001b[0;34m\u001b[0m\u001b[0m\n",
            "\u001b[0;32m/usr/local/lib/python3.10/dist-packages/pandasql/sqldf.py\u001b[0m in \u001b[0;36msqldf\u001b[0;34m(query, env, db_uri)\u001b[0m\n\u001b[1;32m    154\u001b[0m     \u001b[0;34m>>\u001b[0m\u001b[0;34m>\u001b[0m \u001b[0msqldf\u001b[0m\u001b[0;34m(\u001b[0m\u001b[0;34m\"select avg(x) from df;\"\u001b[0m\u001b[0;34m,\u001b[0m \u001b[0mlocals\u001b[0m\u001b[0;34m(\u001b[0m\u001b[0;34m)\u001b[0m\u001b[0;34m)\u001b[0m\u001b[0;34m\u001b[0m\u001b[0;34m\u001b[0m\u001b[0m\n\u001b[1;32m    155\u001b[0m     \"\"\"\n\u001b[0;32m--> 156\u001b[0;31m     \u001b[0;32mreturn\u001b[0m \u001b[0mPandaSQL\u001b[0m\u001b[0;34m(\u001b[0m\u001b[0mdb_uri\u001b[0m\u001b[0;34m)\u001b[0m\u001b[0;34m(\u001b[0m\u001b[0mquery\u001b[0m\u001b[0;34m,\u001b[0m \u001b[0menv\u001b[0m\u001b[0;34m)\u001b[0m\u001b[0;34m\u001b[0m\u001b[0;34m\u001b[0m\u001b[0m\n\u001b[0m",
            "\u001b[0;32m/usr/local/lib/python3.10/dist-packages/pandasql/sqldf.py\u001b[0m in \u001b[0;36m__call__\u001b[0;34m(self, query, env)\u001b[0m\n\u001b[1;32m     61\u001b[0m                 \u001b[0mresult\u001b[0m \u001b[0;34m=\u001b[0m \u001b[0mread_sql\u001b[0m\u001b[0;34m(\u001b[0m\u001b[0mquery\u001b[0m\u001b[0;34m,\u001b[0m \u001b[0mconn\u001b[0m\u001b[0;34m)\u001b[0m\u001b[0;34m\u001b[0m\u001b[0;34m\u001b[0m\u001b[0m\n\u001b[1;32m     62\u001b[0m             \u001b[0;32mexcept\u001b[0m \u001b[0mDatabaseError\u001b[0m \u001b[0;32mas\u001b[0m \u001b[0mex\u001b[0m\u001b[0;34m:\u001b[0m\u001b[0;34m\u001b[0m\u001b[0;34m\u001b[0m\u001b[0m\n\u001b[0;32m---> 63\u001b[0;31m                 \u001b[0;32mraise\u001b[0m \u001b[0mPandaSQLException\u001b[0m\u001b[0;34m(\u001b[0m\u001b[0mex\u001b[0m\u001b[0;34m)\u001b[0m\u001b[0;34m\u001b[0m\u001b[0;34m\u001b[0m\u001b[0m\n\u001b[0m\u001b[1;32m     64\u001b[0m             \u001b[0;32mexcept\u001b[0m \u001b[0mResourceClosedError\u001b[0m\u001b[0;34m:\u001b[0m\u001b[0;34m\u001b[0m\u001b[0;34m\u001b[0m\u001b[0m\n\u001b[1;32m     65\u001b[0m                 \u001b[0;31m# query returns nothing\u001b[0m\u001b[0;34m\u001b[0m\u001b[0;34m\u001b[0m\u001b[0m\n",
            "\u001b[0;31mPandaSQLException\u001b[0m: (sqlite3.OperationalError) no such column: character_level\n[SQL: \n\nSELECT name, guild, level as character_level, 1 as version,\nexperience, experience / 100,\nexperience + 100 / character_level + 2\nFROM df\n\n]\n(Background on this error at: https://sqlalche.me/e/20/e3q8)"
          ]
        }
      ]
    },
    {
      "cell_type": "markdown",
      "source": [
        "**Hypothesis**\n",
        "The error message \"OperationalError: no such column: character_level\" indicates that you're trying to use the alias 'character_level' in a calculation within the same SELECT statement where it's defined. SQL generally processes these statements in a linear fashion, so the alias isn't recognized when you try to use it later in the calculation."
      ],
      "metadata": {
        "id": "EBvcGU23Hqym"
      }
    },
    {
      "cell_type": "code",
      "source": [
        "#cant calculate with alias as SELECT and alias will be executed at the same time\n",
        "query = \"\"\"\n",
        "\n",
        "SELECT name, guild, level as character_level, 1 as version,\n",
        "experience, experience / 100,\n",
        "experience + (100 / level) +2\n",
        "FROM df\n",
        "\n",
        "\"\"\"  # Removed the period after version\n",
        "\n",
        "result = psql.sqldf(query, locals())\n",
        "print(result)"
      ],
      "metadata": {
        "collapsed": true,
        "id": "x1NRdHMKHshC",
        "outputId": "b82f53f3-7886-458b-f874-192366f2b5a3",
        "colab": {
          "base_uri": "https://localhost:8080/"
        }
      },
      "execution_count": 30,
      "outputs": [
        {
          "output_type": "stream",
          "name": "stdout",
          "text": [
            "         name       guild  character_level  version  experience  \\\n",
            "0     Aragorn     Rangers               25        1        9000   \n",
            "1     Legolas    Mirkwood               22        1        7500   \n",
            "2       Gimli      Erebor               20        1        6000   \n",
            "3       Frodo   Shirefolk               12        1        2500   \n",
            "4         Sam   Shirefolk               13        1        2750   \n",
            "5     Gandalf      Istari               30        1       10000   \n",
            "6     Boromir      Gondor               18        1        5500   \n",
            "7       Merry   Shirefolk               11        1        2200   \n",
            "8      Pippin   Shirefolk               11        1        2100   \n",
            "9      Sauron  Dark Lords               40        1       15000   \n",
            "10    Saruman      Istari               28        1        8500   \n",
            "11     Elrond   Rivendell               27        1        8200   \n",
            "12  Thranduil    Mirkwood               26        1        7900   \n",
            "13      Eowyn       Rohan               17        1        5200   \n",
            "14    Faramir      Gondor               19        1        5700   \n",
            "\n",
            "    experience / 100  experience + (100 / level) +2  \n",
            "0                 90                           9006  \n",
            "1                 75                           7506  \n",
            "2                 60                           6007  \n",
            "3                 25                           2510  \n",
            "4                 27                           2759  \n",
            "5                100                          10005  \n",
            "6                 55                           5507  \n",
            "7                 22                           2211  \n",
            "8                 21                           2111  \n",
            "9                150                          15004  \n",
            "10                85                           8505  \n",
            "11                82                           8205  \n",
            "12                79                           7905  \n",
            "13                52                           5207  \n",
            "14                57                           5707  \n"
          ]
        }
      ]
    },
    {
      "cell_type": "code",
      "source": [
        "#functions\n",
        "query = \"\"\"\n",
        "\n",
        "SELECT name, guild, level as character_level, 1 as version,\n",
        "experience, experience / 100,\n",
        "experience + (100 / level) + 2,\n",
        "SQRT(16), SQRT(level),\n",
        "UPPER(guild)\n",
        "FROM df\n",
        "\n",
        "\"\"\"\n",
        "\n",
        "result = psql.sqldf(query, locals())\n",
        "print(result)\n"
      ],
      "metadata": {
        "id": "oM-6QDRGNdnU",
        "outputId": "fd3041db-4dcf-44a2-a4de-f4e01a2cdc3a",
        "colab": {
          "base_uri": "https://localhost:8080/"
        }
      },
      "execution_count": 32,
      "outputs": [
        {
          "output_type": "stream",
          "name": "stdout",
          "text": [
            "         name       guild  character_level  version  experience  \\\n",
            "0     Aragorn     Rangers               25        1        9000   \n",
            "1     Legolas    Mirkwood               22        1        7500   \n",
            "2       Gimli      Erebor               20        1        6000   \n",
            "3       Frodo   Shirefolk               12        1        2500   \n",
            "4         Sam   Shirefolk               13        1        2750   \n",
            "5     Gandalf      Istari               30        1       10000   \n",
            "6     Boromir      Gondor               18        1        5500   \n",
            "7       Merry   Shirefolk               11        1        2200   \n",
            "8      Pippin   Shirefolk               11        1        2100   \n",
            "9      Sauron  Dark Lords               40        1       15000   \n",
            "10    Saruman      Istari               28        1        8500   \n",
            "11     Elrond   Rivendell               27        1        8200   \n",
            "12  Thranduil    Mirkwood               26        1        7900   \n",
            "13      Eowyn       Rohan               17        1        5200   \n",
            "14    Faramir      Gondor               19        1        5700   \n",
            "\n",
            "    experience / 100  experience + (100 / level) + 2  SQRT(16)  SQRT(level)  \\\n",
            "0                 90                            9006       4.0     5.000000   \n",
            "1                 75                            7506       4.0     4.690416   \n",
            "2                 60                            6007       4.0     4.472136   \n",
            "3                 25                            2510       4.0     3.464102   \n",
            "4                 27                            2759       4.0     3.605551   \n",
            "5                100                           10005       4.0     5.477226   \n",
            "6                 55                            5507       4.0     4.242641   \n",
            "7                 22                            2211       4.0     3.316625   \n",
            "8                 21                            2111       4.0     3.316625   \n",
            "9                150                           15004       4.0     6.324555   \n",
            "10                85                            8505       4.0     5.291503   \n",
            "11                82                            8205       4.0     5.196152   \n",
            "12                79                            7905       4.0     5.099020   \n",
            "13                52                            5207       4.0     4.123106   \n",
            "14                57                            5707       4.0     4.358899   \n",
            "\n",
            "   UPPER(guild)  \n",
            "0       RANGERS  \n",
            "1      MIRKWOOD  \n",
            "2        EREBOR  \n",
            "3     SHIREFOLK  \n",
            "4     SHIREFOLK  \n",
            "5        ISTARI  \n",
            "6        GONDOR  \n",
            "7     SHIREFOLK  \n",
            "8     SHIREFOLK  \n",
            "9    DARK LORDS  \n",
            "10       ISTARI  \n",
            "11    RIVENDELL  \n",
            "12     MIRKWOOD  \n",
            "13        ROHAN  \n",
            "14       GONDOR  \n"
          ]
        }
      ]
    }
  ],
  "metadata": {
    "colab": {
      "name": "Welcome To Colab",
      "provenance": [],
      "include_colab_link": true
    },
    "kernelspec": {
      "display_name": "Python 3",
      "name": "python3"
    }
  },
  "nbformat": 4,
  "nbformat_minor": 0
}