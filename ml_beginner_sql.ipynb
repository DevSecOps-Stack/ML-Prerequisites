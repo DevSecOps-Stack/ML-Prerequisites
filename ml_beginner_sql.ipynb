{
  "cells": [
    {
      "cell_type": "markdown",
      "metadata": {
        "id": "view-in-github",
        "colab_type": "text"
      },
      "source": [
        "<a href=\"https://colab.research.google.com/github/DevSecOps-Stack/ML-Prerequisites/blob/main/ml_beginner_sql.ipynb\" target=\"_parent\"><img src=\"https://colab.research.google.com/assets/colab-badge.svg\" alt=\"Open In Colab\"/></a>"
      ]
    },
    {
      "cell_type": "code",
      "source": [
        "!pip install --upgrade google-cloud-bigquery"
      ],
      "metadata": {
        "id": "wvO7chJW5q9F",
        "colab": {
          "base_uri": "https://localhost:8080/"
        },
        "outputId": "494ea873-89c5-4bf7-ed62-51c93190e7a0"
      },
      "execution_count": 1,
      "outputs": [
        {
          "output_type": "stream",
          "name": "stdout",
          "text": [
            "Requirement already satisfied: google-cloud-bigquery in /usr/local/lib/python3.10/dist-packages (3.25.0)\n",
            "Requirement already satisfied: google-api-core!=2.0.*,!=2.1.*,!=2.10.*,!=2.2.*,!=2.3.*,!=2.4.*,!=2.5.*,!=2.6.*,!=2.7.*,!=2.8.*,!=2.9.*,<3.0.0dev,>=1.34.1 in /usr/local/lib/python3.10/dist-packages (from google-api-core[grpc]!=2.0.*,!=2.1.*,!=2.10.*,!=2.2.*,!=2.3.*,!=2.4.*,!=2.5.*,!=2.6.*,!=2.7.*,!=2.8.*,!=2.9.*,<3.0.0dev,>=1.34.1->google-cloud-bigquery) (2.19.1)\n",
            "Requirement already satisfied: google-auth<3.0.0dev,>=2.14.1 in /usr/local/lib/python3.10/dist-packages (from google-cloud-bigquery) (2.27.0)\n",
            "Requirement already satisfied: google-cloud-core<3.0.0dev,>=1.6.0 in /usr/local/lib/python3.10/dist-packages (from google-cloud-bigquery) (2.4.1)\n",
            "Requirement already satisfied: google-resumable-media<3.0dev,>=0.6.0 in /usr/local/lib/python3.10/dist-packages (from google-cloud-bigquery) (2.7.2)\n",
            "Requirement already satisfied: packaging>=20.0.0 in /usr/local/lib/python3.10/dist-packages (from google-cloud-bigquery) (24.1)\n",
            "Requirement already satisfied: python-dateutil<3.0dev,>=2.7.2 in /usr/local/lib/python3.10/dist-packages (from google-cloud-bigquery) (2.8.2)\n",
            "Requirement already satisfied: requests<3.0.0dev,>=2.21.0 in /usr/local/lib/python3.10/dist-packages (from google-cloud-bigquery) (2.32.3)\n",
            "Requirement already satisfied: googleapis-common-protos<2.0.dev0,>=1.56.2 in /usr/local/lib/python3.10/dist-packages (from google-api-core!=2.0.*,!=2.1.*,!=2.10.*,!=2.2.*,!=2.3.*,!=2.4.*,!=2.5.*,!=2.6.*,!=2.7.*,!=2.8.*,!=2.9.*,<3.0.0dev,>=1.34.1->google-api-core[grpc]!=2.0.*,!=2.1.*,!=2.10.*,!=2.2.*,!=2.3.*,!=2.4.*,!=2.5.*,!=2.6.*,!=2.7.*,!=2.8.*,!=2.9.*,<3.0.0dev,>=1.34.1->google-cloud-bigquery) (1.63.2)\n",
            "Requirement already satisfied: protobuf!=3.20.0,!=3.20.1,!=4.21.0,!=4.21.1,!=4.21.2,!=4.21.3,!=4.21.4,!=4.21.5,<6.0.0.dev0,>=3.19.5 in /usr/local/lib/python3.10/dist-packages (from google-api-core!=2.0.*,!=2.1.*,!=2.10.*,!=2.2.*,!=2.3.*,!=2.4.*,!=2.5.*,!=2.6.*,!=2.7.*,!=2.8.*,!=2.9.*,<3.0.0dev,>=1.34.1->google-api-core[grpc]!=2.0.*,!=2.1.*,!=2.10.*,!=2.2.*,!=2.3.*,!=2.4.*,!=2.5.*,!=2.6.*,!=2.7.*,!=2.8.*,!=2.9.*,<3.0.0dev,>=1.34.1->google-cloud-bigquery) (3.20.3)\n",
            "Requirement already satisfied: proto-plus<2.0.0dev,>=1.22.3 in /usr/local/lib/python3.10/dist-packages (from google-api-core!=2.0.*,!=2.1.*,!=2.10.*,!=2.2.*,!=2.3.*,!=2.4.*,!=2.5.*,!=2.6.*,!=2.7.*,!=2.8.*,!=2.9.*,<3.0.0dev,>=1.34.1->google-api-core[grpc]!=2.0.*,!=2.1.*,!=2.10.*,!=2.2.*,!=2.3.*,!=2.4.*,!=2.5.*,!=2.6.*,!=2.7.*,!=2.8.*,!=2.9.*,<3.0.0dev,>=1.34.1->google-cloud-bigquery) (1.24.0)\n",
            "Requirement already satisfied: grpcio<2.0dev,>=1.33.2 in /usr/local/lib/python3.10/dist-packages (from google-api-core[grpc]!=2.0.*,!=2.1.*,!=2.10.*,!=2.2.*,!=2.3.*,!=2.4.*,!=2.5.*,!=2.6.*,!=2.7.*,!=2.8.*,!=2.9.*,<3.0.0dev,>=1.34.1->google-cloud-bigquery) (1.64.1)\n",
            "Requirement already satisfied: grpcio-status<2.0.dev0,>=1.33.2 in /usr/local/lib/python3.10/dist-packages (from google-api-core[grpc]!=2.0.*,!=2.1.*,!=2.10.*,!=2.2.*,!=2.3.*,!=2.4.*,!=2.5.*,!=2.6.*,!=2.7.*,!=2.8.*,!=2.9.*,<3.0.0dev,>=1.34.1->google-cloud-bigquery) (1.48.2)\n",
            "Requirement already satisfied: cachetools<6.0,>=2.0.0 in /usr/local/lib/python3.10/dist-packages (from google-auth<3.0.0dev,>=2.14.1->google-cloud-bigquery) (5.5.0)\n",
            "Requirement already satisfied: pyasn1-modules>=0.2.1 in /usr/local/lib/python3.10/dist-packages (from google-auth<3.0.0dev,>=2.14.1->google-cloud-bigquery) (0.4.0)\n",
            "Requirement already satisfied: rsa<5,>=3.1.4 in /usr/local/lib/python3.10/dist-packages (from google-auth<3.0.0dev,>=2.14.1->google-cloud-bigquery) (4.9)\n",
            "Requirement already satisfied: google-crc32c<2.0dev,>=1.0 in /usr/local/lib/python3.10/dist-packages (from google-resumable-media<3.0dev,>=0.6.0->google-cloud-bigquery) (1.5.0)\n",
            "Requirement already satisfied: six>=1.5 in /usr/local/lib/python3.10/dist-packages (from python-dateutil<3.0dev,>=2.7.2->google-cloud-bigquery) (1.16.0)\n",
            "Requirement already satisfied: charset-normalizer<4,>=2 in /usr/local/lib/python3.10/dist-packages (from requests<3.0.0dev,>=2.21.0->google-cloud-bigquery) (3.3.2)\n",
            "Requirement already satisfied: idna<4,>=2.5 in /usr/local/lib/python3.10/dist-packages (from requests<3.0.0dev,>=2.21.0->google-cloud-bigquery) (3.7)\n",
            "Requirement already satisfied: urllib3<3,>=1.21.1 in /usr/local/lib/python3.10/dist-packages (from requests<3.0.0dev,>=2.21.0->google-cloud-bigquery) (2.0.7)\n",
            "Requirement already satisfied: certifi>=2017.4.17 in /usr/local/lib/python3.10/dist-packages (from requests<3.0.0dev,>=2.21.0->google-cloud-bigquery) (2024.7.4)\n",
            "Requirement already satisfied: pyasn1<0.7.0,>=0.4.6 in /usr/local/lib/python3.10/dist-packages (from pyasn1-modules>=0.2.1->google-auth<3.0.0dev,>=2.14.1->google-cloud-bigquery) (0.6.0)\n"
          ]
        }
      ]
    },
    {
      "cell_type": "code",
      "source": [
        "from google.cloud import bigquery\n",
        "from google.colab import auth"
      ],
      "metadata": {
        "id": "rwGUZ-5O5wXV"
      },
      "execution_count": 2,
      "outputs": []
    },
    {
      "cell_type": "code",
      "source": [
        "auth.authenticate_user()\n"
      ],
      "metadata": {
        "id": "4xRPxOHH5zLQ"
      },
      "execution_count": 3,
      "outputs": []
    },
    {
      "cell_type": "code",
      "source": [
        "from google.cloud import bigquery\n",
        "\n",
        "# Set up the BigQuery client\n",
        "client = bigquery.Client(project='webserver-150902')\n"
      ],
      "metadata": {
        "id": "G4d6K9IY6HOM"
      },
      "execution_count": 4,
      "outputs": []
    },
    {
      "cell_type": "code",
      "source": [
        "query = \"\"\"\n",
        "SELECT *\n",
        "FROM `webserver-150902.fantasy.characters`\n",
        "LIMIT 10\n",
        "\"\"\"\n",
        "\n",
        "# Execute the query and store the results in a pandas DataFrame\n",
        "query_job = client.query(query)\n",
        "results = query_job.result().to_dataframe()\n",
        "\n",
        "# Display the results\n",
        "print(results)"
      ],
      "metadata": {
        "collapsed": true,
        "colab": {
          "base_uri": "https://localhost:8080/"
        },
        "id": "hPhLIBJ-_jkx",
        "outputId": "bde95ce1-a64b-485d-c58d-b0f7012530c9"
      },
      "execution_count": null,
      "outputs": [
        {
          "output_type": "stream",
          "name": "stdout",
          "text": [
            "   id       name       guild   class  level  experience  health  is_alive  \\\n",
            "0   6    Gandalf      Istari    Mage     30       10000   90.00      True   \n",
            "1  10     Sauron  Dark Lords    Mage     40       15000   85.00     False   \n",
            "2  11    Saruman      Istari    Mage     28        8500   88.50     False   \n",
            "3  12     Elrond   Rivendell    Mage     27        8200   87.50      True   \n",
            "4   2    Legolas    Mirkwood  Archer     22        7500  100.75      True   \n",
            "5  13  Thranduil    Mirkwood  Archer     26        7900   97.00      True   \n",
            "6  15    Faramir      Gondor  Archer     19        5700  118.50      True   \n",
            "7   4      Frodo   Shirefolk  Hobbit     12        2500   50.50     False   \n",
            "8   5        Sam   Shirefolk  Hobbit     13        2750   52.50      True   \n",
            "9   8      Merry   Shirefolk  Hobbit     11        2200   48.50      True   \n",
            "\n",
            "                last_active  mentor_id  \n",
            "0 2023-09-20 11:00:00+00:00       <NA>  \n",
            "1 2023-09-23 01:00:00+00:00       <NA>  \n",
            "2 2023-09-20 03:00:00+00:00          6  \n",
            "3 2023-09-21 04:00:00+00:00          6  \n",
            "4 2023-09-21 09:00:00+00:00       <NA>  \n",
            "5 2023-09-22 02:00:00+00:00          2  \n",
            "6 2023-09-20 06:00:00+00:00          7  \n",
            "7 2023-09-23 10:00:00+00:00          1  \n",
            "8 2023-09-23 10:05:00+00:00          1  \n",
            "9 2023-09-22 10:00:00+00:00          4  \n"
          ]
        }
      ]
    },
    {
      "cell_type": "code",
      "source": [
        "query = \"\"\"\n",
        "SELECT * FROM `webserver-150902.fantasy.characters`\n",
        "\"\"\"\n",
        "query_job = client.query(query)\n",
        "results = query_job.result().to_dataframe()\n",
        "\n",
        "# Display the results\n",
        "print(results)"
      ],
      "metadata": {
        "collapsed": true,
        "colab": {
          "base_uri": "https://localhost:8080/"
        },
        "id": "tfQ9ZdTIABnV",
        "outputId": "d99abff6-74e7-4299-a9d5-3900f91f2075"
      },
      "execution_count": null,
      "outputs": [
        {
          "output_type": "stream",
          "name": "stdout",
          "text": [
            "    id       name       guild    class  level  experience  health  is_alive  \\\n",
            "0    6    Gandalf      Istari     Mage     30       10000   90.00      True   \n",
            "1   10     Sauron  Dark Lords     Mage     40       15000   85.00     False   \n",
            "2   11    Saruman      Istari     Mage     28        8500   88.50     False   \n",
            "3   12     Elrond   Rivendell     Mage     27        8200   87.50      True   \n",
            "4    2    Legolas    Mirkwood   Archer     22        7500  100.75      True   \n",
            "5   13  Thranduil    Mirkwood   Archer     26        7900   97.00      True   \n",
            "6   15    Faramir      Gondor   Archer     19        5700  118.50      True   \n",
            "7    4      Frodo   Shirefolk   Hobbit     12        2500   50.50     False   \n",
            "8    5        Sam   Shirefolk   Hobbit     13        2750   52.50      True   \n",
            "9    8      Merry   Shirefolk   Hobbit     11        2200   48.50      True   \n",
            "10   9     Pippin   Shirefolk   Hobbit     11        2100   47.50      True   \n",
            "11   1    Aragorn     Rangers  Warrior     25        9000  120.50      True   \n",
            "12   3      Gimli      Erebor  Warrior     20        6000  130.25      True   \n",
            "13   7    Boromir      Gondor  Warrior     18        5500  115.50     False   \n",
            "14  14      Eowyn       Rohan  Warrior     17        5200  112.50      True   \n",
            "\n",
            "                 last_active  mentor_id  \n",
            "0  2023-09-20 11:00:00+00:00       <NA>  \n",
            "1  2023-09-23 01:00:00+00:00       <NA>  \n",
            "2  2023-09-20 03:00:00+00:00          6  \n",
            "3  2023-09-21 04:00:00+00:00          6  \n",
            "4  2023-09-21 09:00:00+00:00       <NA>  \n",
            "5  2023-09-22 02:00:00+00:00          2  \n",
            "6  2023-09-20 06:00:00+00:00          7  \n",
            "7  2023-09-23 10:00:00+00:00          1  \n",
            "8  2023-09-23 10:05:00+00:00          1  \n",
            "9  2023-09-22 10:00:00+00:00          4  \n",
            "10 2023-09-22 10:01:00+00:00          4  \n",
            "11 2023-09-20 08:00:00+00:00       <NA>  \n",
            "12 2023-09-22 07:00:00+00:00       <NA>  \n",
            "13 2023-09-21 12:00:00+00:00       <NA>  \n",
            "14 2023-09-23 05:00:00+00:00          7  \n"
          ]
        }
      ]
    },
    {
      "cell_type": "code",
      "source": [
        "query = \"\"\"\n",
        "SELECT * FROM `webserver-150902.fantasy.characters`\n",
        "\"\"\"\n",
        "query_job = client.query(query)\n",
        "results = query_job.result().to_dataframe()\n",
        "\n",
        "# Display the results\n",
        "print(results)"
      ],
      "metadata": {
        "collapsed": true,
        "colab": {
          "base_uri": "https://localhost:8080/"
        },
        "id": "Xf2fLg_3AQTR",
        "outputId": "8c50630d-7f5e-4ff3-ff40-9eaeadadf40a"
      },
      "execution_count": null,
      "outputs": [
        {
          "output_type": "stream",
          "name": "stdout",
          "text": [
            "    id       name       guild    class  level  experience  health  is_alive  \\\n",
            "0    6    Gandalf      Istari     Mage     30       10000   90.00      True   \n",
            "1   10     Sauron  Dark Lords     Mage     40       15000   85.00     False   \n",
            "2   11    Saruman      Istari     Mage     28        8500   88.50     False   \n",
            "3   12     Elrond   Rivendell     Mage     27        8200   87.50      True   \n",
            "4    2    Legolas    Mirkwood   Archer     22        7500  100.75      True   \n",
            "5   13  Thranduil    Mirkwood   Archer     26        7900   97.00      True   \n",
            "6   15    Faramir      Gondor   Archer     19        5700  118.50      True   \n",
            "7    4      Frodo   Shirefolk   Hobbit     12        2500   50.50     False   \n",
            "8    5        Sam   Shirefolk   Hobbit     13        2750   52.50      True   \n",
            "9    8      Merry   Shirefolk   Hobbit     11        2200   48.50      True   \n",
            "10   9     Pippin   Shirefolk   Hobbit     11        2100   47.50      True   \n",
            "11   1    Aragorn     Rangers  Warrior     25        9000  120.50      True   \n",
            "12   3      Gimli      Erebor  Warrior     20        6000  130.25      True   \n",
            "13   7    Boromir      Gondor  Warrior     18        5500  115.50     False   \n",
            "14  14      Eowyn       Rohan  Warrior     17        5200  112.50      True   \n",
            "\n",
            "                 last_active  mentor_id  \n",
            "0  2023-09-20 11:00:00+00:00       <NA>  \n",
            "1  2023-09-23 01:00:00+00:00       <NA>  \n",
            "2  2023-09-20 03:00:00+00:00          6  \n",
            "3  2023-09-21 04:00:00+00:00          6  \n",
            "4  2023-09-21 09:00:00+00:00       <NA>  \n",
            "5  2023-09-22 02:00:00+00:00          2  \n",
            "6  2023-09-20 06:00:00+00:00          7  \n",
            "7  2023-09-23 10:00:00+00:00          1  \n",
            "8  2023-09-23 10:05:00+00:00          1  \n",
            "9  2023-09-22 10:00:00+00:00          4  \n",
            "10 2023-09-22 10:01:00+00:00          4  \n",
            "11 2023-09-20 08:00:00+00:00       <NA>  \n",
            "12 2023-09-22 07:00:00+00:00       <NA>  \n",
            "13 2023-09-21 12:00:00+00:00       <NA>  \n",
            "14 2023-09-23 05:00:00+00:00          7  \n"
          ]
        }
      ]
    },
    {
      "cell_type": "code",
      "source": [
        "query = \"\"\"\n",
        "SELECT class, AVG(level) AS avg_level\n",
        "FROM `webserver-150902.fantasy.characters`\n",
        "WHERE is_alive = True  -- In pandasql, TRUE is represented by 1 and FALSE by 0\n",
        "GROUP BY class\n",
        "HAVING AVG(level) > 22\n",
        "ORDER BY avg_level DESC\n",
        "LIMIT 5;\n",
        "\"\"\"\n",
        "query_job = client.query(query)\n",
        "results = query_job.result().to_dataframe()\n",
        "\n",
        "# Display the results\n",
        "print(results)"
      ],
      "metadata": {
        "colab": {
          "base_uri": "https://localhost:8080/"
        },
        "id": "MJQFHOvOAhV3",
        "outputId": "8e8f56e4-7d10-475b-e8b1-0adebe10b6da"
      },
      "execution_count": null,
      "outputs": [
        {
          "output_type": "stream",
          "name": "stdout",
          "text": [
            "    class  avg_level\n",
            "0    Mage  28.500000\n",
            "1  Archer  22.333333\n"
          ]
        }
      ]
    },
    {
      "cell_type": "code",
      "source": [
        "#aliasing\n",
        "query = \"\"\"\n",
        "\n",
        "SELECT name, guild, level as character_level\n",
        "FROM `webserver-150902.fantasy.characters`\n",
        "\n",
        "\"\"\"\n",
        "\n",
        "query_job = client.query(query)\n",
        "results = query_job.result().to_dataframe()\n",
        "\n",
        "# Display the results\n",
        "print(results)\n"
      ],
      "metadata": {
        "colab": {
          "base_uri": "https://localhost:8080/"
        },
        "id": "RRSkuNQXAu0j",
        "outputId": "48723f04-7a12-4224-8735-cdf974ba7cb9"
      },
      "execution_count": null,
      "outputs": [
        {
          "output_type": "stream",
          "name": "stdout",
          "text": [
            "         name       guild  character_level\n",
            "0     Gandalf      Istari               30\n",
            "1      Sauron  Dark Lords               40\n",
            "2     Saruman      Istari               28\n",
            "3      Elrond   Rivendell               27\n",
            "4     Legolas    Mirkwood               22\n",
            "5   Thranduil    Mirkwood               26\n",
            "6     Faramir      Gondor               19\n",
            "7       Frodo   Shirefolk               12\n",
            "8         Sam   Shirefolk               13\n",
            "9       Merry   Shirefolk               11\n",
            "10     Pippin   Shirefolk               11\n",
            "11    Aragorn     Rangers               25\n",
            "12      Gimli      Erebor               20\n",
            "13    Boromir      Gondor               18\n",
            "14      Eowyn       Rohan               17\n"
          ]
        }
      ]
    },
    {
      "cell_type": "code",
      "source": [
        "#constants\n",
        "query = \"\"\"\n",
        "\n",
        "SELECT name, guild, level as character_level, 1 as version\n",
        "FROM `webserver-150902.fantasy.characters`\n",
        "\n",
        "\"\"\"\n",
        "\n",
        "query_job = client.query(query)\n",
        "results = query_job.result().to_dataframe()\n",
        "\n",
        "# Display the results\n",
        "print(results)\n"
      ],
      "metadata": {
        "colab": {
          "base_uri": "https://localhost:8080/"
        },
        "id": "l22JcDldA6hn",
        "outputId": "57da2297-544f-4089-a4fe-2353c3099f62"
      },
      "execution_count": null,
      "outputs": [
        {
          "output_type": "stream",
          "name": "stdout",
          "text": [
            "         name       guild  character_level  version\n",
            "0     Gandalf      Istari               30        1\n",
            "1      Sauron  Dark Lords               40        1\n",
            "2     Saruman      Istari               28        1\n",
            "3      Elrond   Rivendell               27        1\n",
            "4     Legolas    Mirkwood               22        1\n",
            "5   Thranduil    Mirkwood               26        1\n",
            "6     Faramir      Gondor               19        1\n",
            "7       Frodo   Shirefolk               12        1\n",
            "8         Sam   Shirefolk               13        1\n",
            "9       Merry   Shirefolk               11        1\n",
            "10     Pippin   Shirefolk               11        1\n",
            "11    Aragorn     Rangers               25        1\n",
            "12      Gimli      Erebor               20        1\n",
            "13    Boromir      Gondor               18        1\n",
            "14      Eowyn       Rohan               17        1\n"
          ]
        }
      ]
    },
    {
      "cell_type": "code",
      "source": [
        "#calculations\n",
        "query = \"\"\"\n",
        "\n",
        "SELECT name, guild, level as character_level, 1 as version,\n",
        "experience, experience / 100\n",
        "FROM `webserver-150902.fantasy.characters`\n",
        "\n",
        "\"\"\"\n",
        "\n",
        "query_job = client.query(query)\n",
        "results = query_job.result().to_dataframe()\n",
        "\n",
        "# Display the results\n",
        "print(results)"
      ],
      "metadata": {
        "colab": {
          "base_uri": "https://localhost:8080/"
        },
        "id": "rTVlIM1_BIq-",
        "outputId": "049892dd-a829-4b93-ba9d-4c0b76202d52"
      },
      "execution_count": null,
      "outputs": [
        {
          "output_type": "stream",
          "name": "stdout",
          "text": [
            "         name       guild  character_level  version  experience    f0_\n",
            "0     Gandalf      Istari               30        1       10000  100.0\n",
            "1      Sauron  Dark Lords               40        1       15000  150.0\n",
            "2     Saruman      Istari               28        1        8500   85.0\n",
            "3      Elrond   Rivendell               27        1        8200   82.0\n",
            "4     Legolas    Mirkwood               22        1        7500   75.0\n",
            "5   Thranduil    Mirkwood               26        1        7900   79.0\n",
            "6     Faramir      Gondor               19        1        5700   57.0\n",
            "7       Frodo   Shirefolk               12        1        2500   25.0\n",
            "8         Sam   Shirefolk               13        1        2750   27.5\n",
            "9       Merry   Shirefolk               11        1        2200   22.0\n",
            "10     Pippin   Shirefolk               11        1        2100   21.0\n",
            "11    Aragorn     Rangers               25        1        9000   90.0\n",
            "12      Gimli      Erebor               20        1        6000   60.0\n",
            "13    Boromir      Gondor               18        1        5500   55.0\n",
            "14      Eowyn       Rohan               17        1        5200   52.0\n"
          ]
        }
      ]
    },
    {
      "cell_type": "code",
      "source": [
        "#cant calculate with alias as SELECT and alias will be executed at the same time\n",
        "query = \"\"\"\n",
        "\n",
        "SELECT name, guild, level as character_level, 1 as version,\n",
        "experience, experience / 100,\n",
        "experience + 100 / character_level + 2\n",
        "FROM `webserver-150902.fantasy.characters`\n",
        "\n",
        "\"\"\"  # Removed the period after version\n",
        "\n",
        "query_job = client.query(query)\n",
        "results = query_job.result().to_dataframe()\n",
        "\n",
        "# Display the results\n",
        "print(results)"
      ],
      "metadata": {
        "colab": {
          "base_uri": "https://localhost:8080/",
          "height": 425
        },
        "id": "UflkDjQjBQKi",
        "outputId": "a69fe7a1-8ec5-4127-b665-4b7307eb5f1d"
      },
      "execution_count": null,
      "outputs": [
        {
          "output_type": "error",
          "ename": "BadRequest",
          "evalue": "400 Unrecognized name: character_level at [5:20]; reason: invalidQuery, location: query, message: Unrecognized name: character_level at [5:20]\n\nLocation: US\nJob ID: cfdbe6fe-3db8-4d1f-94fe-da910b7b665d\n",
          "traceback": [
            "\u001b[0;31m---------------------------------------------------------------------------\u001b[0m",
            "\u001b[0;31mBadRequest\u001b[0m                                Traceback (most recent call last)",
            "\u001b[0;32m<ipython-input-175-b69aedd2b4b7>\u001b[0m in \u001b[0;36m<cell line: 12>\u001b[0;34m()\u001b[0m\n\u001b[1;32m     10\u001b[0m \u001b[0;34m\u001b[0m\u001b[0m\n\u001b[1;32m     11\u001b[0m \u001b[0mquery_job\u001b[0m \u001b[0;34m=\u001b[0m \u001b[0mclient\u001b[0m\u001b[0;34m.\u001b[0m\u001b[0mquery\u001b[0m\u001b[0;34m(\u001b[0m\u001b[0mquery\u001b[0m\u001b[0;34m)\u001b[0m\u001b[0;34m\u001b[0m\u001b[0;34m\u001b[0m\u001b[0m\n\u001b[0;32m---> 12\u001b[0;31m \u001b[0mresults\u001b[0m \u001b[0;34m=\u001b[0m \u001b[0mquery_job\u001b[0m\u001b[0;34m.\u001b[0m\u001b[0mresult\u001b[0m\u001b[0;34m(\u001b[0m\u001b[0;34m)\u001b[0m\u001b[0;34m.\u001b[0m\u001b[0mto_dataframe\u001b[0m\u001b[0;34m(\u001b[0m\u001b[0;34m)\u001b[0m\u001b[0;34m\u001b[0m\u001b[0;34m\u001b[0m\u001b[0m\n\u001b[0m\u001b[1;32m     13\u001b[0m \u001b[0;34m\u001b[0m\u001b[0m\n\u001b[1;32m     14\u001b[0m \u001b[0;31m# Display the results\u001b[0m\u001b[0;34m\u001b[0m\u001b[0;34m\u001b[0m\u001b[0m\n",
            "\u001b[0;32m/usr/local/lib/python3.10/dist-packages/google/cloud/bigquery/job/query.py\u001b[0m in \u001b[0;36mresult\u001b[0;34m(self, page_size, max_results, retry, timeout, start_index, job_retry)\u001b[0m\n\u001b[1;32m   1674\u001b[0m                 \u001b[0;31m# Since is_job_done() calls jobs.getQueryResults, which is a\u001b[0m\u001b[0;34m\u001b[0m\u001b[0;34m\u001b[0m\u001b[0m\n\u001b[1;32m   1675\u001b[0m                 \u001b[0;31m# long-running API, don't delay the next request at all.\u001b[0m\u001b[0;34m\u001b[0m\u001b[0;34m\u001b[0m\u001b[0m\n\u001b[0;32m-> 1676\u001b[0;31m                 \u001b[0;32mwhile\u001b[0m \u001b[0;32mnot\u001b[0m \u001b[0mis_job_done\u001b[0m\u001b[0;34m(\u001b[0m\u001b[0;34m)\u001b[0m\u001b[0;34m:\u001b[0m\u001b[0;34m\u001b[0m\u001b[0;34m\u001b[0m\u001b[0m\n\u001b[0m\u001b[1;32m   1677\u001b[0m                     \u001b[0;32mpass\u001b[0m\u001b[0;34m\u001b[0m\u001b[0;34m\u001b[0m\u001b[0m\n\u001b[1;32m   1678\u001b[0m             \u001b[0;32melse\u001b[0m\u001b[0;34m:\u001b[0m\u001b[0;34m\u001b[0m\u001b[0;34m\u001b[0m\u001b[0m\n",
            "\u001b[0;32m/usr/local/lib/python3.10/dist-packages/google/api_core/retry/retry_unary.py\u001b[0m in \u001b[0;36mretry_wrapped_func\u001b[0;34m(*args, **kwargs)\u001b[0m\n\u001b[1;32m    291\u001b[0m                 \u001b[0mself\u001b[0m\u001b[0;34m.\u001b[0m\u001b[0m_initial\u001b[0m\u001b[0;34m,\u001b[0m \u001b[0mself\u001b[0m\u001b[0;34m.\u001b[0m\u001b[0m_maximum\u001b[0m\u001b[0;34m,\u001b[0m \u001b[0mmultiplier\u001b[0m\u001b[0;34m=\u001b[0m\u001b[0mself\u001b[0m\u001b[0;34m.\u001b[0m\u001b[0m_multiplier\u001b[0m\u001b[0;34m\u001b[0m\u001b[0;34m\u001b[0m\u001b[0m\n\u001b[1;32m    292\u001b[0m             )\n\u001b[0;32m--> 293\u001b[0;31m             return retry_target(\n\u001b[0m\u001b[1;32m    294\u001b[0m                 \u001b[0mtarget\u001b[0m\u001b[0;34m,\u001b[0m\u001b[0;34m\u001b[0m\u001b[0;34m\u001b[0m\u001b[0m\n\u001b[1;32m    295\u001b[0m                 \u001b[0mself\u001b[0m\u001b[0;34m.\u001b[0m\u001b[0m_predicate\u001b[0m\u001b[0;34m,\u001b[0m\u001b[0;34m\u001b[0m\u001b[0;34m\u001b[0m\u001b[0m\n",
            "\u001b[0;32m/usr/local/lib/python3.10/dist-packages/google/api_core/retry/retry_unary.py\u001b[0m in \u001b[0;36mretry_target\u001b[0;34m(target, predicate, sleep_generator, timeout, on_error, exception_factory, **kwargs)\u001b[0m\n\u001b[1;32m    151\u001b[0m         \u001b[0;32mexcept\u001b[0m \u001b[0mException\u001b[0m \u001b[0;32mas\u001b[0m \u001b[0mexc\u001b[0m\u001b[0;34m:\u001b[0m\u001b[0;34m\u001b[0m\u001b[0;34m\u001b[0m\u001b[0m\n\u001b[1;32m    152\u001b[0m             \u001b[0;31m# defer to shared logic for handling errors\u001b[0m\u001b[0;34m\u001b[0m\u001b[0;34m\u001b[0m\u001b[0m\n\u001b[0;32m--> 153\u001b[0;31m             _retry_error_helper(\n\u001b[0m\u001b[1;32m    154\u001b[0m                 \u001b[0mexc\u001b[0m\u001b[0;34m,\u001b[0m\u001b[0;34m\u001b[0m\u001b[0;34m\u001b[0m\u001b[0m\n\u001b[1;32m    155\u001b[0m                 \u001b[0mdeadline\u001b[0m\u001b[0;34m,\u001b[0m\u001b[0;34m\u001b[0m\u001b[0;34m\u001b[0m\u001b[0m\n",
            "\u001b[0;32m/usr/local/lib/python3.10/dist-packages/google/api_core/retry/retry_base.py\u001b[0m in \u001b[0;36m_retry_error_helper\u001b[0;34m(exc, deadline, next_sleep, error_list, predicate_fn, on_error_fn, exc_factory_fn, original_timeout)\u001b[0m\n\u001b[1;32m    210\u001b[0m             \u001b[0moriginal_timeout\u001b[0m\u001b[0;34m,\u001b[0m\u001b[0;34m\u001b[0m\u001b[0;34m\u001b[0m\u001b[0m\n\u001b[1;32m    211\u001b[0m         )\n\u001b[0;32m--> 212\u001b[0;31m         \u001b[0;32mraise\u001b[0m \u001b[0mfinal_exc\u001b[0m \u001b[0;32mfrom\u001b[0m \u001b[0msource_exc\u001b[0m\u001b[0;34m\u001b[0m\u001b[0;34m\u001b[0m\u001b[0m\n\u001b[0m\u001b[1;32m    213\u001b[0m     \u001b[0;32mif\u001b[0m \u001b[0mon_error_fn\u001b[0m \u001b[0;32mis\u001b[0m \u001b[0;32mnot\u001b[0m \u001b[0;32mNone\u001b[0m\u001b[0;34m:\u001b[0m\u001b[0;34m\u001b[0m\u001b[0;34m\u001b[0m\u001b[0m\n\u001b[1;32m    214\u001b[0m         \u001b[0mon_error_fn\u001b[0m\u001b[0;34m(\u001b[0m\u001b[0mexc\u001b[0m\u001b[0;34m)\u001b[0m\u001b[0;34m\u001b[0m\u001b[0;34m\u001b[0m\u001b[0m\n",
            "\u001b[0;32m/usr/local/lib/python3.10/dist-packages/google/api_core/retry/retry_unary.py\u001b[0m in \u001b[0;36mretry_target\u001b[0;34m(target, predicate, sleep_generator, timeout, on_error, exception_factory, **kwargs)\u001b[0m\n\u001b[1;32m    142\u001b[0m     \u001b[0;32mfor\u001b[0m \u001b[0msleep\u001b[0m \u001b[0;32min\u001b[0m \u001b[0msleep_generator\u001b[0m\u001b[0;34m:\u001b[0m\u001b[0;34m\u001b[0m\u001b[0;34m\u001b[0m\u001b[0m\n\u001b[1;32m    143\u001b[0m         \u001b[0;32mtry\u001b[0m\u001b[0;34m:\u001b[0m\u001b[0;34m\u001b[0m\u001b[0;34m\u001b[0m\u001b[0m\n\u001b[0;32m--> 144\u001b[0;31m             \u001b[0mresult\u001b[0m \u001b[0;34m=\u001b[0m \u001b[0mtarget\u001b[0m\u001b[0;34m(\u001b[0m\u001b[0;34m)\u001b[0m\u001b[0;34m\u001b[0m\u001b[0;34m\u001b[0m\u001b[0m\n\u001b[0m\u001b[1;32m    145\u001b[0m             \u001b[0;32mif\u001b[0m \u001b[0minspect\u001b[0m\u001b[0;34m.\u001b[0m\u001b[0misawaitable\u001b[0m\u001b[0;34m(\u001b[0m\u001b[0mresult\u001b[0m\u001b[0;34m)\u001b[0m\u001b[0;34m:\u001b[0m\u001b[0;34m\u001b[0m\u001b[0;34m\u001b[0m\u001b[0m\n\u001b[1;32m    146\u001b[0m                 \u001b[0mwarnings\u001b[0m\u001b[0;34m.\u001b[0m\u001b[0mwarn\u001b[0m\u001b[0;34m(\u001b[0m\u001b[0m_ASYNC_RETRY_WARNING\u001b[0m\u001b[0;34m)\u001b[0m\u001b[0;34m\u001b[0m\u001b[0;34m\u001b[0m\u001b[0m\n",
            "\u001b[0;32m/usr/local/lib/python3.10/dist-packages/google/cloud/bigquery/job/query.py\u001b[0m in \u001b[0;36mis_job_done\u001b[0;34m()\u001b[0m\n\u001b[1;32m   1623\u001b[0m                         \u001b[0;31m# `job_retry` predicate.\u001b[0m\u001b[0;34m\u001b[0m\u001b[0;34m\u001b[0m\u001b[0m\n\u001b[1;32m   1624\u001b[0m                         \u001b[0mrestart_query_job\u001b[0m \u001b[0;34m=\u001b[0m \u001b[0;32mTrue\u001b[0m\u001b[0;34m\u001b[0m\u001b[0;34m\u001b[0m\u001b[0m\n\u001b[0;32m-> 1625\u001b[0;31m                         \u001b[0;32mraise\u001b[0m \u001b[0mjob_failed_exception\u001b[0m\u001b[0;34m\u001b[0m\u001b[0;34m\u001b[0m\u001b[0m\n\u001b[0m\u001b[1;32m   1626\u001b[0m                     \u001b[0;32melse\u001b[0m\u001b[0;34m:\u001b[0m\u001b[0;34m\u001b[0m\u001b[0;34m\u001b[0m\u001b[0m\n\u001b[1;32m   1627\u001b[0m                         \u001b[0;31m# Make sure that the _query_results are cached so we\u001b[0m\u001b[0;34m\u001b[0m\u001b[0;34m\u001b[0m\u001b[0m\n",
            "\u001b[0;31mBadRequest\u001b[0m: 400 Unrecognized name: character_level at [5:20]; reason: invalidQuery, location: query, message: Unrecognized name: character_level at [5:20]\n\nLocation: US\nJob ID: cfdbe6fe-3db8-4d1f-94fe-da910b7b665d\n"
          ]
        }
      ]
    },
    {
      "cell_type": "markdown",
      "source": [
        "Hypothesis The error message \"OperationalError: no such column: character_level\" indicates that you're trying to use the alias 'character_level' in a calculation within the same SELECT statement where it's defined. SQL generally processes these statements in a linear fashion, so the alias isn't recognized when you try to use it later in the calculation."
      ],
      "metadata": {
        "id": "cKF9nu-DBbSZ"
      }
    },
    {
      "cell_type": "code",
      "source": [
        "#functions\n",
        "query = \"\"\"\n",
        "\n",
        "SELECT name, guild, level as character_level, 1 as version,\n",
        "experience, experience / 100,\n",
        "experience + (100 / level) + 2,\n",
        "SQRT(16), SQRT(level),\n",
        "UPPER(guild)\n",
        "FROM `webserver-150902.fantasy.characters`\n",
        "\n",
        "\"\"\"\n",
        "\n",
        "query_job = client.query(query)\n",
        "results = query_job.result().to_dataframe()\n",
        "\n",
        "# Display the results\n",
        "print(results)"
      ],
      "metadata": {
        "colab": {
          "base_uri": "https://localhost:8080/"
        },
        "id": "au4wGYyVBkUB",
        "outputId": "05275931-27a1-49e2-8fc7-d23829978492"
      },
      "execution_count": null,
      "outputs": [
        {
          "output_type": "stream",
          "name": "stdout",
          "text": [
            "         name       guild  character_level  version  experience    f0_  \\\n",
            "0     Gandalf      Istari               30        1       10000  100.0   \n",
            "1      Sauron  Dark Lords               40        1       15000  150.0   \n",
            "2     Saruman      Istari               28        1        8500   85.0   \n",
            "3      Elrond   Rivendell               27        1        8200   82.0   \n",
            "4     Legolas    Mirkwood               22        1        7500   75.0   \n",
            "5   Thranduil    Mirkwood               26        1        7900   79.0   \n",
            "6     Faramir      Gondor               19        1        5700   57.0   \n",
            "7       Frodo   Shirefolk               12        1        2500   25.0   \n",
            "8         Sam   Shirefolk               13        1        2750   27.5   \n",
            "9       Merry   Shirefolk               11        1        2200   22.0   \n",
            "10     Pippin   Shirefolk               11        1        2100   21.0   \n",
            "11    Aragorn     Rangers               25        1        9000   90.0   \n",
            "12      Gimli      Erebor               20        1        6000   60.0   \n",
            "13    Boromir      Gondor               18        1        5500   55.0   \n",
            "14      Eowyn       Rohan               17        1        5200   52.0   \n",
            "\n",
            "             f1_  f2_       f3_         f4_  \n",
            "0   10005.333333  4.0  5.477226      ISTARI  \n",
            "1   15004.500000  4.0  6.324555  DARK LORDS  \n",
            "2    8505.571429  4.0  5.291503      ISTARI  \n",
            "3    8205.703704  4.0  5.196152   RIVENDELL  \n",
            "4    7506.545455  4.0  4.690416    MIRKWOOD  \n",
            "5    7905.846154  4.0  5.099020    MIRKWOOD  \n",
            "6    5707.263158  4.0  4.358899      GONDOR  \n",
            "7    2510.333333  4.0  3.464102   SHIREFOLK  \n",
            "8    2759.692308  4.0  3.605551   SHIREFOLK  \n",
            "9    2211.090909  4.0  3.316625   SHIREFOLK  \n",
            "10   2111.090909  4.0  3.316625   SHIREFOLK  \n",
            "11   9006.000000  4.0  5.000000     RANGERS  \n",
            "12   6007.000000  4.0  4.472136      EREBOR  \n",
            "13   5507.555556  4.0  4.242641      GONDOR  \n",
            "14   5207.882353  4.0  4.123106       ROHAN  \n"
          ]
        }
      ]
    },
    {
      "cell_type": "code",
      "source": [
        "# Create the table and insert data\n",
        "create_table = \"\"\"\n",
        "CREATE OR REPLACE TABLE `webserver-150902.fantasy.characters_alive` AS\n",
        "SELECT *\n",
        "FROM `webserver-150902.fantasy.characters`\n",
        "WHERE is_alive = True\n",
        "\"\"\"\n",
        "\n",
        "# Run the query to create the table\n",
        "client.query(create_table).result()\n",
        "\n",
        "# Query the newly created table\n",
        "get_table = \"\"\"\n",
        "SELECT * FROM `webserver-150902.fantasy.characters_alive`\n",
        "\"\"\"\n",
        "\n",
        "# Execute the query and convert to a pandas DataFrame\n",
        "result_df = client.query(get_table).to_dataframe()\n",
        "\n",
        "# Display the result\n",
        "print(result_df)\n"
      ],
      "metadata": {
        "colab": {
          "base_uri": "https://localhost:8080/"
        },
        "id": "vH5H5xZrB1Jx",
        "outputId": "c69e126d-fc23-4a11-85a3-2e9665be2aaf"
      },
      "execution_count": null,
      "outputs": [
        {
          "output_type": "stream",
          "name": "stdout",
          "text": [
            "    id       name      guild    class  level  experience  health  is_alive  \\\n",
            "0   12     Elrond  Rivendell     Mage     27        8200   87.50      True   \n",
            "1    6    Gandalf     Istari     Mage     30       10000   90.00      True   \n",
            "2   13  Thranduil   Mirkwood   Archer     26        7900   97.00      True   \n",
            "3    2    Legolas   Mirkwood   Archer     22        7500  100.75      True   \n",
            "4   15    Faramir     Gondor   Archer     19        5700  118.50      True   \n",
            "5    5        Sam  Shirefolk   Hobbit     13        2750   52.50      True   \n",
            "6    8      Merry  Shirefolk   Hobbit     11        2200   48.50      True   \n",
            "7    9     Pippin  Shirefolk   Hobbit     11        2100   47.50      True   \n",
            "8   14      Eowyn      Rohan  Warrior     17        5200  112.50      True   \n",
            "9    1    Aragorn    Rangers  Warrior     25        9000  120.50      True   \n",
            "10   3      Gimli     Erebor  Warrior     20        6000  130.25      True   \n",
            "\n",
            "                 last_active  mentor_id  \n",
            "0  2023-09-21 04:00:00+00:00          6  \n",
            "1  2023-09-20 11:00:00+00:00       <NA>  \n",
            "2  2023-09-22 02:00:00+00:00          2  \n",
            "3  2023-09-21 09:00:00+00:00       <NA>  \n",
            "4  2023-09-20 06:00:00+00:00          7  \n",
            "5  2023-09-23 10:05:00+00:00          1  \n",
            "6  2023-09-22 10:00:00+00:00          4  \n",
            "7  2023-09-22 10:01:00+00:00          4  \n",
            "8  2023-09-23 05:00:00+00:00          7  \n",
            "9  2023-09-20 08:00:00+00:00       <NA>  \n",
            "10 2023-09-22 07:00:00+00:00       <NA>  \n"
          ]
        }
      ]
    },
    {
      "cell_type": "code",
      "source": [
        "# Create the table and insert data\n",
        "create_table = \"\"\"\n",
        "CREATE OR REPLACE TABLE `webserver-150902.fantasy.characters_dead` AS\n",
        "SELECT *\n",
        "FROM `webserver-150902.fantasy.characters`\n",
        "WHERE is_alive = False\n",
        "\"\"\"\n",
        "\n",
        "# Run the query to create the table\n",
        "client.query(create_table).result()\n",
        "\n",
        "# Query the newly created table\n",
        "get_table = \"\"\"\n",
        "SELECT * FROM `webserver-150902.fantasy.characters_dead`\n",
        "\"\"\"\n",
        "\n",
        "# Execute the query and convert to a pandas DataFrame\n",
        "result_df = client.query(get_table).to_dataframe()\n",
        "\n",
        "# Display the result\n",
        "print(result_df)\n"
      ],
      "metadata": {
        "colab": {
          "base_uri": "https://localhost:8080/"
        },
        "id": "B-3SHLn9C1jf",
        "outputId": "73359318-ffea-4c9b-914b-79f4ecb185dc"
      },
      "execution_count": null,
      "outputs": [
        {
          "output_type": "stream",
          "name": "stdout",
          "text": [
            "   id     name       guild    class  level  experience  health  is_alive  \\\n",
            "0  11  Saruman      Istari     Mage     28        8500    88.5     False   \n",
            "1  10   Sauron  Dark Lords     Mage     40       15000    85.0     False   \n",
            "2   4    Frodo   Shirefolk   Hobbit     12        2500    50.5     False   \n",
            "3   7  Boromir      Gondor  Warrior     18        5500   115.5     False   \n",
            "\n",
            "                last_active  mentor_id  \n",
            "0 2023-09-20 03:00:00+00:00          6  \n",
            "1 2023-09-23 01:00:00+00:00       <NA>  \n",
            "2 2023-09-23 10:00:00+00:00          1  \n",
            "3 2023-09-21 12:00:00+00:00       <NA>  \n"
          ]
        }
      ]
    },
    {
      "cell_type": "code",
      "source": [
        "# Create the table and insert data\n",
        "create_table = \"\"\"\n",
        "CREATE TABLE IF NOT EXISTS`webserver-150902.fantasy.characters_alive` AS\n",
        "SELECT *\n",
        "FROM `webserver-150902.fantasy.characters`\n",
        "WHERE is_alive = True\n",
        "\"\"\"\n",
        "\n",
        "# Run the query to create the table\n",
        "client.query(create_table).result()\n",
        "\n",
        "# Query the newly created table\n",
        "get_table = \"\"\"\n",
        "SELECT * FROM `webserver-150902.fantasy.characters_alive`\n",
        "\"\"\"\n",
        "\n",
        "# Execute the query and convert to a pandas DataFrame\n",
        "result_df = client.query(get_table).to_dataframe()\n",
        "\n",
        "# Display the result\n",
        "print(result_df)\n"
      ],
      "metadata": {
        "id": "O5Qa2RmAEJt-",
        "outputId": "cefa684c-2581-4b2b-e6c4-fa36da93d4a8",
        "colab": {
          "base_uri": "https://localhost:8080/"
        }
      },
      "execution_count": null,
      "outputs": [
        {
          "output_type": "stream",
          "name": "stdout",
          "text": [
            "    id       name      guild    class  level  experience  health  is_alive  \\\n",
            "0   12     Elrond  Rivendell     Mage     27        8200   87.50      True   \n",
            "1    6    Gandalf     Istari     Mage     30       10000   90.00      True   \n",
            "2   13  Thranduil   Mirkwood   Archer     26        7900   97.00      True   \n",
            "3    2    Legolas   Mirkwood   Archer     22        7500  100.75      True   \n",
            "4   15    Faramir     Gondor   Archer     19        5700  118.50      True   \n",
            "5    5        Sam  Shirefolk   Hobbit     13        2750   52.50      True   \n",
            "6    8      Merry  Shirefolk   Hobbit     11        2200   48.50      True   \n",
            "7    9     Pippin  Shirefolk   Hobbit     11        2100   47.50      True   \n",
            "8   14      Eowyn      Rohan  Warrior     17        5200  112.50      True   \n",
            "9    1    Aragorn    Rangers  Warrior     25        9000  120.50      True   \n",
            "10   3      Gimli     Erebor  Warrior     20        6000  130.25      True   \n",
            "\n",
            "                 last_active  mentor_id  \n",
            "0  2023-09-21 04:00:00+00:00          6  \n",
            "1  2023-09-20 11:00:00+00:00       <NA>  \n",
            "2  2023-09-22 02:00:00+00:00          2  \n",
            "3  2023-09-21 09:00:00+00:00       <NA>  \n",
            "4  2023-09-20 06:00:00+00:00          7  \n",
            "5  2023-09-23 10:05:00+00:00          1  \n",
            "6  2023-09-22 10:00:00+00:00          4  \n",
            "7  2023-09-22 10:01:00+00:00          4  \n",
            "8  2023-09-23 05:00:00+00:00          7  \n",
            "9  2023-09-20 08:00:00+00:00       <NA>  \n",
            "10 2023-09-22 07:00:00+00:00       <NA>  \n"
          ]
        }
      ]
    },
    {
      "cell_type": "markdown",
      "source": [
        "\n",
        "\n",
        "\n",
        "1. **UNION ALL** - gets all the rows\n",
        "2. **UNION DISTINCT** - gets all the distinct rows this avoids the duplicate rows\n",
        "3. **INTERSECT DISTINCT** - gets only the shared rows between two\n",
        "4. **EXCEPT DISTINCT** - The EXCEPT operator in SQL is used to return all rows from the first query that are not present in the second query. When you use EXCEPT DISTINCT, it specifically ensures that only distinct rows from the first query that do not appear in the second query are returned.\n"
      ],
      "metadata": {
        "id": "dMs8SAvZGSZy"
      }
    },
    {
      "cell_type": "markdown",
      "source": [
        "**UNION ALL**"
      ],
      "metadata": {
        "id": "vG_S7OdxjXSZ"
      }
    },
    {
      "cell_type": "code",
      "source": [
        "get_tables = \"\"\"\n",
        "SELECT * FROM `webserver-150902.fantasy.characters_alive`\n",
        "UNION ALL\n",
        "SELECT * FROM `webserver-150902.fantasy.characters_dead`\n",
        "\"\"\"\n",
        "\n",
        "# Execute the query and convert to a pandas DataFrame\n",
        "result_df = client.query(get_tables).to_dataframe()\n",
        "\n",
        "# Display the result\n",
        "print(result_df)"
      ],
      "metadata": {
        "id": "Ppkk4aSoEtFm",
        "outputId": "490337f4-eda7-41c3-c8f5-b55a074656fa",
        "colab": {
          "base_uri": "https://localhost:8080/"
        },
        "collapsed": true
      },
      "execution_count": 14,
      "outputs": [
        {
          "output_type": "stream",
          "name": "stdout",
          "text": [
            "    id       name       guild    class  level  experience  health  is_alive  \\\n",
            "0   11    Saruman      Istari     Mage     28        8500   88.50     False   \n",
            "1   10     Sauron  Dark Lords     Mage     40       15000   85.00     False   \n",
            "2    4      Frodo   Shirefolk   Hobbit     12        2500   50.50     False   \n",
            "3    7    Boromir      Gondor  Warrior     18        5500  115.50     False   \n",
            "4   12     Elrond   Rivendell     Mage     27        8200   87.50      True   \n",
            "5    6    Gandalf      Istari     Mage     30       10000   90.00      True   \n",
            "6   13  Thranduil    Mirkwood   Archer     26        7900   97.00      True   \n",
            "7    2    Legolas    Mirkwood   Archer     22        7500  100.75      True   \n",
            "8   15    Faramir      Gondor   Archer     19        5700  118.50      True   \n",
            "9    5        Sam   Shirefolk   Hobbit     13        2750   52.50      True   \n",
            "10   8      Merry   Shirefolk   Hobbit     11        2200   48.50      True   \n",
            "11   9     Pippin   Shirefolk   Hobbit     11        2100   47.50      True   \n",
            "12  14      Eowyn       Rohan  Warrior     17        5200  112.50      True   \n",
            "13   1    Aragorn     Rangers  Warrior     25        9000  120.50      True   \n",
            "14   3      Gimli      Erebor  Warrior     20        6000  130.25      True   \n",
            "\n",
            "                 last_active  mentor_id  \n",
            "0  2023-09-20 03:00:00+00:00          6  \n",
            "1  2023-09-23 01:00:00+00:00       <NA>  \n",
            "2  2023-09-23 10:00:00+00:00          1  \n",
            "3  2023-09-21 12:00:00+00:00       <NA>  \n",
            "4  2023-09-21 04:00:00+00:00          6  \n",
            "5  2023-09-20 11:00:00+00:00       <NA>  \n",
            "6  2023-09-22 02:00:00+00:00          2  \n",
            "7  2023-09-21 09:00:00+00:00       <NA>  \n",
            "8  2023-09-20 06:00:00+00:00          7  \n",
            "9  2023-09-23 10:05:00+00:00          1  \n",
            "10 2023-09-22 10:00:00+00:00          4  \n",
            "11 2023-09-22 10:01:00+00:00          4  \n",
            "12 2023-09-23 05:00:00+00:00          7  \n",
            "13 2023-09-20 08:00:00+00:00       <NA>  \n",
            "14 2023-09-22 07:00:00+00:00       <NA>  \n"
          ]
        }
      ]
    },
    {
      "cell_type": "markdown",
      "source": [
        "Replicate all the 3 with below table"
      ],
      "metadata": {
        "id": "q2QnDH27jgIU"
      }
    },
    {
      "cell_type": "code",
      "source": [
        "# Create the first table (Table A)\n",
        "create_table_a = \"\"\"\n",
        "CREATE OR REPLACE TABLE `webserver-150902.fantasy.table_a` AS\n",
        "SELECT 1 AS id, 'Alice' AS name\n",
        "UNION ALL\n",
        "SELECT 2, 'Bob'\n",
        "UNION ALL\n",
        "SELECT 3, 'Charlie'\n",
        "UNION ALL\n",
        "SELECT 4, 'David';\n",
        "\"\"\"\n",
        "client.query(create_table_a).result()\n",
        "\n",
        "# Create the second table (Table B)\n",
        "create_table_b = \"\"\"\n",
        "CREATE OR REPLACE TABLE `webserver-150902.fantasy.table_b` AS\n",
        "SELECT 3 AS id, 'Charlie' AS name\n",
        "UNION ALL\n",
        "SELECT 4, 'David'\n",
        "UNION ALL\n",
        "SELECT 5, 'Eve'\n",
        "UNION ALL\n",
        "SELECT 6, 'Frank';\n",
        "\"\"\"\n",
        "client.query(create_table_b).result()"
      ],
      "metadata": {
        "colab": {
          "base_uri": "https://localhost:8080/"
        },
        "id": "kkLOBqYPmALy",
        "outputId": "e42205fa-36d9-4fea-e87d-73a2b694939c"
      },
      "execution_count": 28,
      "outputs": [
        {
          "output_type": "execute_result",
          "data": {
            "text/plain": [
              "<google.cloud.bigquery.table._EmptyRowIterator at 0x78aa24507250>"
            ]
          },
          "metadata": {},
          "execution_count": 28
        }
      ]
    },
    {
      "cell_type": "code",
      "source": [
        "#Try to replace 3rd line under SELECT statement\n",
        "#UNION ALL\n",
        "#UNION DISTINCT\n",
        "#INTERSECT DISTINCT\n",
        "get_tables = \"\"\"\n",
        "SELECT * FROM `webserver-150902.fantasy.table_a`\n",
        "UNION DISTINCT\n",
        "SELECT * FROM `webserver-150902.fantasy.table_b`\n",
        "\"\"\"\n",
        "\n",
        "# Execute the query and convert to a pandas DataFrame\n",
        "result_df = client.query(get_tables).to_dataframe()\n",
        "\n",
        "# Display the result\n",
        "print(result_df)"
      ],
      "metadata": {
        "collapsed": true,
        "colab": {
          "base_uri": "https://localhost:8080/"
        },
        "id": "pdKcBm9BaKum",
        "outputId": "409f04cc-aba9-435b-cfaa-72b08c4f20bb"
      },
      "execution_count": 38,
      "outputs": [
        {
          "output_type": "stream",
          "name": "stdout",
          "text": [
            "   id     name\n",
            "0   4    David\n",
            "1   5      Eve\n",
            "2   3  Charlie\n",
            "3   6    Frank\n",
            "4   2      Bob\n",
            "5   1    Alice\n"
          ]
        }
      ]
    },
    {
      "cell_type": "markdown",
      "source": [],
      "metadata": {
        "id": "ATMJOOCZjTWu"
      }
    },
    {
      "cell_type": "code",
      "source": [
        "get_tables = \"\"\"\n",
        "SELECT * FROM `webserver-150902.fantasy.characters_alive`\n",
        "INTERSECT DISTINCT\n",
        "SELECT * FROM `webserver-150902.fantasy.characters_dead`\n",
        "\"\"\"\n",
        "\n",
        "# Execute the query and convert to a pandas DataFrame\n",
        "result_df = client.query(get_tables).to_dataframe()\n",
        "\n",
        "# Display the result\n",
        "print(result_df)"
      ],
      "metadata": {
        "collapsed": true,
        "colab": {
          "base_uri": "https://localhost:8080/"
        },
        "id": "BLBfLLOBVLqM",
        "outputId": "2ab8c861-9e82-450a-f1c2-8367e1805df3"
      },
      "execution_count": 17,
      "outputs": [
        {
          "output_type": "stream",
          "name": "stdout",
          "text": [
            "Empty DataFrame\n",
            "Columns: [id, name, guild, class, level, experience, health, is_alive, last_active, mentor_id]\n",
            "Index: []\n"
          ]
        }
      ]
    },
    {
      "cell_type": "markdown",
      "source": [
        "![image.png](data:image/png;base64,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)"
      ],
      "metadata": {
        "id": "9k1TowZvYqvF"
      }
    },
    {
      "cell_type": "markdown",
      "source": [
        "Combine two tables which has different columns names"
      ],
      "metadata": {
        "id": "XJcSNhVOwlsh"
      }
    },
    {
      "cell_type": "code",
      "source": [
        "query = \"\"\"\n",
        "SELECT id, name, item_type, power, date_added\n",
        "FROM webserver-150902.fantasy.items\n",
        "UNION DISTINCT\n",
        "SELECT id, name, class, level, last_active\n",
        "FROM webserver-150902.fantasy.characters\n",
        "\"\"\"\n",
        "# Execute the query and convert to a pandas DataFrame\n",
        "result_df = client.query(query).to_dataframe()\n",
        "\n",
        "# Display the result\n",
        "print(result_df)\n"
      ],
      "metadata": {
        "colab": {
          "base_uri": "https://localhost:8080/"
        },
        "collapsed": true,
        "id": "6XQQHVkTwkP_",
        "outputId": "76bfa51c-dcd1-4d76-de06-b031dc50cef8"
      },
      "execution_count": 39,
      "outputs": [
        {
          "output_type": "stream",
          "name": "stdout",
          "text": [
            "    id                   name item_type  power                date_added\n",
            "0    6                Gandalf      Mage     30 2023-09-20 11:00:00+00:00\n",
            "1   10                 Sauron      Mage     40 2023-09-23 01:00:00+00:00\n",
            "2   11                Saruman      Mage     28 2023-09-20 03:00:00+00:00\n",
            "3   12                 Elrond      Mage     27 2023-09-21 04:00:00+00:00\n",
            "4    2                Legolas    Archer     22 2023-09-21 09:00:00+00:00\n",
            "5   13              Thranduil    Archer     26 2023-09-22 02:00:00+00:00\n",
            "6   15                Faramir    Archer     19 2023-09-20 06:00:00+00:00\n",
            "7    4                  Frodo    Hobbit     12 2023-09-23 10:00:00+00:00\n",
            "8    5                    Sam    Hobbit     13 2023-09-23 10:05:00+00:00\n",
            "9    8                  Merry    Hobbit     11 2023-09-22 10:00:00+00:00\n",
            "10   9                 Pippin    Hobbit     11 2023-09-22 10:01:00+00:00\n",
            "11   1                Aragorn   Warrior     25 2023-09-20 08:00:00+00:00\n",
            "12   3                  Gimli   Warrior     20 2023-09-22 07:00:00+00:00\n",
            "13   7                Boromir   Warrior     18 2023-09-21 12:00:00+00:00\n",
            "14  14                  Eowyn   Warrior     17 2023-09-23 05:00:00+00:00\n",
            "15   7        Chainmail Armor     Armor     70 2023-09-07 10:00:00+00:00\n",
            "16  20  Cloak of Invisibility     Armor     78 2023-09-20 07:30:00+00:00\n",
            "17   6          Leather Armor     Armor     40 2023-09-06 09:00:00+00:00\n",
            "18   8     Dragon Scale Armor     Armor     90 2023-09-08 11:00:00+00:00\n",
            "19   4         Healing Potion    Potion     50 2023-09-04 08:00:00+00:00\n",
            "20   5            Mana Potion    Potion     60 2023-09-05 08:30:00+00:00\n",
            "21  16         Stamina Elixir    Potion     30 2023-09-16 09:00:00+00:00\n",
            "22  15     Resurrection Stone    Potion     99 2023-09-15 08:30:00+00:00\n",
            "23   2              Elven Bow    Weapon     85 2023-09-02 10:00:00+00:00\n",
            "24   3            Dwarven Axe    Weapon     90 2023-09-03 11:00:00+00:00\n",
            "25  12           Elven Quiver    Weapon     82 2023-09-12 10:00:00+00:00\n",
            "26  14        Earthquake Rune    Weapon     88 2023-09-14 08:00:00+00:00\n",
            "27  19        Frostbite Blade    Weapon     91 2023-09-19 07:00:00+00:00\n",
            "28   9        Fireball Scroll    Weapon     75 2023-09-09 07:00:00+00:00\n",
            "29  10        Teleport Scroll    Weapon     80 2023-09-10 07:30:00+00:00\n",
            "30  17          Lightning Rod    Weapon     76 2023-09-17 10:00:00+00:00\n",
            "31  18           Steel Dagger    Weapon     65 2023-09-18 11:00:00+00:00\n",
            "32   1              Excalibur    Weapon    100 2023-09-01 09:00:00+00:00\n",
            "33  11          Mithril Sword    Weapon     95 2023-09-11 09:00:00+00:00\n",
            "34  13        Phoenix Feather    Weapon    100 2023-09-13 11:00:00+00:00\n"
          ]
        }
      ]
    }
  ],
  "metadata": {
    "colab": {
      "name": "Welcome To Colab",
      "provenance": [],
      "include_colab_link": true
    },
    "kernelspec": {
      "display_name": "Python 3",
      "name": "python3"
    }
  },
  "nbformat": 4,
  "nbformat_minor": 0
}